{
 "cells": [
  {
   "cell_type": "code",
   "execution_count": 3,
   "id": "surprising-basics",
   "metadata": {},
   "outputs": [
    {
     "data": {
      "text/html": [
       "'logical'"
      ],
      "text/latex": [
       "'logical'"
      ],
      "text/markdown": [
       "'logical'"
      ],
      "text/plain": [
       "[1] \"logical\""
      ]
     },
     "metadata": {},
     "output_type": "display_data"
    },
    {
     "data": {
      "text/html": [
       "'logical'"
      ],
      "text/latex": [
       "'logical'"
      ],
      "text/markdown": [
       "'logical'"
      ],
      "text/plain": [
       "[1] \"logical\""
      ]
     },
     "metadata": {},
     "output_type": "display_data"
    }
   ],
   "source": [
    "x <- TRUE    # <-  alt + -\n",
    "y <- FALSE   # R에서 실행은 alt + enter\n",
    "\n",
    "class(x); class(y);\n",
    "             # %>% 파이프 연산자 ctrl + shift +m"
   ]
  },
  {
   "cell_type": "code",
   "execution_count": 7,
   "id": "assigned-tiger",
   "metadata": {},
   "outputs": [
    {
     "data": {
      "text/html": [
       "<table>\n",
       "<tbody>\n",
       "\t<tr><td>1 </td><td> 6</td><td>11</td><td>16</td></tr>\n",
       "\t<tr><td>2 </td><td> 7</td><td>12</td><td>17</td></tr>\n",
       "\t<tr><td>3 </td><td> 8</td><td>13</td><td>18</td></tr>\n",
       "\t<tr><td>4 </td><td> 9</td><td>14</td><td>19</td></tr>\n",
       "\t<tr><td>5 </td><td>10</td><td>15</td><td>20</td></tr>\n",
       "</tbody>\n",
       "</table>\n"
      ],
      "text/latex": [
       "\\begin{tabular}{llll}\n",
       "\t 1  &  6 & 11 & 16\\\\\n",
       "\t 2  &  7 & 12 & 17\\\\\n",
       "\t 3  &  8 & 13 & 18\\\\\n",
       "\t 4  &  9 & 14 & 19\\\\\n",
       "\t 5  & 10 & 15 & 20\\\\\n",
       "\\end{tabular}\n"
      ],
      "text/markdown": [
       "\n",
       "| 1  |  6 | 11 | 16 |\n",
       "| 2  |  7 | 12 | 17 |\n",
       "| 3  |  8 | 13 | 18 |\n",
       "| 4  |  9 | 14 | 19 |\n",
       "| 5  | 10 | 15 | 20 |\n",
       "\n"
      ],
      "text/plain": [
       "     [,1] [,2] [,3] [,4]\n",
       "[1,] 1     6   11   16  \n",
       "[2,] 2     7   12   17  \n",
       "[3,] 3     8   13   18  \n",
       "[4,] 4     9   14   19  \n",
       "[5,] 5    10   15   20  "
      ]
     },
     "metadata": {},
     "output_type": "display_data"
    },
    {
     "data": {
      "text/html": [
       "TRUE"
      ],
      "text/latex": [
       "TRUE"
      ],
      "text/markdown": [
       "TRUE"
      ],
      "text/plain": [
       "[1] TRUE"
      ]
     },
     "metadata": {},
     "output_type": "display_data"
    }
   ],
   "source": [
    "# 1~20의 숫자 값으로 5행 4열을 생성#\n",
    "\n",
    "matrix(1:20,5,4)\n",
    "x"
   ]
  },
  {
   "cell_type": "code",
   "execution_count": 9,
   "id": "developing-german",
   "metadata": {},
   "outputs": [
    {
     "data": {
      "text/html": [
       "<table>\n",
       "<tbody>\n",
       "\t<tr><td> 1</td><td> 2</td><td> 3</td><td> 4</td></tr>\n",
       "\t<tr><td> 5</td><td> 6</td><td> 7</td><td> 8</td></tr>\n",
       "\t<tr><td> 9</td><td>10</td><td>11</td><td>12</td></tr>\n",
       "\t<tr><td>13</td><td>14</td><td>15</td><td>16</td></tr>\n",
       "\t<tr><td>17</td><td>18</td><td>19</td><td>20</td></tr>\n",
       "</tbody>\n",
       "</table>\n"
      ],
      "text/latex": [
       "\\begin{tabular}{llll}\n",
       "\t  1 &  2 &  3 &  4\\\\\n",
       "\t  5 &  6 &  7 &  8\\\\\n",
       "\t  9 & 10 & 11 & 12\\\\\n",
       "\t 13 & 14 & 15 & 16\\\\\n",
       "\t 17 & 18 & 19 & 20\\\\\n",
       "\\end{tabular}\n"
      ],
      "text/markdown": [
       "\n",
       "|  1 |  2 |  3 |  4 |\n",
       "|  5 |  6 |  7 |  8 |\n",
       "|  9 | 10 | 11 | 12 |\n",
       "| 13 | 14 | 15 | 16 |\n",
       "| 17 | 18 | 19 | 20 |\n",
       "\n"
      ],
      "text/plain": [
       "     [,1] [,2] [,3] [,4]\n",
       "[1,]  1    2    3    4  \n",
       "[2,]  5    6    7    8  \n",
       "[3,]  9   10   11   12  \n",
       "[4,] 13   14   15   16  \n",
       "[5,] 17   18   19   20  "
      ]
     },
     "metadata": {},
     "output_type": "display_data"
    }
   ],
   "source": [
    "#행렬은 왼쪽부터 위에서 아래로 열을 채우지만 byrow는 행을 먼저 채우게함.\n",
    "\n",
    "matrix(1:20,5,4, byrow = TRUE)"
   ]
  },
  {
   "cell_type": "code",
   "execution_count": null,
   "id": "informal-redhead",
   "metadata": {},
   "outputs": [],
   "source": [
    "## 배열 array , 행렬과 비슷하나 차원 속성을 가진 데이터 구조## "
   ]
  },
  {
   "cell_type": "code",
   "execution_count": 4,
   "id": "determined-party",
   "metadata": {},
   "outputs": [
    {
     "data": {
      "text/html": [
       "<table>\n",
       "<thead><tr><th scope=col>name</th><th scope=col>age</th><th scope=col>height</th><th scope=col>weight</th></tr></thead>\n",
       "<tbody>\n",
       "\t<tr><td>kim </td><td>32  </td><td>170 </td><td>63  </td></tr>\n",
       "\t<tr><td>lee </td><td>25  </td><td>175 </td><td>66  </td></tr>\n",
       "\t<tr><td>choi</td><td>18  </td><td>168 </td><td>59  </td></tr>\n",
       "\t<tr><td>park</td><td>39  </td><td>180 </td><td>70  </td></tr>\n",
       "</tbody>\n",
       "</table>\n"
      ],
      "text/latex": [
       "\\begin{tabular}{r|llll}\n",
       " name & age & height & weight\\\\\n",
       "\\hline\n",
       "\t kim  & 32   & 170  & 63  \\\\\n",
       "\t lee  & 25   & 175  & 66  \\\\\n",
       "\t choi & 18   & 168  & 59  \\\\\n",
       "\t park & 39   & 180  & 70  \\\\\n",
       "\\end{tabular}\n"
      ],
      "text/markdown": [
       "\n",
       "| name | age | height | weight |\n",
       "|---|---|---|---|\n",
       "| kim  | 32   | 170  | 63   |\n",
       "| lee  | 25   | 175  | 66   |\n",
       "| choi | 18   | 168  | 59   |\n",
       "| park | 39   | 180  | 70   |\n",
       "\n"
      ],
      "text/plain": [
       "  name age height weight\n",
       "1 kim  32  170    63    \n",
       "2 lee  25  175    66    \n",
       "3 choi 18  168    59    \n",
       "4 park 39  180    70    "
      ]
     },
     "metadata": {},
     "output_type": "display_data"
    }
   ],
   "source": [
    "## 행과 열을 각각 네 개씩 갖는 데이터 프레임 ###\n",
    "#데이터 프레임을 칠 일은 없다, 빅데이터를 데이터 프레임으로 분석하는데 주로 쓰임.\n",
    "\n",
    "df <- data.frame(name = c(\"kim\",\"lee\",\"choi\",\"park\"),age = c(32,25,18,39),height = c(170,175,168,180),weight = c(63,66,59,70))\n",
    "df\n",
    "\n",
    "\n"
   ]
  },
  {
   "cell_type": "code",
   "execution_count": 5,
   "id": "infrared-holocaust",
   "metadata": {},
   "outputs": [
    {
     "data": {
      "text/html": [
       "'data.frame'"
      ],
      "text/latex": [
       "'data.frame'"
      ],
      "text/markdown": [
       "'data.frame'"
      ],
      "text/plain": [
       "[1] \"data.frame\""
      ]
     },
     "metadata": {},
     "output_type": "display_data"
    }
   ],
   "source": [
    "class(df)"
   ]
  },
  {
   "cell_type": "code",
   "execution_count": 10,
   "id": "prompt-front",
   "metadata": {},
   "outputs": [
    {
     "data": {
      "text/html": [
       "<table>\n",
       "<thead><tr><th scope=col>name</th><th scope=col>age</th><th scope=col>height</th><th scope=col>weight</th></tr></thead>\n",
       "<tbody>\n",
       "\t<tr><td>kim</td><td>32 </td><td>170</td><td>63 </td></tr>\n",
       "</tbody>\n",
       "</table>\n"
      ],
      "text/latex": [
       "\\begin{tabular}{r|llll}\n",
       " name & age & height & weight\\\\\n",
       "\\hline\n",
       "\t kim & 32  & 170 & 63 \\\\\n",
       "\\end{tabular}\n"
      ],
      "text/markdown": [
       "\n",
       "| name | age | height | weight |\n",
       "|---|---|---|---|\n",
       "| kim | 32  | 170 | 63  |\n",
       "\n"
      ],
      "text/plain": [
       "  name age height weight\n",
       "1 kim  32  170    63    "
      ]
     },
     "metadata": {},
     "output_type": "display_data"
    }
   ],
   "source": [
    "df[1,]"
   ]
  },
  {
   "cell_type": "code",
   "execution_count": 11,
   "id": "informal-burke",
   "metadata": {},
   "outputs": [
    {
     "data": {
      "text/html": [
       "<table>\n",
       "<thead><tr><th></th><th scope=col>name</th><th scope=col>age</th><th scope=col>height</th><th scope=col>weight</th></tr></thead>\n",
       "<tbody>\n",
       "\t<tr><th scope=row>1</th><td>kim </td><td>32  </td><td>170 </td><td>63  </td></tr>\n",
       "\t<tr><th scope=row>3</th><td>choi</td><td>18  </td><td>168 </td><td>59  </td></tr>\n",
       "</tbody>\n",
       "</table>\n"
      ],
      "text/latex": [
       "\\begin{tabular}{r|llll}\n",
       "  & name & age & height & weight\\\\\n",
       "\\hline\n",
       "\t1 & kim  & 32   & 170  & 63  \\\\\n",
       "\t3 & choi & 18   & 168  & 59  \\\\\n",
       "\\end{tabular}\n"
      ],
      "text/markdown": [
       "\n",
       "| <!--/--> | name | age | height | weight |\n",
       "|---|---|---|---|---|\n",
       "| 1 | kim  | 32   | 170  | 63   |\n",
       "| 3 | choi | 18   | 168  | 59   |\n",
       "\n"
      ],
      "text/plain": [
       "  name age height weight\n",
       "1 kim  32  170    63    \n",
       "3 choi 18  168    59    "
      ]
     },
     "metadata": {},
     "output_type": "display_data"
    }
   ],
   "source": [
    "df[c(1,3),]"
   ]
  },
  {
   "cell_type": "code",
   "execution_count": 12,
   "id": "mysterious-victory",
   "metadata": {},
   "outputs": [
    {
     "data": {
      "text/html": [
       "<ol class=list-inline>\n",
       "\t<li>32</li>\n",
       "\t<li>25</li>\n",
       "\t<li>18</li>\n",
       "\t<li>39</li>\n",
       "</ol>\n"
      ],
      "text/latex": [
       "\\begin{enumerate*}\n",
       "\\item 32\n",
       "\\item 25\n",
       "\\item 18\n",
       "\\item 39\n",
       "\\end{enumerate*}\n"
      ],
      "text/markdown": [
       "1. 32\n",
       "2. 25\n",
       "3. 18\n",
       "4. 39\n",
       "\n",
       "\n"
      ],
      "text/plain": [
       "[1] 32 25 18 39"
      ]
     },
     "metadata": {},
     "output_type": "display_data"
    }
   ],
   "source": [
    "df[,2]"
   ]
  },
  {
   "cell_type": "code",
   "execution_count": 18,
   "id": "hazardous-lloyd",
   "metadata": {},
   "outputs": [
    {
     "data": {
      "text/html": [
       "<table>\n",
       "<thead><tr><th scope=col>height</th></tr></thead>\n",
       "<tbody>\n",
       "\t<tr><td>170</td></tr>\n",
       "\t<tr><td>175</td></tr>\n",
       "\t<tr><td>168</td></tr>\n",
       "\t<tr><td>180</td></tr>\n",
       "</tbody>\n",
       "</table>\n"
      ],
      "text/latex": [
       "\\begin{tabular}{r|l}\n",
       " height\\\\\n",
       "\\hline\n",
       "\t 170\\\\\n",
       "\t 175\\\\\n",
       "\t 168\\\\\n",
       "\t 180\\\\\n",
       "\\end{tabular}\n"
      ],
      "text/markdown": [
       "\n",
       "| height |\n",
       "|---|\n",
       "| 170 |\n",
       "| 175 |\n",
       "| 168 |\n",
       "| 180 |\n",
       "\n"
      ],
      "text/plain": [
       "  height\n",
       "1 170   \n",
       "2 175   \n",
       "3 168   \n",
       "4 180   "
      ]
     },
     "metadata": {},
     "output_type": "display_data"
    }
   ],
   "source": [
    "# 열 하나만 세로 그대로 출력 drop = FALSE\n",
    "\n",
    "df[,3,drop = FALSE]"
   ]
  },
  {
   "cell_type": "code",
   "execution_count": 19,
   "id": "extraordinary-louis",
   "metadata": {},
   "outputs": [
    {
     "data": {
      "text/html": [
       "25"
      ],
      "text/latex": [
       "25"
      ],
      "text/markdown": [
       "25"
      ],
      "text/plain": [
       "[1] 25"
      ]
     },
     "metadata": {},
     "output_type": "display_data"
    }
   ],
   "source": [
    "df[2,2]"
   ]
  },
  {
   "cell_type": "code",
   "execution_count": 27,
   "id": "impressive-waste",
   "metadata": {},
   "outputs": [
    {
     "data": {
      "text/html": [
       "<table>\n",
       "<thead><tr><th></th><th scope=col>name</th><th scope=col>age</th><th scope=col>height</th><th scope=col>weight</th></tr></thead>\n",
       "<tbody>\n",
       "\t<tr><th scope=row>one</th><td>kim </td><td>32  </td><td>170 </td><td>63  </td></tr>\n",
       "\t<tr><th scope=row>two</th><td>lee </td><td>25  </td><td>175 </td><td>66  </td></tr>\n",
       "\t<tr><th scope=row>three</th><td>choi</td><td>18  </td><td>168 </td><td>59  </td></tr>\n",
       "\t<tr><th scope=row>four</th><td>park</td><td>39  </td><td>180 </td><td>70  </td></tr>\n",
       "</tbody>\n",
       "</table>\n"
      ],
      "text/latex": [
       "\\begin{tabular}{r|llll}\n",
       "  & name & age & height & weight\\\\\n",
       "\\hline\n",
       "\tone & kim  & 32   & 170  & 63  \\\\\n",
       "\ttwo & lee  & 25   & 175  & 66  \\\\\n",
       "\tthree & choi & 18   & 168  & 59  \\\\\n",
       "\tfour & park & 39   & 180  & 70  \\\\\n",
       "\\end{tabular}\n"
      ],
      "text/markdown": [
       "\n",
       "| <!--/--> | name | age | height | weight |\n",
       "|---|---|---|---|---|\n",
       "| one | kim  | 32   | 170  | 63   |\n",
       "| two | lee  | 25   | 175  | 66   |\n",
       "| three | choi | 18   | 168  | 59   |\n",
       "| four | park | 39   | 180  | 70   |\n",
       "\n"
      ],
      "text/plain": [
       "      name age height weight\n",
       "one   kim  32  170    63    \n",
       "two   lee  25  175    66    \n",
       "three choi 18  168    59    \n",
       "four  park 39  180    70    "
      ]
     },
     "metadata": {},
     "output_type": "display_data"
    }
   ],
   "source": [
    "#열에다가 이름 붙혀주기\n",
    "\n",
    "rownames(df) <-c(\"one\",\"two\",\"three\",\"four\")\n",
    "df"
   ]
  },
  {
   "cell_type": "code",
   "execution_count": 26,
   "id": "appointed-description",
   "metadata": {},
   "outputs": [
    {
     "data": {
      "text/html": [
       "<table>\n",
       "<thead><tr><th></th><th scope=col>name</th><th scope=col>age</th></tr></thead>\n",
       "<tbody>\n",
       "\t<tr><th scope=row>one</th><td>kim</td><td>32 </td></tr>\n",
       "\t<tr><th scope=row>two</th><td>lee</td><td>25 </td></tr>\n",
       "</tbody>\n",
       "</table>\n"
      ],
      "text/latex": [
       "\\begin{tabular}{r|ll}\n",
       "  & name & age\\\\\n",
       "\\hline\n",
       "\tone & kim & 32 \\\\\n",
       "\ttwo & lee & 25 \\\\\n",
       "\\end{tabular}\n"
      ],
      "text/markdown": [
       "\n",
       "| <!--/--> | name | age |\n",
       "|---|---|---|\n",
       "| one | kim | 32  |\n",
       "| two | lee | 25  |\n",
       "\n"
      ],
      "text/plain": [
       "    name age\n",
       "one kim  32 \n",
       "two lee  25 "
      ]
     },
     "metadata": {},
     "output_type": "display_data"
    }
   ],
   "source": [
    "df[c(\"one\",\"two\"),c(\"name\",\"age\")]"
   ]
  },
  {
   "cell_type": "code",
   "execution_count": 25,
   "id": "heated-parent",
   "metadata": {},
   "outputs": [
    {
     "data": {
      "text/html": [
       "<ol class=list-inline>\n",
       "\t<li>170</li>\n",
       "\t<li>175</li>\n",
       "\t<li>168</li>\n",
       "\t<li>180</li>\n",
       "</ol>\n"
      ],
      "text/latex": [
       "\\begin{enumerate*}\n",
       "\\item 170\n",
       "\\item 175\n",
       "\\item 168\n",
       "\\item 180\n",
       "\\end{enumerate*}\n"
      ],
      "text/markdown": [
       "1. 170\n",
       "2. 175\n",
       "3. 168\n",
       "4. 180\n",
       "\n",
       "\n"
      ],
      "text/plain": [
       "[1] 170 175 168 180"
      ]
     },
     "metadata": {},
     "output_type": "display_data"
    }
   ],
   "source": [
    "# 더 직관적인 표현\n",
    "\n",
    "df$\"height\"\n"
   ]
  },
  {
   "cell_type": "code",
   "execution_count": 30,
   "id": "intermediate-breed",
   "metadata": {},
   "outputs": [
    {
     "data": {
      "text/html": [
       "<table>\n",
       "<thead><tr><th scope=col>이름</th><th scope=col>나이</th><th scope=col>성별</th><th scope=col>전공</th></tr></thead>\n",
       "<tbody>\n",
       "\t<tr><td>민준</td><td>22  </td><td>남  </td><td>수학</td></tr>\n",
       "\t<tr><td>유리</td><td>20  </td><td>여  </td><td>영문</td></tr>\n",
       "\t<tr><td>재희</td><td>21  </td><td>남  </td><td>경영</td></tr>\n",
       "</tbody>\n",
       "</table>\n"
      ],
      "text/latex": [
       "\\begin{tabular}{r|llll}\n",
       " 이름 & 나이 & 성별 & 전공\\\\\n",
       "\\hline\n",
       "\t 민준 & 22   & 남   & 수학\\\\\n",
       "\t 유리 & 20   & 여   & 영문\\\\\n",
       "\t 재희 & 21   & 남   & 경영\\\\\n",
       "\\end{tabular}\n"
      ],
      "text/markdown": [
       "\n",
       "| 이름 | 나이 | 성별 | 전공 |\n",
       "|---|---|---|---|\n",
       "| 민준 | 22   | 남   | 수학 |\n",
       "| 유리 | 20   | 여   | 영문 |\n",
       "| 재희 | 21   | 남   | 경영 |\n",
       "\n"
      ],
      "text/plain": [
       "  이름 나이 성별 전공\n",
       "1 민준 22   남   수학\n",
       "2 유리 20   여   영문\n",
       "3 재희 21   남   경영"
      ]
     },
     "metadata": {},
     "output_type": "display_data"
    }
   ],
   "source": [
    "#데이터 프레임 만들기\n",
    "\n",
    "\n",
    "df <- data.frame(이름 = c(\"민준\",\"유리\",\"재희\"),나이 = c(22,20,21),성별 = c(\"남\",\"여\",\"남\"),전공 = c(\"수학\",\"영문\",\"경영\"))\n",
    "df"
   ]
  },
  {
   "cell_type": "code",
   "execution_count": 38,
   "id": "motivated-welsh",
   "metadata": {},
   "outputs": [
    {
     "data": {
      "text/html": [
       "<ol class=list-inline>\n",
       "\t<li>민준</li>\n",
       "\t<li>유리</li>\n",
       "\t<li>재희</li>\n",
       "</ol>\n",
       "\n",
       "<details>\n",
       "\t<summary style=display:list-item;cursor:pointer>\n",
       "\t\t<strong>Levels</strong>:\n",
       "\t</summary>\n",
       "\t<ol class=list-inline>\n",
       "\t\t<li>'민준'</li>\n",
       "\t\t<li>'유리'</li>\n",
       "\t\t<li>'재희'</li>\n",
       "\t</ol>\n",
       "</details>"
      ],
      "text/latex": [
       "\\begin{enumerate*}\n",
       "\\item 민준\n",
       "\\item 유리\n",
       "\\item 재희\n",
       "\\end{enumerate*}\n",
       "\n",
       "\\emph{Levels}: \\begin{enumerate*}\n",
       "\\item '민준'\n",
       "\\item '유리'\n",
       "\\item '재희'\n",
       "\\end{enumerate*}\n"
      ],
      "text/markdown": [
       "1. 민준\n",
       "2. 유리\n",
       "3. 재희\n",
       "\n",
       "\n",
       "\n",
       "**Levels**: 1. '민준'\n",
       "2. '유리'\n",
       "3. '재희'\n",
       "\n",
       "\n"
      ],
      "text/plain": [
       "[1] 민준 유리 재희\n",
       "Levels: 민준 유리 재희"
      ]
     },
     "metadata": {},
     "output_type": "display_data"
    },
    {
     "data": {
      "text/html": [
       "<ol class=list-inline>\n",
       "\t<li>22</li>\n",
       "\t<li>20</li>\n",
       "\t<li>21</li>\n",
       "</ol>\n"
      ],
      "text/latex": [
       "\\begin{enumerate*}\n",
       "\\item 22\n",
       "\\item 20\n",
       "\\item 21\n",
       "\\end{enumerate*}\n"
      ],
      "text/markdown": [
       "1. 22\n",
       "2. 20\n",
       "3. 21\n",
       "\n",
       "\n"
      ],
      "text/plain": [
       "[1] 22 20 21"
      ]
     },
     "metadata": {},
     "output_type": "display_data"
    },
    {
     "data": {
      "text/html": [
       "<ol class=list-inline>\n",
       "\t<li>남</li>\n",
       "\t<li>여</li>\n",
       "\t<li>남</li>\n",
       "</ol>\n",
       "\n",
       "<details>\n",
       "\t<summary style=display:list-item;cursor:pointer>\n",
       "\t\t<strong>Levels</strong>:\n",
       "\t</summary>\n",
       "\t<ol class=list-inline>\n",
       "\t\t<li>'남'</li>\n",
       "\t\t<li>'여'</li>\n",
       "\t</ol>\n",
       "</details>"
      ],
      "text/latex": [
       "\\begin{enumerate*}\n",
       "\\item 남\n",
       "\\item 여\n",
       "\\item 남\n",
       "\\end{enumerate*}\n",
       "\n",
       "\\emph{Levels}: \\begin{enumerate*}\n",
       "\\item '남'\n",
       "\\item '여'\n",
       "\\end{enumerate*}\n"
      ],
      "text/markdown": [
       "1. 남\n",
       "2. 여\n",
       "3. 남\n",
       "\n",
       "\n",
       "\n",
       "**Levels**: 1. '남'\n",
       "2. '여'\n",
       "\n",
       "\n"
      ],
      "text/plain": [
       "[1] 남 여 남\n",
       "Levels: 남 여"
      ]
     },
     "metadata": {},
     "output_type": "display_data"
    },
    {
     "data": {
      "text/html": [
       "<ol class=list-inline>\n",
       "\t<li>수학</li>\n",
       "\t<li>영문</li>\n",
       "\t<li>경영</li>\n",
       "</ol>\n",
       "\n",
       "<details>\n",
       "\t<summary style=display:list-item;cursor:pointer>\n",
       "\t\t<strong>Levels</strong>:\n",
       "\t</summary>\n",
       "\t<ol class=list-inline>\n",
       "\t\t<li>'경영'</li>\n",
       "\t\t<li>'수학'</li>\n",
       "\t\t<li>'영문'</li>\n",
       "\t</ol>\n",
       "</details>"
      ],
      "text/latex": [
       "\\begin{enumerate*}\n",
       "\\item 수학\n",
       "\\item 영문\n",
       "\\item 경영\n",
       "\\end{enumerate*}\n",
       "\n",
       "\\emph{Levels}: \\begin{enumerate*}\n",
       "\\item '경영'\n",
       "\\item '수학'\n",
       "\\item '영문'\n",
       "\\end{enumerate*}\n"
      ],
      "text/markdown": [
       "1. 수학\n",
       "2. 영문\n",
       "3. 경영\n",
       "\n",
       "\n",
       "\n",
       "**Levels**: 1. '경영'\n",
       "2. '수학'\n",
       "3. '영문'\n",
       "\n",
       "\n"
      ],
      "text/plain": [
       "[1] 수학 영문 경영\n",
       "Levels: 경영 수학 영문"
      ]
     },
     "metadata": {},
     "output_type": "display_data"
    }
   ],
   "source": [
    "# 열 별로 전부 각각 데이터 추출하기 ($ 사용)\n",
    "df$\"이름\"\n",
    "df$\"나이\"\n",
    "df$\"성별\"\n",
    "df$\"전공\"\n",
    "\n"
   ]
  },
  {
   "cell_type": "code",
   "execution_count": 42,
   "id": "nominated-commitment",
   "metadata": {},
   "outputs": [
    {
     "data": {
      "text/html": [
       "<table>\n",
       "<thead><tr><th scope=col>이름</th><th scope=col>나이</th><th scope=col>성별</th><th scope=col>전공</th></tr></thead>\n",
       "<tbody>\n",
       "\t<tr><td>민준</td><td>22  </td><td>남  </td><td>수학</td></tr>\n",
       "</tbody>\n",
       "</table>\n"
      ],
      "text/latex": [
       "\\begin{tabular}{r|llll}\n",
       " 이름 & 나이 & 성별 & 전공\\\\\n",
       "\\hline\n",
       "\t 민준 & 22   & 남   & 수학\\\\\n",
       "\\end{tabular}\n"
      ],
      "text/markdown": [
       "\n",
       "| 이름 | 나이 | 성별 | 전공 |\n",
       "|---|---|---|---|\n",
       "| 민준 | 22   | 남   | 수학 |\n",
       "\n"
      ],
      "text/plain": [
       "  이름 나이 성별 전공\n",
       "1 민준 22   남   수학"
      ]
     },
     "metadata": {},
     "output_type": "display_data"
    },
    {
     "data": {
      "text/html": [
       "<table>\n",
       "<thead><tr><th></th><th scope=col>이름</th><th scope=col>나이</th><th scope=col>성별</th><th scope=col>전공</th></tr></thead>\n",
       "<tbody>\n",
       "\t<tr><th scope=row>2</th><td>유리</td><td>20  </td><td>여  </td><td>영문</td></tr>\n",
       "</tbody>\n",
       "</table>\n"
      ],
      "text/latex": [
       "\\begin{tabular}{r|llll}\n",
       "  & 이름 & 나이 & 성별 & 전공\\\\\n",
       "\\hline\n",
       "\t2 & 유리 & 20   & 여   & 영문\\\\\n",
       "\\end{tabular}\n"
      ],
      "text/markdown": [
       "\n",
       "| <!--/--> | 이름 | 나이 | 성별 | 전공 |\n",
       "|---|---|---|---|---|\n",
       "| 2 | 유리 | 20   | 여   | 영문 |\n",
       "\n"
      ],
      "text/plain": [
       "  이름 나이 성별 전공\n",
       "2 유리 20   여   영문"
      ]
     },
     "metadata": {},
     "output_type": "display_data"
    },
    {
     "data": {
      "text/html": [
       "<table>\n",
       "<thead><tr><th></th><th scope=col>이름</th><th scope=col>나이</th><th scope=col>성별</th><th scope=col>전공</th></tr></thead>\n",
       "<tbody>\n",
       "\t<tr><th scope=row>3</th><td>재희</td><td>21  </td><td>남  </td><td>경영</td></tr>\n",
       "</tbody>\n",
       "</table>\n"
      ],
      "text/latex": [
       "\\begin{tabular}{r|llll}\n",
       "  & 이름 & 나이 & 성별 & 전공\\\\\n",
       "\\hline\n",
       "\t3 & 재희 & 21   & 남   & 경영\\\\\n",
       "\\end{tabular}\n"
      ],
      "text/markdown": [
       "\n",
       "| <!--/--> | 이름 | 나이 | 성별 | 전공 |\n",
       "|---|---|---|---|---|\n",
       "| 3 | 재희 | 21   | 남   | 경영 |\n",
       "\n"
      ],
      "text/plain": [
       "  이름 나이 성별 전공\n",
       "3 재희 21   남   경영"
      ]
     },
     "metadata": {},
     "output_type": "display_data"
    }
   ],
   "source": [
    "# 행 별로 전부 각각 데이터 추출하기\n",
    "\n",
    "df[1,]\n",
    "df[2,]\n",
    "df[3,]"
   ]
  },
  {
   "cell_type": "code",
   "execution_count": 44,
   "id": "digital-popularity",
   "metadata": {},
   "outputs": [
    {
     "data": {
      "text/html": [
       "<table>\n",
       "<thead><tr><th></th><th scope=col>이름</th><th scope=col>나이</th><th scope=col>성별</th><th scope=col>전공</th></tr></thead>\n",
       "<tbody>\n",
       "\t<tr><th scope=row>2</th><td>유리</td><td>20  </td><td>여  </td><td>영문</td></tr>\n",
       "\t<tr><th scope=row>3</th><td>재희</td><td>21  </td><td>남  </td><td>경영</td></tr>\n",
       "</tbody>\n",
       "</table>\n"
      ],
      "text/latex": [
       "\\begin{tabular}{r|llll}\n",
       "  & 이름 & 나이 & 성별 & 전공\\\\\n",
       "\\hline\n",
       "\t2 & 유리 & 20   & 여   & 영문\\\\\n",
       "\t3 & 재희 & 21   & 남   & 경영\\\\\n",
       "\\end{tabular}\n"
      ],
      "text/markdown": [
       "\n",
       "| <!--/--> | 이름 | 나이 | 성별 | 전공 |\n",
       "|---|---|---|---|---|\n",
       "| 2 | 유리 | 20   | 여   | 영문 |\n",
       "| 3 | 재희 | 21   | 남   | 경영 |\n",
       "\n"
      ],
      "text/plain": [
       "  이름 나이 성별 전공\n",
       "2 유리 20   여   영문\n",
       "3 재희 21   남   경영"
      ]
     },
     "metadata": {},
     "output_type": "display_data"
    }
   ],
   "source": [
    "# 유리와 재희의 정보만 추출하기\n",
    "\n",
    "df[c(2,3),]"
   ]
  },
  {
   "cell_type": "code",
   "execution_count": 53,
   "id": "aware-virtue",
   "metadata": {},
   "outputs": [
    {
     "data": {
      "text/html": [
       "<ol class=list-inline>\n",
       "\t<li>22</li>\n",
       "\t<li>20</li>\n",
       "\t<li>21</li>\n",
       "</ol>\n"
      ],
      "text/latex": [
       "\\begin{enumerate*}\n",
       "\\item 22\n",
       "\\item 20\n",
       "\\item 21\n",
       "\\end{enumerate*}\n"
      ],
      "text/markdown": [
       "1. 22\n",
       "2. 20\n",
       "3. 21\n",
       "\n",
       "\n"
      ],
      "text/plain": [
       "[1] 22 20 21"
      ]
     },
     "metadata": {},
     "output_type": "display_data"
    },
    {
     "data": {
      "text/html": [
       "<ol class=list-inline>\n",
       "\t<li>남</li>\n",
       "\t<li>여</li>\n",
       "\t<li>남</li>\n",
       "</ol>\n",
       "\n",
       "<details>\n",
       "\t<summary style=display:list-item;cursor:pointer>\n",
       "\t\t<strong>Levels</strong>:\n",
       "\t</summary>\n",
       "\t<ol class=list-inline>\n",
       "\t\t<li>'남'</li>\n",
       "\t\t<li>'여'</li>\n",
       "\t</ol>\n",
       "</details>"
      ],
      "text/latex": [
       "\\begin{enumerate*}\n",
       "\\item 남\n",
       "\\item 여\n",
       "\\item 남\n",
       "\\end{enumerate*}\n",
       "\n",
       "\\emph{Levels}: \\begin{enumerate*}\n",
       "\\item '남'\n",
       "\\item '여'\n",
       "\\end{enumerate*}\n"
      ],
      "text/markdown": [
       "1. 남\n",
       "2. 여\n",
       "3. 남\n",
       "\n",
       "\n",
       "\n",
       "**Levels**: 1. '남'\n",
       "2. '여'\n",
       "\n",
       "\n"
      ],
      "text/plain": [
       "[1] 남 여 남\n",
       "Levels: 남 여"
      ]
     },
     "metadata": {},
     "output_type": "display_data"
    }
   ],
   "source": [
    "# 나이와 성별의 정보만 추출하기 ($ 사용)\n",
    "\n",
    "df$\"나이\"\n",
    "df$\"성별\""
   ]
  },
  {
   "cell_type": "code",
   "execution_count": null,
   "id": "substantial-denver",
   "metadata": {},
   "outputs": [],
   "source": []
  },
  {
   "cell_type": "code",
   "execution_count": null,
   "id": "furnished-comparative",
   "metadata": {},
   "outputs": [],
   "source": []
  },
  {
   "cell_type": "code",
   "execution_count": null,
   "id": "harmful-dynamics",
   "metadata": {},
   "outputs": [],
   "source": []
  },
  {
   "cell_type": "code",
   "execution_count": null,
   "id": "historic-cooking",
   "metadata": {},
   "outputs": [],
   "source": []
  },
  {
   "cell_type": "code",
   "execution_count": null,
   "id": "appointed-basic",
   "metadata": {},
   "outputs": [],
   "source": []
  },
  {
   "cell_type": "code",
   "execution_count": null,
   "id": "sharp-discretion",
   "metadata": {},
   "outputs": [],
   "source": []
  },
  {
   "cell_type": "code",
   "execution_count": null,
   "id": "soviet-basis",
   "metadata": {},
   "outputs": [],
   "source": []
  },
  {
   "cell_type": "code",
   "execution_count": null,
   "id": "endless-burns",
   "metadata": {},
   "outputs": [],
   "source": []
  }
 ],
 "metadata": {
  "kernelspec": {
   "display_name": "R",
   "language": "R",
   "name": "ir"
  },
  "language_info": {
   "codemirror_mode": "r",
   "file_extension": ".r",
   "mimetype": "text/x-r-source",
   "name": "R",
   "pygments_lexer": "r",
   "version": "3.6.1"
  }
 },
 "nbformat": 4,
 "nbformat_minor": 5
}
