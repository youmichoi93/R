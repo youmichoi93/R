{
 "cells": [
  {
   "cell_type": "code",
   "execution_count": 3,
   "id": "premier-rates",
   "metadata": {},
   "outputs": [
    {
     "data": {
      "text/html": [
       "<ol class=list-inline>\n",
       "\t<li>0.25</li>\n",
       "\t<li>0.5</li>\n",
       "\t<li>0.75</li>\n",
       "\t<li>1</li>\n",
       "\t<li>1.25</li>\n",
       "</ol>\n"
      ],
      "text/latex": [
       "\\begin{enumerate*}\n",
       "\\item 0.25\n",
       "\\item 0.5\n",
       "\\item 0.75\n",
       "\\item 1\n",
       "\\item 1.25\n",
       "\\end{enumerate*}\n"
      ],
      "text/markdown": [
       "1. 0.25\n",
       "2. 0.5\n",
       "3. 0.75\n",
       "4. 1\n",
       "5. 1.25\n",
       "\n",
       "\n"
      ],
      "text/plain": [
       "[1] 0.25 0.50 0.75 1.00 1.25"
      ]
     },
     "metadata": {},
     "output_type": "display_data"
    }
   ],
   "source": [
    "x <- c(1,2,3,4,5)/4\n",
    "x\n",
    "\n",
    "# x를 4로 나눔"
   ]
  },
  {
   "cell_type": "code",
   "execution_count": 4,
   "id": "flying-guatemala",
   "metadata": {},
   "outputs": [
    {
     "data": {
      "text/html": [
       "<ol class=list-inline>\n",
       "\t<li>0</li>\n",
       "\t<li>0</li>\n",
       "\t<li>1</li>\n",
       "\t<li>1</li>\n",
       "\t<li>1</li>\n",
       "</ol>\n"
      ],
      "text/latex": [
       "\\begin{enumerate*}\n",
       "\\item 0\n",
       "\\item 0\n",
       "\\item 1\n",
       "\\item 1\n",
       "\\item 1\n",
       "\\end{enumerate*}\n"
      ],
      "text/markdown": [
       "1. 0\n",
       "2. 0\n",
       "3. 1\n",
       "4. 1\n",
       "5. 1\n",
       "\n",
       "\n"
      ],
      "text/plain": [
       "[1] 0 0 1 1 1"
      ]
     },
     "metadata": {},
     "output_type": "display_data"
    }
   ],
   "source": [
    "#소수점 첫쨰 자리에서 반올림\n",
    "round(x,0)\n"
   ]
  },
  {
   "cell_type": "code",
   "execution_count": 14,
   "id": "primary-vulnerability",
   "metadata": {},
   "outputs": [
    {
     "data": {
      "text/html": [
       "<ol class=list-inline>\n",
       "\t<li>1</li>\n",
       "\t<li>2</li>\n",
       "\t<li>3</li>\n",
       "\t<li>4</li>\n",
       "\t<li>5</li>\n",
       "</ol>\n"
      ],
      "text/latex": [
       "\\begin{enumerate*}\n",
       "\\item 1\n",
       "\\item 2\n",
       "\\item 3\n",
       "\\item 4\n",
       "\\item 5\n",
       "\\end{enumerate*}\n"
      ],
      "text/markdown": [
       "1. 1\n",
       "2. 2\n",
       "3. 3\n",
       "4. 4\n",
       "5. 5\n",
       "\n",
       "\n"
      ],
      "text/plain": [
       "[1] 1 2 3 4 5"
      ]
     },
     "metadata": {},
     "output_type": "display_data"
    }
   ],
   "source": [
    "# 소수점 이하를 내림\n",
    "floor(x)\n"
   ]
  },
  {
   "cell_type": "code",
   "execution_count": 6,
   "id": "intellectual-couple",
   "metadata": {},
   "outputs": [
    {
     "data": {
      "text/html": [
       "<ol class=list-inline>\n",
       "\t<li>1</li>\n",
       "\t<li>1</li>\n",
       "\t<li>1</li>\n",
       "\t<li>1</li>\n",
       "\t<li>2</li>\n",
       "</ol>\n"
      ],
      "text/latex": [
       "\\begin{enumerate*}\n",
       "\\item 1\n",
       "\\item 1\n",
       "\\item 1\n",
       "\\item 1\n",
       "\\item 2\n",
       "\\end{enumerate*}\n"
      ],
      "text/markdown": [
       "1. 1\n",
       "2. 1\n",
       "3. 1\n",
       "4. 1\n",
       "5. 2\n",
       "\n",
       "\n"
      ],
      "text/plain": [
       "[1] 1 1 1 1 2"
      ]
     },
     "metadata": {},
     "output_type": "display_data"
    }
   ],
   "source": [
    "#소수점 이하를 올림\n",
    "ceiling(x)"
   ]
  },
  {
   "cell_type": "code",
   "execution_count": 7,
   "id": "direct-coral",
   "metadata": {},
   "outputs": [
    {
     "data": {
      "text/html": [
       "<ol class=list-inline>\n",
       "\t<li>0</li>\n",
       "\t<li>0</li>\n",
       "\t<li>0</li>\n",
       "\t<li>1</li>\n",
       "\t<li>1</li>\n",
       "</ol>\n"
      ],
      "text/latex": [
       "\\begin{enumerate*}\n",
       "\\item 0\n",
       "\\item 0\n",
       "\\item 0\n",
       "\\item 1\n",
       "\\item 1\n",
       "\\end{enumerate*}\n"
      ],
      "text/markdown": [
       "1. 0\n",
       "2. 0\n",
       "3. 0\n",
       "4. 1\n",
       "5. 1\n",
       "\n",
       "\n"
      ],
      "text/plain": [
       "[1] 0 0 0 1 1"
      ]
     },
     "metadata": {},
     "output_type": "display_data"
    }
   ],
   "source": [
    "#소수점 아래 값 버림\n",
    "trunc(x)"
   ]
  },
  {
   "cell_type": "code",
   "execution_count": 8,
   "id": "critical-brook",
   "metadata": {},
   "outputs": [
    {
     "data": {
      "text/html": [
       "10"
      ],
      "text/latex": [
       "10"
      ],
      "text/markdown": [
       "10"
      ],
      "text/plain": [
       "[1] 10"
      ]
     },
     "metadata": {},
     "output_type": "display_data"
    }
   ],
   "source": [
    "#절대값\n",
    "abs(-10)"
   ]
  },
  {
   "cell_type": "code",
   "execution_count": 9,
   "id": "allied-market",
   "metadata": {},
   "outputs": [
    {
     "data": {
      "text/html": [
       "3.32192809488736"
      ],
      "text/latex": [
       "3.32192809488736"
      ],
      "text/markdown": [
       "3.32192809488736"
      ],
      "text/plain": [
       "[1] 3.321928"
      ]
     },
     "metadata": {},
     "output_type": "display_data"
    }
   ],
   "source": [
    "#밑이 2인 로그\n",
    "log(10, base = 2)\n"
   ]
  },
  {
   "cell_type": "code",
   "execution_count": 10,
   "id": "billion-anxiety",
   "metadata": {},
   "outputs": [
    {
     "data": {
      "text/html": [
       "3.16227766016838"
      ],
      "text/latex": [
       "3.16227766016838"
      ],
      "text/markdown": [
       "3.16227766016838"
      ],
      "text/plain": [
       "[1] 3.162278"
      ]
     },
     "metadata": {},
     "output_type": "display_data"
    }
   ],
   "source": [
    "#제곱근\n",
    "sqrt(10)"
   ]
  },
  {
   "cell_type": "code",
   "execution_count": 11,
   "id": "casual-while",
   "metadata": {},
   "outputs": [
    {
     "data": {
      "text/html": [
       "22026.4657948067"
      ],
      "text/latex": [
       "22026.4657948067"
      ],
      "text/markdown": [
       "22026.4657948067"
      ],
      "text/plain": [
       "[1] 22026.47"
      ]
     },
     "metadata": {},
     "output_type": "display_data"
    }
   ],
   "source": [
    "#지수로 변환\n",
    "exp(10)"
   ]
  },
  {
   "cell_type": "code",
   "execution_count": 12,
   "id": "meaningful-manner",
   "metadata": {},
   "outputs": [],
   "source": [
    "x <- c(1,2,3,4,5)"
   ]
  },
  {
   "cell_type": "code",
   "execution_count": 13,
   "id": "processed-dietary",
   "metadata": {},
   "outputs": [
    {
     "data": {
      "text/html": [
       "15"
      ],
      "text/latex": [
       "15"
      ],
      "text/markdown": [
       "15"
      ],
      "text/plain": [
       "[1] 15"
      ]
     },
     "metadata": {},
     "output_type": "display_data"
    }
   ],
   "source": [
    "#합계\n",
    "sum(x)"
   ]
  },
  {
   "cell_type": "code",
   "execution_count": 38,
   "id": "institutional-plaintiff",
   "metadata": {},
   "outputs": [
    {
     "data": {
      "text/html": [
       "4.64791666666667"
      ],
      "text/latex": [
       "4.64791666666667"
      ],
      "text/markdown": [
       "4.64791666666667"
      ],
      "text/plain": [
       "[1] 4.647917"
      ]
     },
     "metadata": {},
     "output_type": "display_data"
    }
   ],
   "source": [
    "median(x) #중앙값"
   ]
  },
  {
   "cell_type": "code",
   "execution_count": 39,
   "id": "tender-security",
   "metadata": {},
   "outputs": [
    {
     "data": {
      "text/html": [
       "6.03333333333333"
      ],
      "text/latex": [
       "6.03333333333333"
      ],
      "text/markdown": [
       "6.03333333333333"
      ],
      "text/plain": [
       "[1] 6.033333"
      ]
     },
     "metadata": {},
     "output_type": "display_data"
    }
   ],
   "source": [
    "max(x) #최대값\n"
   ]
  },
  {
   "cell_type": "code",
   "execution_count": 40,
   "id": "unavailable-bobby",
   "metadata": {},
   "outputs": [
    {
     "data": {
      "text/html": [
       "1.38"
      ],
      "text/latex": [
       "1.38"
      ],
      "text/markdown": [
       "1.38"
      ],
      "text/plain": [
       "[1] 1.38"
      ]
     },
     "metadata": {},
     "output_type": "display_data"
    }
   ],
   "source": [
    "min(x) #최솟값\n"
   ]
  },
  {
   "cell_type": "code",
   "execution_count": 41,
   "id": "spread-lingerie",
   "metadata": {},
   "outputs": [
    {
     "data": {
      "text/html": [
       "<ol class=list-inline>\n",
       "\t<li>1.38</li>\n",
       "\t<li>6.03333333333333</li>\n",
       "</ol>\n"
      ],
      "text/latex": [
       "\\begin{enumerate*}\n",
       "\\item 1.38\n",
       "\\item 6.03333333333333\n",
       "\\end{enumerate*}\n"
      ],
      "text/markdown": [
       "1. 1.38\n",
       "2. 6.03333333333333\n",
       "\n",
       "\n"
      ],
      "text/plain": [
       "[1] 1.380000 6.033333"
      ]
     },
     "metadata": {},
     "output_type": "display_data"
    }
   ],
   "source": [
    "range(x) #범위\n"
   ]
  },
  {
   "cell_type": "code",
   "execution_count": 42,
   "id": "proved-inquiry",
   "metadata": {},
   "outputs": [
    {
     "data": {
      "text/html": [
       "1.71414752504209"
      ],
      "text/latex": [
       "1.71414752504209"
      ],
      "text/markdown": [
       "1.71414752504209"
      ],
      "text/plain": [
       "[1] 1.714148"
      ]
     },
     "metadata": {},
     "output_type": "display_data"
    }
   ],
   "source": [
    "sd(x) #표준편차\n"
   ]
  },
  {
   "cell_type": "code",
   "execution_count": 43,
   "id": "precious-cocktail",
   "metadata": {},
   "outputs": [
    {
     "data": {
      "text/html": [
       "2.93830173760792"
      ],
      "text/latex": [
       "2.93830173760792"
      ],
      "text/markdown": [
       "2.93830173760792"
      ],
      "text/plain": [
       "[1] 2.938302"
      ]
     },
     "metadata": {},
     "output_type": "display_data"
    }
   ],
   "source": [
    "var(x) #분산"
   ]
  },
  {
   "cell_type": "code",
   "execution_count": 15,
   "id": "further-balloon",
   "metadata": {},
   "outputs": [],
   "source": [
    "####### 데이터 그리기 ######"
   ]
  },
  {
   "cell_type": "code",
   "execution_count": 16,
   "id": "competitive-headquarters",
   "metadata": {},
   "outputs": [
    {
     "data": {
      "image/png": "[encoded data removed]",
      "text/plain": [
       "plot without title"
      ]
     },
     "metadata": {},
     "output_type": "display_data"
    }
   ],
   "source": [
    "#Plot() 함수: 산점도 그리기 \n",
    "plot(iris$Petal.Length)"
   ]
  },
  {
   "cell_type": "code",
   "execution_count": 17,
   "id": "vertical-television",
   "metadata": {},
   "outputs": [
    {
     "data": {
      "text/html": [
       "<table>\n",
       "<thead><tr><th scope=col>Sepal.Length</th><th scope=col>Sepal.Width</th><th scope=col>Petal.Length</th><th scope=col>Petal.Width</th><th scope=col>Species</th></tr></thead>\n",
       "<tbody>\n",
       "\t<tr><td>5.1   </td><td>3.5   </td><td>1.4   </td><td>0.2   </td><td>setosa</td></tr>\n",
       "\t<tr><td>4.9   </td><td>3.0   </td><td>1.4   </td><td>0.2   </td><td>setosa</td></tr>\n",
       "\t<tr><td>4.7   </td><td>3.2   </td><td>1.3   </td><td>0.2   </td><td>setosa</td></tr>\n",
       "\t<tr><td>4.6   </td><td>3.1   </td><td>1.5   </td><td>0.2   </td><td>setosa</td></tr>\n",
       "\t<tr><td>5.0   </td><td>3.6   </td><td>1.4   </td><td>0.2   </td><td>setosa</td></tr>\n",
       "\t<tr><td>5.4   </td><td>3.9   </td><td>1.7   </td><td>0.4   </td><td>setosa</td></tr>\n",
       "</tbody>\n",
       "</table>\n"
      ],
      "text/latex": [
       "\\begin{tabular}{r|lllll}\n",
       " Sepal.Length & Sepal.Width & Petal.Length & Petal.Width & Species\\\\\n",
       "\\hline\n",
       "\t 5.1    & 3.5    & 1.4    & 0.2    & setosa\\\\\n",
       "\t 4.9    & 3.0    & 1.4    & 0.2    & setosa\\\\\n",
       "\t 4.7    & 3.2    & 1.3    & 0.2    & setosa\\\\\n",
       "\t 4.6    & 3.1    & 1.5    & 0.2    & setosa\\\\\n",
       "\t 5.0    & 3.6    & 1.4    & 0.2    & setosa\\\\\n",
       "\t 5.4    & 3.9    & 1.7    & 0.4    & setosa\\\\\n",
       "\\end{tabular}\n"
      ],
      "text/markdown": [
       "\n",
       "| Sepal.Length | Sepal.Width | Petal.Length | Petal.Width | Species |\n",
       "|---|---|---|---|---|\n",
       "| 5.1    | 3.5    | 1.4    | 0.2    | setosa |\n",
       "| 4.9    | 3.0    | 1.4    | 0.2    | setosa |\n",
       "| 4.7    | 3.2    | 1.3    | 0.2    | setosa |\n",
       "| 4.6    | 3.1    | 1.5    | 0.2    | setosa |\n",
       "| 5.0    | 3.6    | 1.4    | 0.2    | setosa |\n",
       "| 5.4    | 3.9    | 1.7    | 0.4    | setosa |\n",
       "\n"
      ],
      "text/plain": [
       "  Sepal.Length Sepal.Width Petal.Length Petal.Width Species\n",
       "1 5.1          3.5         1.4          0.2         setosa \n",
       "2 4.9          3.0         1.4          0.2         setosa \n",
       "3 4.7          3.2         1.3          0.2         setosa \n",
       "4 4.6          3.1         1.5          0.2         setosa \n",
       "5 5.0          3.6         1.4          0.2         setosa \n",
       "6 5.4          3.9         1.7          0.4         setosa "
      ]
     },
     "metadata": {},
     "output_type": "display_data"
    }
   ],
   "source": [
    "#기존 데이터 모양\n",
    "\n",
    "head(iris)"
   ]
  },
  {
   "cell_type": "code",
   "execution_count": 18,
   "id": "elementary-patient",
   "metadata": {
    "scrolled": true
   },
   "outputs": [
    {
     "data": {
      "image/png": "[encoded data removed]",
      "text/plain": [
       "plot without title"
      ]
     },
     "metadata": {},
     "output_type": "display_data"
    }
   ],
   "source": [
    "plot(iris$Petal.Length, iris$Petal.Width)"
   ]
  },
  {
   "cell_type": "code",
   "execution_count": 23,
   "id": "ordinary-queue",
   "metadata": {},
   "outputs": [
    {
     "data": {
      "image/png": "[encoded data removed]",
      "text/plain": [
       "Plot with title \"iris data\""
      ]
     },
     "metadata": {},
     "output_type": "display_data"
    }
   ],
   "source": [
    "plot(iris$Petal.Length, iris$Petal.Width,\n",
    "     main = \"iris data\", \n",
    "     xlab = \"Petal Length\", \n",
    "     ylab = \"Petal Width\", \n",
    "     col = iris$Species)\n",
    "\n",
    "# 그래프 제목\n",
    "\n",
    "# x축 이름\n",
    "\n",
    "# y축 이름\n",
    "\n",
    "# 품종을 기준으로 색상 입힘\n"
   ]
  },
  {
   "cell_type": "code",
   "execution_count": 22,
   "id": "human-batman",
   "metadata": {},
   "outputs": [
    {
     "data": {
      "image/png": "[encoded data removed]",
      "text/plain": [
       "plot without title"
      ]
     },
     "metadata": {},
     "output_type": "display_data"
    }
   ],
   "source": [
    "#Pairs()함수 : 행렬 산점도 그리기, 품종에 따른 색상분류,서로의 상관 관계를 파악.\n",
    "\n",
    "pairs(~Sepal.Width + Sepal.Length + Petal.Width + Petal.Length, data = iris, col = iris$Species)\n",
    "\n"
   ]
  },
  {
   "cell_type": "code",
   "execution_count": 24,
   "id": "electrical-airline",
   "metadata": {},
   "outputs": [
    {
     "data": {
      "image/png": "[encoded data removed]",
      "text/plain": [
       "Plot with title \"Histogram of iris$Sepal.Width\""
      ]
     },
     "metadata": {},
     "output_type": "display_data"
    }
   ],
   "source": [
    "#hist()함수: (히스토그램 함수)데이터 갯수, 빈도를 출력함.\n",
    "\n",
    "hist(iris$Sepal.Width, freq = FALSE)"
   ]
  },
  {
   "cell_type": "code",
   "execution_count": 25,
   "id": "sophisticated-professor",
   "metadata": {},
   "outputs": [
    {
     "data": {
      "image/png": "[encoded data removed]",
      "text/plain": [
       "plot without title"
      ]
     },
     "metadata": {},
     "output_type": "display_data"
    }
   ],
   "source": [
    "# barplot()함수 : 위의 히스토그램과 비슷한 막대그래프이지만, 막대 사이에 여백이 있고 막대그래프 이름으로 품종 지정.\n",
    "\n",
    "x <- aggregate(Petal.Length ~ Species, iris, mean)\n",
    "barplot(x$Petal.Length, names = x$Species)"
   ]
  },
  {
   "cell_type": "code",
   "execution_count": 30,
   "id": "published-newfoundland",
   "metadata": {},
   "outputs": [
    {
     "data": {
      "image/png": "[encoded data removed]",
      "text/plain": [
       "plot without title"
      ]
     },
     "metadata": {},
     "output_type": "display_data"
    }
   ],
   "source": [
    "# pie()함수 : 파이 차트 그리기\n",
    "x <- aggregate(Petal.Length ~ Species, iris, sum)    \n",
    "# 품종별로 꽃잎 길이 합산\n",
    "pie(x$Petal.Length, labels = x$Species)  \n",
    "# 품종 이름을 붙여 파이 그래프를 그림\n"
   ]
  },
  {
   "cell_type": "code",
   "execution_count": 31,
   "id": "suburban-luther",
   "metadata": {},
   "outputs": [],
   "source": [
    "#plot()함수 o옵션 :  선 그래프 그리기\n",
    "# iris$Petal.Width를 그룹으로 iris$Petal.Length 평균을 구함\n",
    "x <- tapply(iris$Petal.Length, iris$Petal.Width, mean)\n"
   ]
  },
  {
   "cell_type": "code",
   "execution_count": 35,
   "id": "pleased-sperm",
   "metadata": {},
   "outputs": [
    {
     "data": {
      "text/html": [
       "<dl class=dl-horizontal>\n",
       "\t<dt>0.1</dt>\n",
       "\t\t<dd>1.38</dd>\n",
       "\t<dt>0.2</dt>\n",
       "\t\t<dd>1.4448275862069</dd>\n",
       "\t<dt>0.3</dt>\n",
       "\t\t<dd>1.42857142857143</dd>\n",
       "\t<dt>0.4</dt>\n",
       "\t\t<dd>1.57142857142857</dd>\n",
       "\t<dt>0.5</dt>\n",
       "\t\t<dd>1.7</dd>\n",
       "\t<dt>0.6</dt>\n",
       "\t\t<dd>1.6</dd>\n",
       "\t<dt>1</dt>\n",
       "\t\t<dd>3.62857142857143</dd>\n",
       "\t<dt>1.1</dt>\n",
       "\t\t<dd>3.56666666666667</dd>\n",
       "\t<dt>1.2</dt>\n",
       "\t\t<dd>4.24</dd>\n",
       "\t<dt>1.3</dt>\n",
       "\t\t<dd>4.17692307692308</dd>\n",
       "\t<dt>1.4</dt>\n",
       "\t\t<dd>4.6375</dd>\n",
       "\t<dt>1.5</dt>\n",
       "\t\t<dd>4.65833333333333</dd>\n",
       "\t<dt>1.6</dt>\n",
       "\t\t<dd>5.025</dd>\n",
       "\t<dt>1.7</dt>\n",
       "\t\t<dd>4.75</dd>\n",
       "\t<dt>1.8</dt>\n",
       "\t\t<dd>5.33333333333333</dd>\n",
       "\t<dt>1.9</dt>\n",
       "\t\t<dd>5.32</dd>\n",
       "\t<dt>2</dt>\n",
       "\t\t<dd>5.55</dd>\n",
       "\t<dt>2.1</dt>\n",
       "\t\t<dd>5.78333333333333</dd>\n",
       "\t<dt>2.2</dt>\n",
       "\t\t<dd>6.03333333333333</dd>\n",
       "\t<dt>2.3</dt>\n",
       "\t\t<dd>5.7</dd>\n",
       "\t<dt>2.4</dt>\n",
       "\t\t<dd>5.43333333333333</dd>\n",
       "\t<dt>2.5</dt>\n",
       "\t\t<dd>5.93333333333333</dd>\n",
       "</dl>\n"
      ],
      "text/latex": [
       "\\begin{description*}\n",
       "\\item[0.1] 1.38\n",
       "\\item[0.2] 1.4448275862069\n",
       "\\item[0.3] 1.42857142857143\n",
       "\\item[0.4] 1.57142857142857\n",
       "\\item[0.5] 1.7\n",
       "\\item[0.6] 1.6\n",
       "\\item[1] 3.62857142857143\n",
       "\\item[1.1] 3.56666666666667\n",
       "\\item[1.2] 4.24\n",
       "\\item[1.3] 4.17692307692308\n",
       "\\item[1.4] 4.6375\n",
       "\\item[1.5] 4.65833333333333\n",
       "\\item[1.6] 5.025\n",
       "\\item[1.7] 4.75\n",
       "\\item[1.8] 5.33333333333333\n",
       "\\item[1.9] 5.32\n",
       "\\item[2] 5.55\n",
       "\\item[2.1] 5.78333333333333\n",
       "\\item[2.2] 6.03333333333333\n",
       "\\item[2.3] 5.7\n",
       "\\item[2.4] 5.43333333333333\n",
       "\\item[2.5] 5.93333333333333\n",
       "\\end{description*}\n"
      ],
      "text/markdown": [
       "0.1\n",
       ":   1.380.2\n",
       ":   1.44482758620690.3\n",
       ":   1.428571428571430.4\n",
       ":   1.571428571428570.5\n",
       ":   1.70.6\n",
       ":   1.61\n",
       ":   3.628571428571431.1\n",
       ":   3.566666666666671.2\n",
       ":   4.241.3\n",
       ":   4.176923076923081.4\n",
       ":   4.63751.5\n",
       ":   4.658333333333331.6\n",
       ":   5.0251.7\n",
       ":   4.751.8\n",
       ":   5.333333333333331.9\n",
       ":   5.322\n",
       ":   5.552.1\n",
       ":   5.783333333333332.2\n",
       ":   6.033333333333332.3\n",
       ":   5.72.4\n",
       ":   5.433333333333332.5\n",
       ":   5.93333333333333\n",
       "\n"
      ],
      "text/plain": [
       "     0.1      0.2      0.3      0.4      0.5      0.6        1      1.1 \n",
       "1.380000 1.444828 1.428571 1.571429 1.700000 1.600000 3.628571 3.566667 \n",
       "     1.2      1.3      1.4      1.5      1.6      1.7      1.8      1.9 \n",
       "4.240000 4.176923 4.637500 4.658333 5.025000 4.750000 5.333333 5.320000 \n",
       "       2      2.1      2.2      2.3      2.4      2.5 \n",
       "5.550000 5.783333 6.033333 5.700000 5.433333 5.933333 "
      ]
     },
     "metadata": {},
     "output_type": "display_data"
    }
   ],
   "source": [
    "x"
   ]
  },
  {
   "cell_type": "code",
   "execution_count": 36,
   "id": "union-criminal",
   "metadata": {},
   "outputs": [
    {
     "data": {
      "image/png": "[encoded data removed]",
      "text/plain": [
       "plot without title"
      ]
     },
     "metadata": {},
     "output_type": "display_data"
    }
   ],
   "source": [
    "plot(x, type = 'o')  \n",
    "\n",
    "#꽃잎 넓이가 커짐에 따라 꽃잎 길이도 커집니다."
   ]
  },
  {
   "cell_type": "code",
   "execution_count": null,
   "id": "trained-movement",
   "metadata": {},
   "outputs": [],
   "source": []
  }
 ],
 "metadata": {
  "kernelspec": {
   "display_name": "R",
   "language": "R",
   "name": "ir"
  },
  "language_info": {
   "codemirror_mode": "r",
   "file_extension": ".r",
   "mimetype": "text/x-r-source",
   "name": "R",
   "pygments_lexer": "r",
   "version": "3.6.1"
  }
 },
 "nbformat": 4,
 "nbformat_minor": 5
}
