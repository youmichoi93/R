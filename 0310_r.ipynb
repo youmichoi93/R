{
 "cells": [
  {
   "cell_type": "code",
   "execution_count": 1,
   "id": "convinced-milwaukee",
   "metadata": {},
   "outputs": [],
   "source": [
    "x <- read.csv(\"reservation_r_csv.csv\")"
   ]
  },
  {
   "cell_type": "code",
   "execution_count": 2,
   "id": "injured-buyer",
   "metadata": {},
   "outputs": [
    {
     "data": {
      "text/html": [
       "<table>\n",
       "<thead><tr><th scope=col>RESERV_NO</th><th scope=col>RESERV_DATE</th><th scope=col>RESERV_TIME</th><th scope=col>CUSTOMER_ID</th><th scope=col>BRANCH</th><th scope=col>VISITOR_CNT</th><th scope=col>CANCEL</th></tr></thead>\n",
       "<tbody>\n",
       "\t<tr><td>2019082701</td><td>20190827  </td><td>1800      </td><td>W1340914  </td><td>마포      </td><td>2         </td><td>N         </td></tr>\n",
       "\t<tr><td>2019082602</td><td>20190826  </td><td>1200      </td><td>W341658   </td><td>동작      </td><td>5         </td><td>N         </td></tr>\n",
       "\t<tr><td>2019082601</td><td>20190826  </td><td>1800      </td><td>W1328993  </td><td>강북      </td><td>4         </td><td>N         </td></tr>\n",
       "\t<tr><td>2019082501</td><td>20190825  </td><td>1800      </td><td>W1340463  </td><td>용산      </td><td>2         </td><td>N         </td></tr>\n",
       "\t<tr><td>2019082401</td><td>20190824  </td><td>1200      </td><td>W1344912  </td><td>강동      </td><td>3         </td><td>N         </td></tr>\n",
       "\t<tr><td>2019082301</td><td>20190823  </td><td>1800      </td><td>W1344753  </td><td>영등포    </td><td>2         </td><td>N         </td></tr>\n",
       "</tbody>\n",
       "</table>\n"
      ],
      "text/latex": [
       "\\begin{tabular}{r|lllllll}\n",
       " RESERV\\_NO & RESERV\\_DATE & RESERV\\_TIME & CUSTOMER\\_ID & BRANCH & VISITOR\\_CNT & CANCEL\\\\\n",
       "\\hline\n",
       "\t 2019082701 & 20190827   & 1800       & W1340914   & 마포       & 2          & N         \\\\\n",
       "\t 2019082602 & 20190826   & 1200       & W341658    & 동작       & 5          & N         \\\\\n",
       "\t 2019082601 & 20190826   & 1800       & W1328993   & 강북       & 4          & N         \\\\\n",
       "\t 2019082501 & 20190825   & 1800       & W1340463   & 용산       & 2          & N         \\\\\n",
       "\t 2019082401 & 20190824   & 1200       & W1344912   & 강동       & 3          & N         \\\\\n",
       "\t 2019082301 & 20190823   & 1800       & W1344753   & 영등포     & 2          & N         \\\\\n",
       "\\end{tabular}\n"
      ],
      "text/markdown": [
       "\n",
       "| RESERV_NO | RESERV_DATE | RESERV_TIME | CUSTOMER_ID | BRANCH | VISITOR_CNT | CANCEL |\n",
       "|---|---|---|---|---|---|---|\n",
       "| 2019082701 | 20190827   | 1800       | W1340914   | 마포       | 2          | N          |\n",
       "| 2019082602 | 20190826   | 1200       | W341658    | 동작       | 5          | N          |\n",
       "| 2019082601 | 20190826   | 1800       | W1328993   | 강북       | 4          | N          |\n",
       "| 2019082501 | 20190825   | 1800       | W1340463   | 용산       | 2          | N          |\n",
       "| 2019082401 | 20190824   | 1200       | W1344912   | 강동       | 3          | N          |\n",
       "| 2019082301 | 20190823   | 1800       | W1344753   | 영등포     | 2          | N          |\n",
       "\n"
      ],
      "text/plain": [
       "  RESERV_NO  RESERV_DATE RESERV_TIME CUSTOMER_ID BRANCH VISITOR_CNT CANCEL\n",
       "1 2019082701 20190827    1800        W1340914    마포   2           N     \n",
       "2 2019082602 20190826    1200        W341658     동작   5           N     \n",
       "3 2019082601 20190826    1800        W1328993    강북   4           N     \n",
       "4 2019082501 20190825    1800        W1340463    용산   2           N     \n",
       "5 2019082401 20190824    1200        W1344912    강동   3           N     \n",
       "6 2019082301 20190823    1800        W1344753    영등포 2           N     "
      ]
     },
     "metadata": {},
     "output_type": "display_data"
    }
   ],
   "source": [
    "head(x)"
   ]
  },
  {
   "cell_type": "code",
   "execution_count": 3,
   "id": "fancy-snowboard",
   "metadata": {},
   "outputs": [
    {
     "name": "stderr",
     "output_type": "stream",
     "text": [
      "Warning message:\n",
      "\"package 'readxl' was built under R version 3.6.3\""
     ]
    }
   ],
   "source": [
    "#어제 readxl 패키지 설치 완료.\n",
    "library(readxl)"
   ]
  },
  {
   "cell_type": "code",
   "execution_count": 4,
   "id": "american-engineer",
   "metadata": {},
   "outputs": [],
   "source": [
    "y <- read_excel(\"reservation_r_excel.xlsx\")"
   ]
  },
  {
   "cell_type": "code",
   "execution_count": 5,
   "id": "southwest-springer",
   "metadata": {},
   "outputs": [
    {
     "data": {
      "text/html": [
       "<table>\n",
       "<thead><tr><th scope=col>RESERV_NO</th><th scope=col>RESERV_DATE</th><th scope=col>RESERV_TIME</th><th scope=col>CUSTOMER_ID</th><th scope=col>BRANCH</th><th scope=col>VISITOR_CNT</th><th scope=col>CANCEL</th></tr></thead>\n",
       "<tbody>\n",
       "\t<tr><td>2019082701</td><td>20190827  </td><td>1800      </td><td>W1340914  </td><td>마포      </td><td>2         </td><td>N         </td></tr>\n",
       "\t<tr><td>2019082602</td><td>20190826  </td><td>1200      </td><td>W341658   </td><td>동작      </td><td>5         </td><td>N         </td></tr>\n",
       "\t<tr><td>2019082601</td><td>20190826  </td><td>1800      </td><td>W1328993  </td><td>강북      </td><td>4         </td><td>N         </td></tr>\n",
       "\t<tr><td>2019082501</td><td>20190825  </td><td>1800      </td><td>W1340463  </td><td>용산      </td><td>2         </td><td>N         </td></tr>\n",
       "\t<tr><td>2019082401</td><td>20190824  </td><td>1200      </td><td>W1344912  </td><td>강동      </td><td>3         </td><td>N         </td></tr>\n",
       "\t<tr><td>2019082301</td><td>20190823  </td><td>1800      </td><td>W1344753  </td><td>영등포    </td><td>2         </td><td>N         </td></tr>\n",
       "</tbody>\n",
       "</table>\n"
      ],
      "text/latex": [
       "\\begin{tabular}{r|lllllll}\n",
       " RESERV\\_NO & RESERV\\_DATE & RESERV\\_TIME & CUSTOMER\\_ID & BRANCH & VISITOR\\_CNT & CANCEL\\\\\n",
       "\\hline\n",
       "\t 2019082701 & 20190827   & 1800       & W1340914   & 마포       & 2          & N         \\\\\n",
       "\t 2019082602 & 20190826   & 1200       & W341658    & 동작       & 5          & N         \\\\\n",
       "\t 2019082601 & 20190826   & 1800       & W1328993   & 강북       & 4          & N         \\\\\n",
       "\t 2019082501 & 20190825   & 1800       & W1340463   & 용산       & 2          & N         \\\\\n",
       "\t 2019082401 & 20190824   & 1200       & W1344912   & 강동       & 3          & N         \\\\\n",
       "\t 2019082301 & 20190823   & 1800       & W1344753   & 영등포     & 2          & N         \\\\\n",
       "\\end{tabular}\n"
      ],
      "text/markdown": [
       "\n",
       "| RESERV_NO | RESERV_DATE | RESERV_TIME | CUSTOMER_ID | BRANCH | VISITOR_CNT | CANCEL |\n",
       "|---|---|---|---|---|---|---|\n",
       "| 2019082701 | 20190827   | 1800       | W1340914   | 마포       | 2          | N          |\n",
       "| 2019082602 | 20190826   | 1200       | W341658    | 동작       | 5          | N          |\n",
       "| 2019082601 | 20190826   | 1800       | W1328993   | 강북       | 4          | N          |\n",
       "| 2019082501 | 20190825   | 1800       | W1340463   | 용산       | 2          | N          |\n",
       "| 2019082401 | 20190824   | 1200       | W1344912   | 강동       | 3          | N          |\n",
       "| 2019082301 | 20190823   | 1800       | W1344753   | 영등포     | 2          | N          |\n",
       "\n"
      ],
      "text/plain": [
       "  RESERV_NO  RESERV_DATE RESERV_TIME CUSTOMER_ID BRANCH VISITOR_CNT CANCEL\n",
       "1 2019082701 20190827    1800        W1340914    마포   2           N     \n",
       "2 2019082602 20190826    1200        W341658     동작   5           N     \n",
       "3 2019082601 20190826    1800        W1328993    강북   4           N     \n",
       "4 2019082501 20190825    1800        W1340463    용산   2           N     \n",
       "5 2019082401 20190824    1200        W1344912    강동   3           N     \n",
       "6 2019082301 20190823    1800        W1344753    영등포 2           N     "
      ]
     },
     "metadata": {},
     "output_type": "display_data"
    }
   ],
   "source": [
    "head(y)"
   ]
  },
  {
   "cell_type": "code",
   "execution_count": 6,
   "id": "boolean-nudist",
   "metadata": {},
   "outputs": [
    {
     "data": {
      "text/html": [
       "<table>\n",
       "<thead><tr><th scope=col>RESERV_NO</th><th scope=col>RESERV_DATE</th><th scope=col>RESERV_TIME</th><th scope=col>CUSTOMER_ID</th><th scope=col>BRANCH</th><th scope=col>VISITOR_CNT</th><th scope=col>CANCEL</th></tr></thead>\n",
       "<tbody>\n",
       "\t<tr><td>2019092001</td><td>20190920  </td><td>1200      </td><td>W345397   </td><td>송파      </td><td>1         </td><td>N         </td></tr>\n",
       "\t<tr><td>2019091901</td><td>20190919  </td><td>1800      </td><td>W1328505  </td><td>강남      </td><td>5         </td><td>N         </td></tr>\n",
       "\t<tr><td>2019091801</td><td>20190918  </td><td>1200      </td><td>W345397   </td><td>송파      </td><td>1         </td><td>N         </td></tr>\n",
       "\t<tr><td>2019091702</td><td>20190917  </td><td>1200      </td><td>W343277   </td><td>성북      </td><td>5         </td><td>N         </td></tr>\n",
       "\t<tr><td>2019091701</td><td>20190917  </td><td>1800      </td><td>W1337923  </td><td>강남      </td><td>7         </td><td>N         </td></tr>\n",
       "\t<tr><td>2019091601</td><td>20190916  </td><td>1200      </td><td>W1348303  </td><td>영등포    </td><td>2         </td><td>N         </td></tr>\n",
       "</tbody>\n",
       "</table>\n"
      ],
      "text/latex": [
       "\\begin{tabular}{r|lllllll}\n",
       " RESERV\\_NO & RESERV\\_DATE & RESERV\\_TIME & CUSTOMER\\_ID & BRANCH & VISITOR\\_CNT & CANCEL\\\\\n",
       "\\hline\n",
       "\t 2019092001 & 20190920   & 1200       & W345397    & 송파       & 1          & N         \\\\\n",
       "\t 2019091901 & 20190919   & 1800       & W1328505   & 강남       & 5          & N         \\\\\n",
       "\t 2019091801 & 20190918   & 1200       & W345397    & 송파       & 1          & N         \\\\\n",
       "\t 2019091702 & 20190917   & 1200       & W343277    & 성북       & 5          & N         \\\\\n",
       "\t 2019091701 & 20190917   & 1800       & W1337923   & 강남       & 7          & N         \\\\\n",
       "\t 2019091601 & 20190916   & 1200       & W1348303   & 영등포     & 2          & N         \\\\\n",
       "\\end{tabular}\n"
      ],
      "text/markdown": [
       "\n",
       "| RESERV_NO | RESERV_DATE | RESERV_TIME | CUSTOMER_ID | BRANCH | VISITOR_CNT | CANCEL |\n",
       "|---|---|---|---|---|---|---|\n",
       "| 2019092001 | 20190920   | 1200       | W345397    | 송파       | 1          | N          |\n",
       "| 2019091901 | 20190919   | 1800       | W1328505   | 강남       | 5          | N          |\n",
       "| 2019091801 | 20190918   | 1200       | W345397    | 송파       | 1          | N          |\n",
       "| 2019091702 | 20190917   | 1200       | W343277    | 성북       | 5          | N          |\n",
       "| 2019091701 | 20190917   | 1800       | W1337923   | 강남       | 7          | N          |\n",
       "| 2019091601 | 20190916   | 1200       | W1348303   | 영등포     | 2          | N          |\n",
       "\n"
      ],
      "text/plain": [
       "  RESERV_NO  RESERV_DATE RESERV_TIME CUSTOMER_ID BRANCH VISITOR_CNT CANCEL\n",
       "1 2019092001 20190920    1200        W345397     송파   1           N     \n",
       "2 2019091901 20190919    1800        W1328505    강남   5           N     \n",
       "3 2019091801 20190918    1200        W345397     송파   1           N     \n",
       "4 2019091702 20190917    1200        W343277     성북   5           N     \n",
       "5 2019091701 20190917    1800        W1337923    강남   7           N     \n",
       "6 2019091601 20190916    1200        W1348303    영등포 2           N     "
      ]
     },
     "metadata": {},
     "output_type": "display_data"
    }
   ],
   "source": [
    "tail(y)"
   ]
  },
  {
   "cell_type": "code",
   "execution_count": 7,
   "id": "blocked-grounds",
   "metadata": {},
   "outputs": [
    {
     "name": "stdout",
     "output_type": "stream",
     "text": [
      "Classes 'tbl_df', 'tbl' and 'data.frame':\t396 obs. of  7 variables:\n",
      " $ RESERV_NO  : chr  \"2019082701\" \"2019082602\" \"2019082601\" \"2019082501\" ...\n",
      " $ RESERV_DATE: chr  \"20190827\" \"20190826\" \"20190826\" \"20190825\" ...\n",
      " $ RESERV_TIME: chr  \"1800\" \"1200\" \"1800\" \"1800\" ...\n",
      " $ CUSTOMER_ID: chr  \"W1340914\" \"W341658\" \"W1328993\" \"W1340463\" ...\n",
      " $ BRANCH     : chr  \"마포\" \"동작\" \"강북\" \"용산\" ...\n",
      " $ VISITOR_CNT: num  2 5 4 2 3 2 2 3 6 5 ...\n",
      " $ CANCEL     : chr  \"N\" \"N\" \"N\" \"N\" ...\n"
     ]
    }
   ],
   "source": [
    "str(y)"
   ]
  },
  {
   "cell_type": "code",
   "execution_count": 8,
   "id": "acting-blend",
   "metadata": {},
   "outputs": [
    {
     "data": {
      "text/html": [
       "<ol class=list-inline>\n",
       "\t<li>396</li>\n",
       "\t<li>7</li>\n",
       "</ol>\n"
      ],
      "text/latex": [
       "\\begin{enumerate*}\n",
       "\\item 396\n",
       "\\item 7\n",
       "\\end{enumerate*}\n"
      ],
      "text/markdown": [
       "1. 396\n",
       "2. 7\n",
       "\n",
       "\n"
      ],
      "text/plain": [
       "[1] 396   7"
      ]
     },
     "metadata": {},
     "output_type": "display_data"
    }
   ],
   "source": [
    "dim(y)"
   ]
  },
  {
   "cell_type": "code",
   "execution_count": 9,
   "id": "insured-lexington",
   "metadata": {},
   "outputs": [
    {
     "data": {
      "text/html": [
       "7"
      ],
      "text/latex": [
       "7"
      ],
      "text/markdown": [
       "7"
      ],
      "text/plain": [
       "[1] 7"
      ]
     },
     "metadata": {},
     "output_type": "display_data"
    }
   ],
   "source": [
    "ncol(y)"
   ]
  },
  {
   "cell_type": "code",
   "execution_count": 10,
   "id": "south-turner",
   "metadata": {},
   "outputs": [
    {
     "data": {
      "text/html": [
       "396"
      ],
      "text/latex": [
       "396"
      ],
      "text/markdown": [
       "396"
      ],
      "text/plain": [
       "[1] 396"
      ]
     },
     "metadata": {},
     "output_type": "display_data"
    }
   ],
   "source": [
    "nrow(y)"
   ]
  },
  {
   "cell_type": "code",
   "execution_count": 11,
   "id": "secret-strength",
   "metadata": {},
   "outputs": [
    {
     "data": {
      "text/html": [
       "<ol class=list-inline>\n",
       "\t<li>'BRANCH'</li>\n",
       "\t<li>'CANCEL'</li>\n",
       "\t<li>'CUSTOMER_ID'</li>\n",
       "\t<li>'RESERV_DATE'</li>\n",
       "\t<li>'RESERV_NO'</li>\n",
       "\t<li>'RESERV_TIME'</li>\n",
       "\t<li>'VISITOR_CNT'</li>\n",
       "</ol>\n"
      ],
      "text/latex": [
       "\\begin{enumerate*}\n",
       "\\item 'BRANCH'\n",
       "\\item 'CANCEL'\n",
       "\\item 'CUSTOMER\\_ID'\n",
       "\\item 'RESERV\\_DATE'\n",
       "\\item 'RESERV\\_NO'\n",
       "\\item 'RESERV\\_TIME'\n",
       "\\item 'VISITOR\\_CNT'\n",
       "\\end{enumerate*}\n"
      ],
      "text/markdown": [
       "1. 'BRANCH'\n",
       "2. 'CANCEL'\n",
       "3. 'CUSTOMER_ID'\n",
       "4. 'RESERV_DATE'\n",
       "5. 'RESERV_NO'\n",
       "6. 'RESERV_TIME'\n",
       "7. 'VISITOR_CNT'\n",
       "\n",
       "\n"
      ],
      "text/plain": [
       "[1] \"BRANCH\"      \"CANCEL\"      \"CUSTOMER_ID\" \"RESERV_DATE\" \"RESERV_NO\"  \n",
       "[6] \"RESERV_TIME\" \"VISITOR_CNT\""
      ]
     },
     "metadata": {},
     "output_type": "display_data"
    }
   ],
   "source": [
    "ls(y)"
   ]
  },
  {
   "cell_type": "code",
   "execution_count": 13,
   "id": "anonymous-nature",
   "metadata": {},
   "outputs": [
    {
     "data": {
      "text/plain": [
       "72024 bytes"
      ]
     },
     "metadata": {},
     "output_type": "display_data"
    }
   ],
   "source": [
    "object.size(y)"
   ]
  },
  {
   "cell_type": "code",
   "execution_count": 14,
   "id": "sixth-worthy",
   "metadata": {},
   "outputs": [
    {
     "data": {
      "text/html": [
       "<table>\n",
       "<thead><tr><th scope=col>RESERV_NO</th><th scope=col>RESERV_DATE</th><th scope=col>RESERV_TIME</th><th scope=col>CUSTOMER_ID</th><th scope=col>BRANCH</th><th scope=col>VISITOR_CNT</th><th scope=col>CANCEL</th></tr></thead>\n",
       "<tbody>\n",
       "\t<tr><td>2019082701</td><td>20190827  </td><td>1800      </td><td>W1340914  </td><td>마포      </td><td>2         </td><td>N         </td></tr>\n",
       "\t<tr><td>2019082602</td><td>20190826  </td><td>1200      </td><td>W341658   </td><td>동작      </td><td>5         </td><td>N         </td></tr>\n",
       "\t<tr><td>2019082601</td><td>20190826  </td><td>1800      </td><td>W1328993  </td><td>강북      </td><td>4         </td><td>N         </td></tr>\n",
       "\t<tr><td>2019082501</td><td>20190825  </td><td>1800      </td><td>W1340463  </td><td>용산      </td><td>2         </td><td>N         </td></tr>\n",
       "\t<tr><td>2019082401</td><td>20190824  </td><td>1200      </td><td>W1344912  </td><td>강동      </td><td>3         </td><td>N         </td></tr>\n",
       "\t<tr><td>2019082301</td><td>20190823  </td><td>1800      </td><td>W1344753  </td><td>영등포    </td><td>2         </td><td>N         </td></tr>\n",
       "</tbody>\n",
       "</table>\n"
      ],
      "text/latex": [
       "\\begin{tabular}{r|lllllll}\n",
       " RESERV\\_NO & RESERV\\_DATE & RESERV\\_TIME & CUSTOMER\\_ID & BRANCH & VISITOR\\_CNT & CANCEL\\\\\n",
       "\\hline\n",
       "\t 2019082701 & 20190827   & 1800       & W1340914   & 마포       & 2          & N         \\\\\n",
       "\t 2019082602 & 20190826   & 1200       & W341658    & 동작       & 5          & N         \\\\\n",
       "\t 2019082601 & 20190826   & 1800       & W1328993   & 강북       & 4          & N         \\\\\n",
       "\t 2019082501 & 20190825   & 1800       & W1340463   & 용산       & 2          & N         \\\\\n",
       "\t 2019082401 & 20190824   & 1200       & W1344912   & 강동       & 3          & N         \\\\\n",
       "\t 2019082301 & 20190823   & 1800       & W1344753   & 영등포     & 2          & N         \\\\\n",
       "\\end{tabular}\n"
      ],
      "text/markdown": [
       "\n",
       "| RESERV_NO | RESERV_DATE | RESERV_TIME | CUSTOMER_ID | BRANCH | VISITOR_CNT | CANCEL |\n",
       "|---|---|---|---|---|---|---|\n",
       "| 2019082701 | 20190827   | 1800       | W1340914   | 마포       | 2          | N          |\n",
       "| 2019082602 | 20190826   | 1200       | W341658    | 동작       | 5          | N          |\n",
       "| 2019082601 | 20190826   | 1800       | W1328993   | 강북       | 4          | N          |\n",
       "| 2019082501 | 20190825   | 1800       | W1340463   | 용산       | 2          | N          |\n",
       "| 2019082401 | 20190824   | 1200       | W1344912   | 강동       | 3          | N          |\n",
       "| 2019082301 | 20190823   | 1800       | W1344753   | 영등포     | 2          | N          |\n",
       "\n"
      ],
      "text/plain": [
       "  RESERV_NO  RESERV_DATE RESERV_TIME CUSTOMER_ID BRANCH VISITOR_CNT CANCEL\n",
       "1 2019082701 20190827    1800        W1340914    마포   2           N     \n",
       "2 2019082602 20190826    1200        W341658     동작   5           N     \n",
       "3 2019082601 20190826    1800        W1328993    강북   4           N     \n",
       "4 2019082501 20190825    1800        W1340463    용산   2           N     \n",
       "5 2019082401 20190824    1200        W1344912    강동   3           N     \n",
       "6 2019082301 20190823    1800        W1344753    영등포 2           N     "
      ]
     },
     "metadata": {},
     "output_type": "display_data"
    }
   ],
   "source": [
    "head(x)"
   ]
  },
  {
   "cell_type": "code",
   "execution_count": 15,
   "id": "earned-korean",
   "metadata": {},
   "outputs": [
    {
     "data": {
      "text/html": [
       "<table>\n",
       "<thead><tr><th></th><th scope=col>RESERV_NO</th><th scope=col>RESERV_DATE</th><th scope=col>RESERV_TIME</th><th scope=col>CUSTOMER_ID</th><th scope=col>BRANCH</th><th scope=col>VISITOR_CNT</th><th scope=col>CANCEL</th></tr></thead>\n",
       "<tbody>\n",
       "\t<tr><th scope=row>391</th><td>2019092001</td><td>20190920  </td><td>1200      </td><td>W345397   </td><td>송파      </td><td>1         </td><td>N         </td></tr>\n",
       "\t<tr><th scope=row>392</th><td>2019091901</td><td>20190919  </td><td>1800      </td><td>W1328505  </td><td>강남      </td><td>5         </td><td>N         </td></tr>\n",
       "\t<tr><th scope=row>393</th><td>2019091801</td><td>20190918  </td><td>1200      </td><td>W345397   </td><td>송파      </td><td>1         </td><td>N         </td></tr>\n",
       "\t<tr><th scope=row>394</th><td>2019091702</td><td>20190917  </td><td>1200      </td><td>W343277   </td><td>성북      </td><td>5         </td><td>N         </td></tr>\n",
       "\t<tr><th scope=row>395</th><td>2019091701</td><td>20190917  </td><td>1800      </td><td>W1337923  </td><td>강남      </td><td>7         </td><td>N         </td></tr>\n",
       "\t<tr><th scope=row>396</th><td>2019091601</td><td>20190916  </td><td>1200      </td><td>W1348303  </td><td>영등포    </td><td>2         </td><td>N         </td></tr>\n",
       "</tbody>\n",
       "</table>\n"
      ],
      "text/latex": [
       "\\begin{tabular}{r|lllllll}\n",
       "  & RESERV\\_NO & RESERV\\_DATE & RESERV\\_TIME & CUSTOMER\\_ID & BRANCH & VISITOR\\_CNT & CANCEL\\\\\n",
       "\\hline\n",
       "\t391 & 2019092001 & 20190920   & 1200       & W345397    & 송파       & 1          & N         \\\\\n",
       "\t392 & 2019091901 & 20190919   & 1800       & W1328505   & 강남       & 5          & N         \\\\\n",
       "\t393 & 2019091801 & 20190918   & 1200       & W345397    & 송파       & 1          & N         \\\\\n",
       "\t394 & 2019091702 & 20190917   & 1200       & W343277    & 성북       & 5          & N         \\\\\n",
       "\t395 & 2019091701 & 20190917   & 1800       & W1337923   & 강남       & 7          & N         \\\\\n",
       "\t396 & 2019091601 & 20190916   & 1200       & W1348303   & 영등포     & 2          & N         \\\\\n",
       "\\end{tabular}\n"
      ],
      "text/markdown": [
       "\n",
       "| <!--/--> | RESERV_NO | RESERV_DATE | RESERV_TIME | CUSTOMER_ID | BRANCH | VISITOR_CNT | CANCEL |\n",
       "|---|---|---|---|---|---|---|---|\n",
       "| 391 | 2019092001 | 20190920   | 1200       | W345397    | 송파       | 1          | N          |\n",
       "| 392 | 2019091901 | 20190919   | 1800       | W1328505   | 강남       | 5          | N          |\n",
       "| 393 | 2019091801 | 20190918   | 1200       | W345397    | 송파       | 1          | N          |\n",
       "| 394 | 2019091702 | 20190917   | 1200       | W343277    | 성북       | 5          | N          |\n",
       "| 395 | 2019091701 | 20190917   | 1800       | W1337923   | 강남       | 7          | N          |\n",
       "| 396 | 2019091601 | 20190916   | 1200       | W1348303   | 영등포     | 2          | N          |\n",
       "\n"
      ],
      "text/plain": [
       "    RESERV_NO  RESERV_DATE RESERV_TIME CUSTOMER_ID BRANCH VISITOR_CNT CANCEL\n",
       "391 2019092001 20190920    1200        W345397     송파   1           N     \n",
       "392 2019091901 20190919    1800        W1328505    강남   5           N     \n",
       "393 2019091801 20190918    1200        W345397     송파   1           N     \n",
       "394 2019091702 20190917    1200        W343277     성북   5           N     \n",
       "395 2019091701 20190917    1800        W1337923    강남   7           N     \n",
       "396 2019091601 20190916    1200        W1348303    영등포 2           N     "
      ]
     },
     "metadata": {},
     "output_type": "display_data"
    }
   ],
   "source": [
    "tail(x)"
   ]
  },
  {
   "cell_type": "code",
   "execution_count": 16,
   "id": "copyrighted-class",
   "metadata": {},
   "outputs": [
    {
     "name": "stdout",
     "output_type": "stream",
     "text": [
      "'data.frame':\t396 obs. of  7 variables:\n",
      " $ RESERV_NO  : int  2019082701 2019082602 2019082601 2019082501 2019082401 2019082301 2019082202 2019082201 2019082101 2019081901 ...\n",
      " $ RESERV_DATE: int  20190827 20190826 20190826 20190825 20190824 20190823 20190822 20190822 20190821 20190819 ...\n",
      " $ RESERV_TIME: int  1800 1200 1800 1800 1200 1800 1800 1200 1800 1200 ...\n",
      " $ CUSTOMER_ID: Factor w/ 182 levels \"W1327595\",\"W1327803\",..: 51 137 7 49 66 65 25 20 39 141 ...\n",
      " $ BRANCH     : Factor w/ 25 levels \"강남\",\"강동\",..: 13 12 3 21 2 20 4 15 4 19 ...\n",
      " $ VISITOR_CNT: int  2 5 4 2 3 2 2 3 6 5 ...\n",
      " $ CANCEL     : Factor w/ 2 levels \"N\",\"Y\": 1 1 1 1 1 1 1 2 1 1 ...\n"
     ]
    }
   ],
   "source": [
    "str(x)"
   ]
  },
  {
   "cell_type": "code",
   "execution_count": 17,
   "id": "digital-simon",
   "metadata": {},
   "outputs": [
    {
     "data": {
      "text/plain": [
       "   RESERV_NO          RESERV_DATE        RESERV_TIME     CUSTOMER_ID \n",
       " Min.   :2.019e+09   Min.   :20190603   Min.   :1200   W1338910:  9  \n",
       " 1st Qu.:2.019e+09   1st Qu.:20190912   1st Qu.:1200   W341634 :  9  \n",
       " Median :2.019e+09   Median :20191113   Median :1800   W1337923:  8  \n",
       " Mean   :2.019e+09   Mean   :20191043   Mean   :1553   W1342347:  8  \n",
       " 3rd Qu.:2.019e+09   3rd Qu.:20191213   3rd Qu.:1800   W1336410:  7  \n",
       " Max.   :2.019e+09   Max.   :20191231   Max.   :1800   W1340914:  7  \n",
       "                                                       (Other) :348  \n",
       "     BRANCH     VISITOR_CNT     CANCEL \n",
       " 강남   : 49   Min.   : 1.000   N:337  \n",
       " 강서   : 22   1st Qu.: 2.000   Y: 59  \n",
       " 마포   : 22   Median : 3.000          \n",
       " 서초   : 22   Mean   : 3.641          \n",
       " 동작   : 21   3rd Qu.: 4.000          \n",
       " 동대문 : 20   Max.   :23.000          \n",
       " (Other):240                           "
      ]
     },
     "metadata": {},
     "output_type": "display_data"
    }
   ],
   "source": [
    "summary(x)"
   ]
  },
  {
   "cell_type": "code",
   "execution_count": 20,
   "id": "ordinary-paint",
   "metadata": {},
   "outputs": [
    {
     "ename": "ERROR",
     "evalue": "Error in View(x): 'View()' not yet supported in the Jupyter R kernel\n",
     "output_type": "error",
     "traceback": [
      "Error in View(x): 'View()' not yet supported in the Jupyter R kernel\nTraceback:\n",
      "1. View(x)",
      "2. stop(sQuote(\"View()\"), \" not yet supported in the Jupyter R kernel\")"
     ]
    }
   ],
   "source": [
    "#r에서만 보여진다.\n",
    "View(x)"
   ]
  },
  {
   "cell_type": "code",
   "execution_count": 21,
   "id": "homeless-adjustment",
   "metadata": {},
   "outputs": [
    {
     "data": {
      "text/html": [
       "<ol class=list-inline>\n",
       "\t<li>'BRANCH'</li>\n",
       "\t<li>'CANCEL'</li>\n",
       "\t<li>'CUSTOMER_ID'</li>\n",
       "\t<li>'RESERV_DATE'</li>\n",
       "\t<li>'RESERV_NO'</li>\n",
       "\t<li>'RESERV_TIME'</li>\n",
       "\t<li>'VISITOR_CNT'</li>\n",
       "</ol>\n"
      ],
      "text/latex": [
       "\\begin{enumerate*}\n",
       "\\item 'BRANCH'\n",
       "\\item 'CANCEL'\n",
       "\\item 'CUSTOMER\\_ID'\n",
       "\\item 'RESERV\\_DATE'\n",
       "\\item 'RESERV\\_NO'\n",
       "\\item 'RESERV\\_TIME'\n",
       "\\item 'VISITOR\\_CNT'\n",
       "\\end{enumerate*}\n"
      ],
      "text/markdown": [
       "1. 'BRANCH'\n",
       "2. 'CANCEL'\n",
       "3. 'CUSTOMER_ID'\n",
       "4. 'RESERV_DATE'\n",
       "5. 'RESERV_NO'\n",
       "6. 'RESERV_TIME'\n",
       "7. 'VISITOR_CNT'\n",
       "\n",
       "\n"
      ],
      "text/plain": [
       "[1] \"BRANCH\"      \"CANCEL\"      \"CUSTOMER_ID\" \"RESERV_DATE\" \"RESERV_NO\"  \n",
       "[6] \"RESERV_TIME\" \"VISITOR_CNT\""
      ]
     },
     "metadata": {},
     "output_type": "display_data"
    }
   ],
   "source": [
    "ls(x)"
   ]
  },
  {
   "cell_type": "code",
   "execution_count": 22,
   "id": "romantic-ground",
   "metadata": {},
   "outputs": [
    {
     "data": {
      "text/html": [
       "<ol class=list-inline>\n",
       "\t<li>396</li>\n",
       "\t<li>7</li>\n",
       "</ol>\n"
      ],
      "text/latex": [
       "\\begin{enumerate*}\n",
       "\\item 396\n",
       "\\item 7\n",
       "\\end{enumerate*}\n"
      ],
      "text/markdown": [
       "1. 396\n",
       "2. 7\n",
       "\n",
       "\n"
      ],
      "text/plain": [
       "[1] 396   7"
      ]
     },
     "metadata": {},
     "output_type": "display_data"
    }
   ],
   "source": [
    "dim(x)"
   ]
  },
  {
   "cell_type": "code",
   "execution_count": 23,
   "id": "interesting-gathering",
   "metadata": {},
   "outputs": [],
   "source": [
    "#데이터셋 찾는 help함수\n",
    "\n",
    "library(help = datasets)"
   ]
  },
  {
   "cell_type": "code",
   "execution_count": 28,
   "id": "improved-ordinary",
   "metadata": {},
   "outputs": [
    {
     "data": {
      "text/html": [
       "<table>\n",
       "<thead><tr><th scope=col>extra</th><th scope=col>group</th><th scope=col>ID</th></tr></thead>\n",
       "<tbody>\n",
       "\t<tr><td> 0.7</td><td>1   </td><td>1   </td></tr>\n",
       "\t<tr><td>-1.6</td><td>1   </td><td>2   </td></tr>\n",
       "\t<tr><td>-0.2</td><td>1   </td><td>3   </td></tr>\n",
       "\t<tr><td>-1.2</td><td>1   </td><td>4   </td></tr>\n",
       "\t<tr><td>-0.1</td><td>1   </td><td>5   </td></tr>\n",
       "\t<tr><td> 3.4</td><td>1   </td><td>6   </td></tr>\n",
       "</tbody>\n",
       "</table>\n"
      ],
      "text/latex": [
       "\\begin{tabular}{r|lll}\n",
       " extra & group & ID\\\\\n",
       "\\hline\n",
       "\t  0.7 & 1    & 1   \\\\\n",
       "\t -1.6 & 1    & 2   \\\\\n",
       "\t -0.2 & 1    & 3   \\\\\n",
       "\t -1.2 & 1    & 4   \\\\\n",
       "\t -0.1 & 1    & 5   \\\\\n",
       "\t  3.4 & 1    & 6   \\\\\n",
       "\\end{tabular}\n"
      ],
      "text/markdown": [
       "\n",
       "| extra | group | ID |\n",
       "|---|---|---|\n",
       "|  0.7 | 1    | 1    |\n",
       "| -1.6 | 1    | 2    |\n",
       "| -0.2 | 1    | 3    |\n",
       "| -1.2 | 1    | 4    |\n",
       "| -0.1 | 1    | 5    |\n",
       "|  3.4 | 1    | 6    |\n",
       "\n"
      ],
      "text/plain": [
       "  extra group ID\n",
       "1  0.7  1     1 \n",
       "2 -1.6  1     2 \n",
       "3 -0.2  1     3 \n",
       "4 -1.2  1     4 \n",
       "5 -0.1  1     5 \n",
       "6  3.4  1     6 "
      ]
     },
     "metadata": {},
     "output_type": "display_data"
    }
   ],
   "source": [
    "head(sleep)"
   ]
  },
  {
   "cell_type": "code",
   "execution_count": 29,
   "id": "architectural-italy",
   "metadata": {},
   "outputs": [
    {
     "data": {
      "text/html": [
       "<table>\n",
       "<thead><tr><th></th><th scope=col>extra</th><th scope=col>group</th><th scope=col>ID</th></tr></thead>\n",
       "<tbody>\n",
       "\t<tr><th scope=row>15</th><td>-0.1</td><td>2   </td><td>5   </td></tr>\n",
       "\t<tr><th scope=row>16</th><td> 4.4</td><td>2   </td><td>6   </td></tr>\n",
       "\t<tr><th scope=row>17</th><td> 5.5</td><td>2   </td><td>7   </td></tr>\n",
       "\t<tr><th scope=row>18</th><td> 1.6</td><td>2   </td><td>8   </td></tr>\n",
       "\t<tr><th scope=row>19</th><td> 4.6</td><td>2   </td><td>9   </td></tr>\n",
       "\t<tr><th scope=row>20</th><td> 3.4</td><td>2   </td><td>10  </td></tr>\n",
       "</tbody>\n",
       "</table>\n"
      ],
      "text/latex": [
       "\\begin{tabular}{r|lll}\n",
       "  & extra & group & ID\\\\\n",
       "\\hline\n",
       "\t15 & -0.1 & 2    & 5   \\\\\n",
       "\t16 &  4.4 & 2    & 6   \\\\\n",
       "\t17 &  5.5 & 2    & 7   \\\\\n",
       "\t18 &  1.6 & 2    & 8   \\\\\n",
       "\t19 &  4.6 & 2    & 9   \\\\\n",
       "\t20 &  3.4 & 2    & 10  \\\\\n",
       "\\end{tabular}\n"
      ],
      "text/markdown": [
       "\n",
       "| <!--/--> | extra | group | ID |\n",
       "|---|---|---|---|\n",
       "| 15 | -0.1 | 2    | 5    |\n",
       "| 16 |  4.4 | 2    | 6    |\n",
       "| 17 |  5.5 | 2    | 7    |\n",
       "| 18 |  1.6 | 2    | 8    |\n",
       "| 19 |  4.6 | 2    | 9    |\n",
       "| 20 |  3.4 | 2    | 10   |\n",
       "\n"
      ],
      "text/plain": [
       "   extra group ID\n",
       "15 -0.1  2     5 \n",
       "16  4.4  2     6 \n",
       "17  5.5  2     7 \n",
       "18  1.6  2     8 \n",
       "19  4.6  2     9 \n",
       "20  3.4  2     10"
      ]
     },
     "metadata": {},
     "output_type": "display_data"
    }
   ],
   "source": [
    "tail(sleep)"
   ]
  },
  {
   "cell_type": "code",
   "execution_count": 30,
   "id": "adjusted-integration",
   "metadata": {},
   "outputs": [
    {
     "data": {
      "text/plain": [
       "     extra        group        ID   \n",
       " Min.   :-1.600   1:10   1      :2  \n",
       " 1st Qu.:-0.025   2:10   2      :2  \n",
       " Median : 0.950          3      :2  \n",
       " Mean   : 1.540          4      :2  \n",
       " 3rd Qu.: 3.400          5      :2  \n",
       " Max.   : 5.500          6      :2  \n",
       "                         (Other):8  "
      ]
     },
     "metadata": {},
     "output_type": "display_data"
    }
   ],
   "source": [
    "summary(sleep)"
   ]
  },
  {
   "cell_type": "code",
   "execution_count": 31,
   "id": "medium-serbia",
   "metadata": {},
   "outputs": [
    {
     "data": {
      "text/plain": [
       "   Min. 1st Qu.  Median    Mean 3rd Qu.    Max. \n",
       " -1.600  -0.025   0.950   1.540   3.400   5.500 "
      ]
     },
     "metadata": {},
     "output_type": "display_data"
    }
   ],
   "source": [
    "summary(sleep$extra)"
   ]
  },
  {
   "cell_type": "code",
   "execution_count": 32,
   "id": "gothic-exhibition",
   "metadata": {},
   "outputs": [
    {
     "name": "stdout",
     "output_type": "stream",
     "text": [
      "'data.frame':\t20 obs. of  3 variables:\n",
      " $ extra: num  0.7 -1.6 -0.2 -1.2 -0.1 3.4 3.7 0.8 0 2 ...\n",
      " $ group: Factor w/ 2 levels \"1\",\"2\": 1 1 1 1 1 1 1 1 1 1 ...\n",
      " $ ID   : Factor w/ 10 levels \"1\",\"2\",\"3\",\"4\",..: 1 2 3 4 5 6 7 8 9 10 ...\n"
     ]
    }
   ],
   "source": [
    "str(sleep)"
   ]
  },
  {
   "cell_type": "code",
   "execution_count": 33,
   "id": "controlled-blank",
   "metadata": {},
   "outputs": [
    {
     "data": {
      "text/html": [
       "<ol class=list-inline>\n",
       "\t<li>20</li>\n",
       "\t<li>3</li>\n",
       "</ol>\n"
      ],
      "text/latex": [
       "\\begin{enumerate*}\n",
       "\\item 20\n",
       "\\item 3\n",
       "\\end{enumerate*}\n"
      ],
      "text/markdown": [
       "1. 20\n",
       "2. 3\n",
       "\n",
       "\n"
      ],
      "text/plain": [
       "[1] 20  3"
      ]
     },
     "metadata": {},
     "output_type": "display_data"
    }
   ],
   "source": [
    "dim(sleep)"
   ]
  },
  {
   "cell_type": "code",
   "execution_count": 39,
   "id": "patient-canadian",
   "metadata": {},
   "outputs": [
    {
     "data": {
      "text/html": [
       "<ol class=list-inline>\n",
       "\t<li>'extra'</li>\n",
       "\t<li>'group'</li>\n",
       "\t<li>'ID'</li>\n",
       "</ol>\n"
      ],
      "text/latex": [
       "\\begin{enumerate*}\n",
       "\\item 'extra'\n",
       "\\item 'group'\n",
       "\\item 'ID'\n",
       "\\end{enumerate*}\n"
      ],
      "text/markdown": [
       "1. 'extra'\n",
       "2. 'group'\n",
       "3. 'ID'\n",
       "\n",
       "\n"
      ],
      "text/plain": [
       "[1] \"extra\" \"group\" \"ID\"   "
      ]
     },
     "metadata": {},
     "output_type": "display_data"
    }
   ],
   "source": [
    "ls(sleep)"
   ]
  },
  {
   "cell_type": "code",
   "execution_count": 40,
   "id": "chinese-dryer",
   "metadata": {},
   "outputs": [
    {
     "data": {
      "text/plain": [
       "2984 bytes"
      ]
     },
     "metadata": {},
     "output_type": "display_data"
    }
   ],
   "source": [
    "object.size(sleep)"
   ]
  },
  {
   "cell_type": "code",
   "execution_count": 41,
   "id": "objective-sweet",
   "metadata": {},
   "outputs": [
    {
     "data": {
      "text/html": [
       "<table>\n",
       "<thead><tr><th scope=col>extra</th><th scope=col>group</th><th scope=col>ID</th></tr></thead>\n",
       "<tbody>\n",
       "\t<tr><td>FALSE</td><td>FALSE</td><td>FALSE</td></tr>\n",
       "\t<tr><td>FALSE</td><td>FALSE</td><td>FALSE</td></tr>\n",
       "\t<tr><td>FALSE</td><td>FALSE</td><td>FALSE</td></tr>\n",
       "\t<tr><td>FALSE</td><td>FALSE</td><td>FALSE</td></tr>\n",
       "\t<tr><td>FALSE</td><td>FALSE</td><td>FALSE</td></tr>\n",
       "\t<tr><td>FALSE</td><td>FALSE</td><td>FALSE</td></tr>\n",
       "\t<tr><td>FALSE</td><td>FALSE</td><td>FALSE</td></tr>\n",
       "\t<tr><td>FALSE</td><td>FALSE</td><td>FALSE</td></tr>\n",
       "\t<tr><td>FALSE</td><td>FALSE</td><td>FALSE</td></tr>\n",
       "\t<tr><td>FALSE</td><td>FALSE</td><td>FALSE</td></tr>\n",
       "\t<tr><td>FALSE</td><td>FALSE</td><td>FALSE</td></tr>\n",
       "\t<tr><td>FALSE</td><td>FALSE</td><td>FALSE</td></tr>\n",
       "\t<tr><td>FALSE</td><td>FALSE</td><td>FALSE</td></tr>\n",
       "\t<tr><td>FALSE</td><td>FALSE</td><td>FALSE</td></tr>\n",
       "\t<tr><td>FALSE</td><td>FALSE</td><td>FALSE</td></tr>\n",
       "\t<tr><td>FALSE</td><td>FALSE</td><td>FALSE</td></tr>\n",
       "\t<tr><td>FALSE</td><td>FALSE</td><td>FALSE</td></tr>\n",
       "\t<tr><td>FALSE</td><td>FALSE</td><td>FALSE</td></tr>\n",
       "\t<tr><td>FALSE</td><td>FALSE</td><td>FALSE</td></tr>\n",
       "\t<tr><td>FALSE</td><td>FALSE</td><td>FALSE</td></tr>\n",
       "</tbody>\n",
       "</table>\n"
      ],
      "text/latex": [
       "\\begin{tabular}{lll}\n",
       " extra & group & ID\\\\\n",
       "\\hline\n",
       "\t FALSE & FALSE & FALSE\\\\\n",
       "\t FALSE & FALSE & FALSE\\\\\n",
       "\t FALSE & FALSE & FALSE\\\\\n",
       "\t FALSE & FALSE & FALSE\\\\\n",
       "\t FALSE & FALSE & FALSE\\\\\n",
       "\t FALSE & FALSE & FALSE\\\\\n",
       "\t FALSE & FALSE & FALSE\\\\\n",
       "\t FALSE & FALSE & FALSE\\\\\n",
       "\t FALSE & FALSE & FALSE\\\\\n",
       "\t FALSE & FALSE & FALSE\\\\\n",
       "\t FALSE & FALSE & FALSE\\\\\n",
       "\t FALSE & FALSE & FALSE\\\\\n",
       "\t FALSE & FALSE & FALSE\\\\\n",
       "\t FALSE & FALSE & FALSE\\\\\n",
       "\t FALSE & FALSE & FALSE\\\\\n",
       "\t FALSE & FALSE & FALSE\\\\\n",
       "\t FALSE & FALSE & FALSE\\\\\n",
       "\t FALSE & FALSE & FALSE\\\\\n",
       "\t FALSE & FALSE & FALSE\\\\\n",
       "\t FALSE & FALSE & FALSE\\\\\n",
       "\\end{tabular}\n"
      ],
      "text/markdown": [
       "\n",
       "| extra | group | ID |\n",
       "|---|---|---|\n",
       "| FALSE | FALSE | FALSE |\n",
       "| FALSE | FALSE | FALSE |\n",
       "| FALSE | FALSE | FALSE |\n",
       "| FALSE | FALSE | FALSE |\n",
       "| FALSE | FALSE | FALSE |\n",
       "| FALSE | FALSE | FALSE |\n",
       "| FALSE | FALSE | FALSE |\n",
       "| FALSE | FALSE | FALSE |\n",
       "| FALSE | FALSE | FALSE |\n",
       "| FALSE | FALSE | FALSE |\n",
       "| FALSE | FALSE | FALSE |\n",
       "| FALSE | FALSE | FALSE |\n",
       "| FALSE | FALSE | FALSE |\n",
       "| FALSE | FALSE | FALSE |\n",
       "| FALSE | FALSE | FALSE |\n",
       "| FALSE | FALSE | FALSE |\n",
       "| FALSE | FALSE | FALSE |\n",
       "| FALSE | FALSE | FALSE |\n",
       "| FALSE | FALSE | FALSE |\n",
       "| FALSE | FALSE | FALSE |\n",
       "\n"
      ],
      "text/plain": [
       "      extra group ID   \n",
       " [1,] FALSE FALSE FALSE\n",
       " [2,] FALSE FALSE FALSE\n",
       " [3,] FALSE FALSE FALSE\n",
       " [4,] FALSE FALSE FALSE\n",
       " [5,] FALSE FALSE FALSE\n",
       " [6,] FALSE FALSE FALSE\n",
       " [7,] FALSE FALSE FALSE\n",
       " [8,] FALSE FALSE FALSE\n",
       " [9,] FALSE FALSE FALSE\n",
       "[10,] FALSE FALSE FALSE\n",
       "[11,] FALSE FALSE FALSE\n",
       "[12,] FALSE FALSE FALSE\n",
       "[13,] FALSE FALSE FALSE\n",
       "[14,] FALSE FALSE FALSE\n",
       "[15,] FALSE FALSE FALSE\n",
       "[16,] FALSE FALSE FALSE\n",
       "[17,] FALSE FALSE FALSE\n",
       "[18,] FALSE FALSE FALSE\n",
       "[19,] FALSE FALSE FALSE\n",
       "[20,] FALSE FALSE FALSE"
      ]
     },
     "metadata": {},
     "output_type": "display_data"
    }
   ],
   "source": [
    "# Is not available? True나오면 그 곳은 빈칸(결측치)_결측치 해결하는 가장 자주 사용하는 방법:\n",
    "# 그 값들의 평균을 넣는다\n",
    "is.na(sleep)"
   ]
  },
  {
   "cell_type": "code",
   "execution_count": 46,
   "id": "greek-account",
   "metadata": {},
   "outputs": [],
   "source": [
    "x <-c(1,2,3,4,5,6,7,8,NA,10)"
   ]
  },
  {
   "cell_type": "code",
   "execution_count": 47,
   "id": "ordered-triple",
   "metadata": {},
   "outputs": [
    {
     "data": {
      "text/html": [
       "<ol class=list-inline>\n",
       "\t<li>1</li>\n",
       "\t<li>2</li>\n",
       "\t<li>3</li>\n",
       "\t<li>4</li>\n",
       "\t<li>5</li>\n",
       "\t<li>6</li>\n",
       "\t<li>7</li>\n",
       "\t<li>8</li>\n",
       "\t<li>&lt;NA&gt;</li>\n",
       "\t<li>10</li>\n",
       "</ol>\n"
      ],
      "text/latex": [
       "\\begin{enumerate*}\n",
       "\\item 1\n",
       "\\item 2\n",
       "\\item 3\n",
       "\\item 4\n",
       "\\item 5\n",
       "\\item 6\n",
       "\\item 7\n",
       "\\item 8\n",
       "\\item <NA>\n",
       "\\item 10\n",
       "\\end{enumerate*}\n"
      ],
      "text/markdown": [
       "1. 1\n",
       "2. 2\n",
       "3. 3\n",
       "4. 4\n",
       "5. 5\n",
       "6. 6\n",
       "7. 7\n",
       "8. 8\n",
       "9. &lt;NA&gt;\n",
       "10. 10\n",
       "\n",
       "\n"
      ],
      "text/plain": [
       " [1]  1  2  3  4  5  6  7  8 NA 10"
      ]
     },
     "metadata": {},
     "output_type": "display_data"
    }
   ],
   "source": [
    "x"
   ]
  },
  {
   "cell_type": "code",
   "execution_count": 48,
   "id": "postal-standing",
   "metadata": {},
   "outputs": [
    {
     "data": {
      "text/html": [
       "<ol class=list-inline>\n",
       "\t<li>FALSE</li>\n",
       "\t<li>FALSE</li>\n",
       "\t<li>FALSE</li>\n",
       "\t<li>FALSE</li>\n",
       "\t<li>FALSE</li>\n",
       "\t<li>FALSE</li>\n",
       "\t<li>FALSE</li>\n",
       "\t<li>FALSE</li>\n",
       "\t<li>TRUE</li>\n",
       "\t<li>FALSE</li>\n",
       "</ol>\n"
      ],
      "text/latex": [
       "\\begin{enumerate*}\n",
       "\\item FALSE\n",
       "\\item FALSE\n",
       "\\item FALSE\n",
       "\\item FALSE\n",
       "\\item FALSE\n",
       "\\item FALSE\n",
       "\\item FALSE\n",
       "\\item FALSE\n",
       "\\item TRUE\n",
       "\\item FALSE\n",
       "\\end{enumerate*}\n"
      ],
      "text/markdown": [
       "1. FALSE\n",
       "2. FALSE\n",
       "3. FALSE\n",
       "4. FALSE\n",
       "5. FALSE\n",
       "6. FALSE\n",
       "7. FALSE\n",
       "8. FALSE\n",
       "9. TRUE\n",
       "10. FALSE\n",
       "\n",
       "\n"
      ],
      "text/plain": [
       " [1] FALSE FALSE FALSE FALSE FALSE FALSE FALSE FALSE  TRUE FALSE"
      ]
     },
     "metadata": {},
     "output_type": "display_data"
    }
   ],
   "source": [
    "is.na(x)"
   ]
  },
  {
   "cell_type": "code",
   "execution_count": 49,
   "id": "funded-savage",
   "metadata": {},
   "outputs": [
    {
     "data": {
      "text/html": [
       "FALSE"
      ],
      "text/latex": [
       "FALSE"
      ],
      "text/markdown": [
       "FALSE"
      ],
      "text/plain": [
       "[1] FALSE"
      ]
     },
     "metadata": {},
     "output_type": "display_data"
    }
   ],
   "source": [
    "is.character(x)"
   ]
  },
  {
   "cell_type": "code",
   "execution_count": 51,
   "id": "stopped-handy",
   "metadata": {},
   "outputs": [
    {
     "data": {
      "text/html": [
       "FALSE"
      ],
      "text/latex": [
       "FALSE"
      ],
      "text/markdown": [
       "FALSE"
      ],
      "text/plain": [
       "[1] FALSE"
      ]
     },
     "metadata": {},
     "output_type": "display_data"
    }
   ],
   "source": [
    "is.logical(x)"
   ]
  },
  {
   "cell_type": "code",
   "execution_count": 52,
   "id": "configured-ocean",
   "metadata": {},
   "outputs": [
    {
     "data": {
      "text/html": [
       "FALSE"
      ],
      "text/latex": [
       "FALSE"
      ],
      "text/markdown": [
       "FALSE"
      ],
      "text/plain": [
       "[1] FALSE"
      ]
     },
     "metadata": {},
     "output_type": "display_data"
    }
   ],
   "source": [
    "is.data.frame(x)"
   ]
  },
  {
   "cell_type": "code",
   "execution_count": 53,
   "id": "important-peeing",
   "metadata": {},
   "outputs": [
    {
     "data": {
      "text/html": [
       "TRUE"
      ],
      "text/latex": [
       "TRUE"
      ],
      "text/markdown": [
       "TRUE"
      ],
      "text/plain": [
       "[1] TRUE"
      ]
     },
     "metadata": {},
     "output_type": "display_data"
    }
   ],
   "source": [
    "is.numeric(x)"
   ]
  },
  {
   "cell_type": "code",
   "execution_count": 54,
   "id": "liked-horizontal",
   "metadata": {},
   "outputs": [],
   "source": [
    "#####################################################################\n",
    "# 조작 함수_사람이 해주어야하는 일(전처리), 컴퓨터가 아직 못 함(ex:결측치)\n",
    "####################################################################\n"
   ]
  },
  {
   "cell_type": "code",
   "execution_count": 55,
   "id": "circular-secretariat",
   "metadata": {},
   "outputs": [],
   "source": [
    "x <- c(1,2,3,4,5)\n",
    "y <-c (6,7,8,9,10)\n"
   ]
  },
  {
   "cell_type": "code",
   "execution_count": 56,
   "id": "bearing-basin",
   "metadata": {},
   "outputs": [
    {
     "data": {
      "text/html": [
       "<ol class=list-inline>\n",
       "\t<li>1</li>\n",
       "\t<li>2</li>\n",
       "\t<li>3</li>\n",
       "\t<li>4</li>\n",
       "\t<li>5</li>\n",
       "</ol>\n"
      ],
      "text/latex": [
       "\\begin{enumerate*}\n",
       "\\item 1\n",
       "\\item 2\n",
       "\\item 3\n",
       "\\item 4\n",
       "\\item 5\n",
       "\\end{enumerate*}\n"
      ],
      "text/markdown": [
       "1. 1\n",
       "2. 2\n",
       "3. 3\n",
       "4. 4\n",
       "5. 5\n",
       "\n",
       "\n"
      ],
      "text/plain": [
       "[1] 1 2 3 4 5"
      ]
     },
     "metadata": {},
     "output_type": "display_data"
    }
   ],
   "source": [
    "x"
   ]
  },
  {
   "cell_type": "code",
   "execution_count": 57,
   "id": "disciplinary-camcorder",
   "metadata": {},
   "outputs": [
    {
     "data": {
      "text/html": [
       "<ol class=list-inline>\n",
       "\t<li>6</li>\n",
       "\t<li>7</li>\n",
       "\t<li>8</li>\n",
       "\t<li>9</li>\n",
       "\t<li>10</li>\n",
       "</ol>\n"
      ],
      "text/latex": [
       "\\begin{enumerate*}\n",
       "\\item 6\n",
       "\\item 7\n",
       "\\item 8\n",
       "\\item 9\n",
       "\\item 10\n",
       "\\end{enumerate*}\n"
      ],
      "text/markdown": [
       "1. 6\n",
       "2. 7\n",
       "3. 8\n",
       "4. 9\n",
       "5. 10\n",
       "\n",
       "\n"
      ],
      "text/plain": [
       "[1]  6  7  8  9 10"
      ]
     },
     "metadata": {},
     "output_type": "display_data"
    }
   ],
   "source": [
    "y"
   ]
  },
  {
   "cell_type": "code",
   "execution_count": 58,
   "id": "appointed-sapphire",
   "metadata": {},
   "outputs": [],
   "source": [
    "z <- rbind(x,y)"
   ]
  },
  {
   "cell_type": "code",
   "execution_count": 59,
   "id": "classified-bullet",
   "metadata": {},
   "outputs": [
    {
     "data": {
      "text/html": [
       "<table>\n",
       "<tbody>\n",
       "\t<tr><th scope=row>x</th><td>1 </td><td>2 </td><td>3 </td><td>4 </td><td> 5</td></tr>\n",
       "\t<tr><th scope=row>y</th><td>6 </td><td>7 </td><td>8 </td><td>9 </td><td>10</td></tr>\n",
       "</tbody>\n",
       "</table>\n"
      ],
      "text/latex": [
       "\\begin{tabular}{r|lllll}\n",
       "\tx & 1  & 2  & 3  & 4  &  5\\\\\n",
       "\ty & 6  & 7  & 8  & 9  & 10\\\\\n",
       "\\end{tabular}\n"
      ],
      "text/markdown": [
       "\n",
       "| x | 1  | 2  | 3  | 4  |  5 |\n",
       "| y | 6  | 7  | 8  | 9  | 10 |\n",
       "\n"
      ],
      "text/plain": [
       "  [,1] [,2] [,3] [,4] [,5]\n",
       "x 1    2    3    4     5  \n",
       "y 6    7    8    9    10  "
      ]
     },
     "metadata": {},
     "output_type": "display_data"
    }
   ],
   "source": [
    "z"
   ]
  },
  {
   "cell_type": "code",
   "execution_count": 60,
   "id": "inside-bicycle",
   "metadata": {},
   "outputs": [
    {
     "data": {
      "text/html": [
       "<table>\n",
       "<thead><tr><th scope=col>x</th><th scope=col>y</th></tr></thead>\n",
       "<tbody>\n",
       "\t<tr><td>1 </td><td> 6</td></tr>\n",
       "\t<tr><td>2 </td><td> 7</td></tr>\n",
       "\t<tr><td>3 </td><td> 8</td></tr>\n",
       "\t<tr><td>4 </td><td> 9</td></tr>\n",
       "\t<tr><td>5 </td><td>10</td></tr>\n",
       "</tbody>\n",
       "</table>\n"
      ],
      "text/latex": [
       "\\begin{tabular}{ll}\n",
       " x & y\\\\\n",
       "\\hline\n",
       "\t 1  &  6\\\\\n",
       "\t 2  &  7\\\\\n",
       "\t 3  &  8\\\\\n",
       "\t 4  &  9\\\\\n",
       "\t 5  & 10\\\\\n",
       "\\end{tabular}\n"
      ],
      "text/markdown": [
       "\n",
       "| x | y |\n",
       "|---|---|\n",
       "| 1  |  6 |\n",
       "| 2  |  7 |\n",
       "| 3  |  8 |\n",
       "| 4  |  9 |\n",
       "| 5  | 10 |\n",
       "\n"
      ],
      "text/plain": [
       "     x y \n",
       "[1,] 1  6\n",
       "[2,] 2  7\n",
       "[3,] 3  8\n",
       "[4,] 4  9\n",
       "[5,] 5 10"
      ]
     },
     "metadata": {},
     "output_type": "display_data"
    }
   ],
   "source": [
    "cbind(x,y)"
   ]
  },
  {
   "cell_type": "code",
   "execution_count": 63,
   "id": "intermediate-offense",
   "metadata": {},
   "outputs": [],
   "source": [
    "df <- data.frame(name=c(\"a\",\"b\"),score=c(80,60))\n"
   ]
  },
  {
   "cell_type": "code",
   "execution_count": 64,
   "id": "transsexual-climate",
   "metadata": {},
   "outputs": [
    {
     "data": {
      "text/html": [
       "<table>\n",
       "<thead><tr><th scope=col>name</th><th scope=col>score</th></tr></thead>\n",
       "<tbody>\n",
       "\t<tr><td>a </td><td>80</td></tr>\n",
       "\t<tr><td>b </td><td>60</td></tr>\n",
       "</tbody>\n",
       "</table>\n"
      ],
      "text/latex": [
       "\\begin{tabular}{r|ll}\n",
       " name & score\\\\\n",
       "\\hline\n",
       "\t a  & 80\\\\\n",
       "\t b  & 60\\\\\n",
       "\\end{tabular}\n"
      ],
      "text/markdown": [
       "\n",
       "| name | score |\n",
       "|---|---|\n",
       "| a  | 80 |\n",
       "| b  | 60 |\n",
       "\n"
      ],
      "text/plain": [
       "  name score\n",
       "1 a    80   \n",
       "2 b    60   "
      ]
     },
     "metadata": {},
     "output_type": "display_data"
    }
   ],
   "source": [
    "df"
   ]
  },
  {
   "cell_type": "code",
   "execution_count": 98,
   "id": "small-desperate",
   "metadata": {},
   "outputs": [],
   "source": [
    "#\n",
    "cbind(df,rank=c(1,2))"
   ]
  },
  {
   "cell_type": "code",
   "execution_count": 67,
   "id": "taken-stanford",
   "metadata": {},
   "outputs": [
    {
     "data": {
      "text/html": [
       "<dl>\n",
       "\t<dt>$setosa</dt>\n",
       "\t\t<dd><table>\n",
       "<thead><tr><th scope=col>Sepal.Length</th><th scope=col>Sepal.Width</th><th scope=col>Petal.Length</th><th scope=col>Petal.Width</th><th scope=col>Species</th></tr></thead>\n",
       "<tbody>\n",
       "\t<tr><td>5.1   </td><td>3.5   </td><td>1.4   </td><td>0.2   </td><td>setosa</td></tr>\n",
       "\t<tr><td>4.9   </td><td>3.0   </td><td>1.4   </td><td>0.2   </td><td>setosa</td></tr>\n",
       "\t<tr><td>4.7   </td><td>3.2   </td><td>1.3   </td><td>0.2   </td><td>setosa</td></tr>\n",
       "\t<tr><td>4.6   </td><td>3.1   </td><td>1.5   </td><td>0.2   </td><td>setosa</td></tr>\n",
       "\t<tr><td>5.0   </td><td>3.6   </td><td>1.4   </td><td>0.2   </td><td>setosa</td></tr>\n",
       "\t<tr><td>5.4   </td><td>3.9   </td><td>1.7   </td><td>0.4   </td><td>setosa</td></tr>\n",
       "\t<tr><td>4.6   </td><td>3.4   </td><td>1.4   </td><td>0.3   </td><td>setosa</td></tr>\n",
       "\t<tr><td>5.0   </td><td>3.4   </td><td>1.5   </td><td>0.2   </td><td>setosa</td></tr>\n",
       "\t<tr><td>4.4   </td><td>2.9   </td><td>1.4   </td><td>0.2   </td><td>setosa</td></tr>\n",
       "\t<tr><td>4.9   </td><td>3.1   </td><td>1.5   </td><td>0.1   </td><td>setosa</td></tr>\n",
       "\t<tr><td>5.4   </td><td>3.7   </td><td>1.5   </td><td>0.2   </td><td>setosa</td></tr>\n",
       "\t<tr><td>4.8   </td><td>3.4   </td><td>1.6   </td><td>0.2   </td><td>setosa</td></tr>\n",
       "\t<tr><td>4.8   </td><td>3.0   </td><td>1.4   </td><td>0.1   </td><td>setosa</td></tr>\n",
       "\t<tr><td>4.3   </td><td>3.0   </td><td>1.1   </td><td>0.1   </td><td>setosa</td></tr>\n",
       "\t<tr><td>5.8   </td><td>4.0   </td><td>1.2   </td><td>0.2   </td><td>setosa</td></tr>\n",
       "\t<tr><td>5.7   </td><td>4.4   </td><td>1.5   </td><td>0.4   </td><td>setosa</td></tr>\n",
       "\t<tr><td>5.4   </td><td>3.9   </td><td>1.3   </td><td>0.4   </td><td>setosa</td></tr>\n",
       "\t<tr><td>5.1   </td><td>3.5   </td><td>1.4   </td><td>0.3   </td><td>setosa</td></tr>\n",
       "\t<tr><td>5.7   </td><td>3.8   </td><td>1.7   </td><td>0.3   </td><td>setosa</td></tr>\n",
       "\t<tr><td>5.1   </td><td>3.8   </td><td>1.5   </td><td>0.3   </td><td>setosa</td></tr>\n",
       "\t<tr><td>5.4   </td><td>3.4   </td><td>1.7   </td><td>0.2   </td><td>setosa</td></tr>\n",
       "\t<tr><td>5.1   </td><td>3.7   </td><td>1.5   </td><td>0.4   </td><td>setosa</td></tr>\n",
       "\t<tr><td>4.6   </td><td>3.6   </td><td>1.0   </td><td>0.2   </td><td>setosa</td></tr>\n",
       "\t<tr><td>5.1   </td><td>3.3   </td><td>1.7   </td><td>0.5   </td><td>setosa</td></tr>\n",
       "\t<tr><td>4.8   </td><td>3.4   </td><td>1.9   </td><td>0.2   </td><td>setosa</td></tr>\n",
       "\t<tr><td>5.0   </td><td>3.0   </td><td>1.6   </td><td>0.2   </td><td>setosa</td></tr>\n",
       "\t<tr><td>5.0   </td><td>3.4   </td><td>1.6   </td><td>0.4   </td><td>setosa</td></tr>\n",
       "\t<tr><td>5.2   </td><td>3.5   </td><td>1.5   </td><td>0.2   </td><td>setosa</td></tr>\n",
       "\t<tr><td>5.2   </td><td>3.4   </td><td>1.4   </td><td>0.2   </td><td>setosa</td></tr>\n",
       "\t<tr><td>4.7   </td><td>3.2   </td><td>1.6   </td><td>0.2   </td><td>setosa</td></tr>\n",
       "\t<tr><td>4.8   </td><td>3.1   </td><td>1.6   </td><td>0.2   </td><td>setosa</td></tr>\n",
       "\t<tr><td>5.4   </td><td>3.4   </td><td>1.5   </td><td>0.4   </td><td>setosa</td></tr>\n",
       "\t<tr><td>5.2   </td><td>4.1   </td><td>1.5   </td><td>0.1   </td><td>setosa</td></tr>\n",
       "\t<tr><td>5.5   </td><td>4.2   </td><td>1.4   </td><td>0.2   </td><td>setosa</td></tr>\n",
       "\t<tr><td>4.9   </td><td>3.1   </td><td>1.5   </td><td>0.2   </td><td>setosa</td></tr>\n",
       "\t<tr><td>5.0   </td><td>3.2   </td><td>1.2   </td><td>0.2   </td><td>setosa</td></tr>\n",
       "\t<tr><td>5.5   </td><td>3.5   </td><td>1.3   </td><td>0.2   </td><td>setosa</td></tr>\n",
       "\t<tr><td>4.9   </td><td>3.6   </td><td>1.4   </td><td>0.1   </td><td>setosa</td></tr>\n",
       "\t<tr><td>4.4   </td><td>3.0   </td><td>1.3   </td><td>0.2   </td><td>setosa</td></tr>\n",
       "\t<tr><td>5.1   </td><td>3.4   </td><td>1.5   </td><td>0.2   </td><td>setosa</td></tr>\n",
       "\t<tr><td>5.0   </td><td>3.5   </td><td>1.3   </td><td>0.3   </td><td>setosa</td></tr>\n",
       "\t<tr><td>4.5   </td><td>2.3   </td><td>1.3   </td><td>0.3   </td><td>setosa</td></tr>\n",
       "\t<tr><td>4.4   </td><td>3.2   </td><td>1.3   </td><td>0.2   </td><td>setosa</td></tr>\n",
       "\t<tr><td>5.0   </td><td>3.5   </td><td>1.6   </td><td>0.6   </td><td>setosa</td></tr>\n",
       "\t<tr><td>5.1   </td><td>3.8   </td><td>1.9   </td><td>0.4   </td><td>setosa</td></tr>\n",
       "\t<tr><td>4.8   </td><td>3.0   </td><td>1.4   </td><td>0.3   </td><td>setosa</td></tr>\n",
       "\t<tr><td>5.1   </td><td>3.8   </td><td>1.6   </td><td>0.2   </td><td>setosa</td></tr>\n",
       "\t<tr><td>4.6   </td><td>3.2   </td><td>1.4   </td><td>0.2   </td><td>setosa</td></tr>\n",
       "\t<tr><td>5.3   </td><td>3.7   </td><td>1.5   </td><td>0.2   </td><td>setosa</td></tr>\n",
       "\t<tr><td>5.0   </td><td>3.3   </td><td>1.4   </td><td>0.2   </td><td>setosa</td></tr>\n",
       "</tbody>\n",
       "</table>\n",
       "</dd>\n",
       "\t<dt>$versicolor</dt>\n",
       "\t\t<dd><table>\n",
       "<thead><tr><th></th><th scope=col>Sepal.Length</th><th scope=col>Sepal.Width</th><th scope=col>Petal.Length</th><th scope=col>Petal.Width</th><th scope=col>Species</th></tr></thead>\n",
       "<tbody>\n",
       "\t<tr><th scope=row>51</th><td>7.0       </td><td>3.2       </td><td>4.7       </td><td>1.4       </td><td>versicolor</td></tr>\n",
       "\t<tr><th scope=row>52</th><td>6.4       </td><td>3.2       </td><td>4.5       </td><td>1.5       </td><td>versicolor</td></tr>\n",
       "\t<tr><th scope=row>53</th><td>6.9       </td><td>3.1       </td><td>4.9       </td><td>1.5       </td><td>versicolor</td></tr>\n",
       "\t<tr><th scope=row>54</th><td>5.5       </td><td>2.3       </td><td>4.0       </td><td>1.3       </td><td>versicolor</td></tr>\n",
       "\t<tr><th scope=row>55</th><td>6.5       </td><td>2.8       </td><td>4.6       </td><td>1.5       </td><td>versicolor</td></tr>\n",
       "\t<tr><th scope=row>56</th><td>5.7       </td><td>2.8       </td><td>4.5       </td><td>1.3       </td><td>versicolor</td></tr>\n",
       "\t<tr><th scope=row>57</th><td>6.3       </td><td>3.3       </td><td>4.7       </td><td>1.6       </td><td>versicolor</td></tr>\n",
       "\t<tr><th scope=row>58</th><td>4.9       </td><td>2.4       </td><td>3.3       </td><td>1.0       </td><td>versicolor</td></tr>\n",
       "\t<tr><th scope=row>59</th><td>6.6       </td><td>2.9       </td><td>4.6       </td><td>1.3       </td><td>versicolor</td></tr>\n",
       "\t<tr><th scope=row>60</th><td>5.2       </td><td>2.7       </td><td>3.9       </td><td>1.4       </td><td>versicolor</td></tr>\n",
       "\t<tr><th scope=row>61</th><td>5.0       </td><td>2.0       </td><td>3.5       </td><td>1.0       </td><td>versicolor</td></tr>\n",
       "\t<tr><th scope=row>62</th><td>5.9       </td><td>3.0       </td><td>4.2       </td><td>1.5       </td><td>versicolor</td></tr>\n",
       "\t<tr><th scope=row>63</th><td>6.0       </td><td>2.2       </td><td>4.0       </td><td>1.0       </td><td>versicolor</td></tr>\n",
       "\t<tr><th scope=row>64</th><td>6.1       </td><td>2.9       </td><td>4.7       </td><td>1.4       </td><td>versicolor</td></tr>\n",
       "\t<tr><th scope=row>65</th><td>5.6       </td><td>2.9       </td><td>3.6       </td><td>1.3       </td><td>versicolor</td></tr>\n",
       "\t<tr><th scope=row>66</th><td>6.7       </td><td>3.1       </td><td>4.4       </td><td>1.4       </td><td>versicolor</td></tr>\n",
       "\t<tr><th scope=row>67</th><td>5.6       </td><td>3.0       </td><td>4.5       </td><td>1.5       </td><td>versicolor</td></tr>\n",
       "\t<tr><th scope=row>68</th><td>5.8       </td><td>2.7       </td><td>4.1       </td><td>1.0       </td><td>versicolor</td></tr>\n",
       "\t<tr><th scope=row>69</th><td>6.2       </td><td>2.2       </td><td>4.5       </td><td>1.5       </td><td>versicolor</td></tr>\n",
       "\t<tr><th scope=row>70</th><td>5.6       </td><td>2.5       </td><td>3.9       </td><td>1.1       </td><td>versicolor</td></tr>\n",
       "\t<tr><th scope=row>71</th><td>5.9       </td><td>3.2       </td><td>4.8       </td><td>1.8       </td><td>versicolor</td></tr>\n",
       "\t<tr><th scope=row>72</th><td>6.1       </td><td>2.8       </td><td>4.0       </td><td>1.3       </td><td>versicolor</td></tr>\n",
       "\t<tr><th scope=row>73</th><td>6.3       </td><td>2.5       </td><td>4.9       </td><td>1.5       </td><td>versicolor</td></tr>\n",
       "\t<tr><th scope=row>74</th><td>6.1       </td><td>2.8       </td><td>4.7       </td><td>1.2       </td><td>versicolor</td></tr>\n",
       "\t<tr><th scope=row>75</th><td>6.4       </td><td>2.9       </td><td>4.3       </td><td>1.3       </td><td>versicolor</td></tr>\n",
       "\t<tr><th scope=row>76</th><td>6.6       </td><td>3.0       </td><td>4.4       </td><td>1.4       </td><td>versicolor</td></tr>\n",
       "\t<tr><th scope=row>77</th><td>6.8       </td><td>2.8       </td><td>4.8       </td><td>1.4       </td><td>versicolor</td></tr>\n",
       "\t<tr><th scope=row>78</th><td>6.7       </td><td>3.0       </td><td>5.0       </td><td>1.7       </td><td>versicolor</td></tr>\n",
       "\t<tr><th scope=row>79</th><td>6.0       </td><td>2.9       </td><td>4.5       </td><td>1.5       </td><td>versicolor</td></tr>\n",
       "\t<tr><th scope=row>80</th><td>5.7       </td><td>2.6       </td><td>3.5       </td><td>1.0       </td><td>versicolor</td></tr>\n",
       "\t<tr><th scope=row>81</th><td>5.5       </td><td>2.4       </td><td>3.8       </td><td>1.1       </td><td>versicolor</td></tr>\n",
       "\t<tr><th scope=row>82</th><td>5.5       </td><td>2.4       </td><td>3.7       </td><td>1.0       </td><td>versicolor</td></tr>\n",
       "\t<tr><th scope=row>83</th><td>5.8       </td><td>2.7       </td><td>3.9       </td><td>1.2       </td><td>versicolor</td></tr>\n",
       "\t<tr><th scope=row>84</th><td>6.0       </td><td>2.7       </td><td>5.1       </td><td>1.6       </td><td>versicolor</td></tr>\n",
       "\t<tr><th scope=row>85</th><td>5.4       </td><td>3.0       </td><td>4.5       </td><td>1.5       </td><td>versicolor</td></tr>\n",
       "\t<tr><th scope=row>86</th><td>6.0       </td><td>3.4       </td><td>4.5       </td><td>1.6       </td><td>versicolor</td></tr>\n",
       "\t<tr><th scope=row>87</th><td>6.7       </td><td>3.1       </td><td>4.7       </td><td>1.5       </td><td>versicolor</td></tr>\n",
       "\t<tr><th scope=row>88</th><td>6.3       </td><td>2.3       </td><td>4.4       </td><td>1.3       </td><td>versicolor</td></tr>\n",
       "\t<tr><th scope=row>89</th><td>5.6       </td><td>3.0       </td><td>4.1       </td><td>1.3       </td><td>versicolor</td></tr>\n",
       "\t<tr><th scope=row>90</th><td>5.5       </td><td>2.5       </td><td>4.0       </td><td>1.3       </td><td>versicolor</td></tr>\n",
       "\t<tr><th scope=row>91</th><td>5.5       </td><td>2.6       </td><td>4.4       </td><td>1.2       </td><td>versicolor</td></tr>\n",
       "\t<tr><th scope=row>92</th><td>6.1       </td><td>3.0       </td><td>4.6       </td><td>1.4       </td><td>versicolor</td></tr>\n",
       "\t<tr><th scope=row>93</th><td>5.8       </td><td>2.6       </td><td>4.0       </td><td>1.2       </td><td>versicolor</td></tr>\n",
       "\t<tr><th scope=row>94</th><td>5.0       </td><td>2.3       </td><td>3.3       </td><td>1.0       </td><td>versicolor</td></tr>\n",
       "\t<tr><th scope=row>95</th><td>5.6       </td><td>2.7       </td><td>4.2       </td><td>1.3       </td><td>versicolor</td></tr>\n",
       "\t<tr><th scope=row>96</th><td>5.7       </td><td>3.0       </td><td>4.2       </td><td>1.2       </td><td>versicolor</td></tr>\n",
       "\t<tr><th scope=row>97</th><td>5.7       </td><td>2.9       </td><td>4.2       </td><td>1.3       </td><td>versicolor</td></tr>\n",
       "\t<tr><th scope=row>98</th><td>6.2       </td><td>2.9       </td><td>4.3       </td><td>1.3       </td><td>versicolor</td></tr>\n",
       "\t<tr><th scope=row>99</th><td>5.1       </td><td>2.5       </td><td>3.0       </td><td>1.1       </td><td>versicolor</td></tr>\n",
       "\t<tr><th scope=row>100</th><td>5.7       </td><td>2.8       </td><td>4.1       </td><td>1.3       </td><td>versicolor</td></tr>\n",
       "</tbody>\n",
       "</table>\n",
       "</dd>\n",
       "\t<dt>$virginica</dt>\n",
       "\t\t<dd><table>\n",
       "<thead><tr><th></th><th scope=col>Sepal.Length</th><th scope=col>Sepal.Width</th><th scope=col>Petal.Length</th><th scope=col>Petal.Width</th><th scope=col>Species</th></tr></thead>\n",
       "<tbody>\n",
       "\t<tr><th scope=row>101</th><td>6.3      </td><td>3.3      </td><td>6.0      </td><td>2.5      </td><td>virginica</td></tr>\n",
       "\t<tr><th scope=row>102</th><td>5.8      </td><td>2.7      </td><td>5.1      </td><td>1.9      </td><td>virginica</td></tr>\n",
       "\t<tr><th scope=row>103</th><td>7.1      </td><td>3.0      </td><td>5.9      </td><td>2.1      </td><td>virginica</td></tr>\n",
       "\t<tr><th scope=row>104</th><td>6.3      </td><td>2.9      </td><td>5.6      </td><td>1.8      </td><td>virginica</td></tr>\n",
       "\t<tr><th scope=row>105</th><td>6.5      </td><td>3.0      </td><td>5.8      </td><td>2.2      </td><td>virginica</td></tr>\n",
       "\t<tr><th scope=row>106</th><td>7.6      </td><td>3.0      </td><td>6.6      </td><td>2.1      </td><td>virginica</td></tr>\n",
       "\t<tr><th scope=row>107</th><td>4.9      </td><td>2.5      </td><td>4.5      </td><td>1.7      </td><td>virginica</td></tr>\n",
       "\t<tr><th scope=row>108</th><td>7.3      </td><td>2.9      </td><td>6.3      </td><td>1.8      </td><td>virginica</td></tr>\n",
       "\t<tr><th scope=row>109</th><td>6.7      </td><td>2.5      </td><td>5.8      </td><td>1.8      </td><td>virginica</td></tr>\n",
       "\t<tr><th scope=row>110</th><td>7.2      </td><td>3.6      </td><td>6.1      </td><td>2.5      </td><td>virginica</td></tr>\n",
       "\t<tr><th scope=row>111</th><td>6.5      </td><td>3.2      </td><td>5.1      </td><td>2.0      </td><td>virginica</td></tr>\n",
       "\t<tr><th scope=row>112</th><td>6.4      </td><td>2.7      </td><td>5.3      </td><td>1.9      </td><td>virginica</td></tr>\n",
       "\t<tr><th scope=row>113</th><td>6.8      </td><td>3.0      </td><td>5.5      </td><td>2.1      </td><td>virginica</td></tr>\n",
       "\t<tr><th scope=row>114</th><td>5.7      </td><td>2.5      </td><td>5.0      </td><td>2.0      </td><td>virginica</td></tr>\n",
       "\t<tr><th scope=row>115</th><td>5.8      </td><td>2.8      </td><td>5.1      </td><td>2.4      </td><td>virginica</td></tr>\n",
       "\t<tr><th scope=row>116</th><td>6.4      </td><td>3.2      </td><td>5.3      </td><td>2.3      </td><td>virginica</td></tr>\n",
       "\t<tr><th scope=row>117</th><td>6.5      </td><td>3.0      </td><td>5.5      </td><td>1.8      </td><td>virginica</td></tr>\n",
       "\t<tr><th scope=row>118</th><td>7.7      </td><td>3.8      </td><td>6.7      </td><td>2.2      </td><td>virginica</td></tr>\n",
       "\t<tr><th scope=row>119</th><td>7.7      </td><td>2.6      </td><td>6.9      </td><td>2.3      </td><td>virginica</td></tr>\n",
       "\t<tr><th scope=row>120</th><td>6.0      </td><td>2.2      </td><td>5.0      </td><td>1.5      </td><td>virginica</td></tr>\n",
       "\t<tr><th scope=row>121</th><td>6.9      </td><td>3.2      </td><td>5.7      </td><td>2.3      </td><td>virginica</td></tr>\n",
       "\t<tr><th scope=row>122</th><td>5.6      </td><td>2.8      </td><td>4.9      </td><td>2.0      </td><td>virginica</td></tr>\n",
       "\t<tr><th scope=row>123</th><td>7.7      </td><td>2.8      </td><td>6.7      </td><td>2.0      </td><td>virginica</td></tr>\n",
       "\t<tr><th scope=row>124</th><td>6.3      </td><td>2.7      </td><td>4.9      </td><td>1.8      </td><td>virginica</td></tr>\n",
       "\t<tr><th scope=row>125</th><td>6.7      </td><td>3.3      </td><td>5.7      </td><td>2.1      </td><td>virginica</td></tr>\n",
       "\t<tr><th scope=row>126</th><td>7.2      </td><td>3.2      </td><td>6.0      </td><td>1.8      </td><td>virginica</td></tr>\n",
       "\t<tr><th scope=row>127</th><td>6.2      </td><td>2.8      </td><td>4.8      </td><td>1.8      </td><td>virginica</td></tr>\n",
       "\t<tr><th scope=row>128</th><td>6.1      </td><td>3.0      </td><td>4.9      </td><td>1.8      </td><td>virginica</td></tr>\n",
       "\t<tr><th scope=row>129</th><td>6.4      </td><td>2.8      </td><td>5.6      </td><td>2.1      </td><td>virginica</td></tr>\n",
       "\t<tr><th scope=row>130</th><td>7.2      </td><td>3.0      </td><td>5.8      </td><td>1.6      </td><td>virginica</td></tr>\n",
       "\t<tr><th scope=row>131</th><td>7.4      </td><td>2.8      </td><td>6.1      </td><td>1.9      </td><td>virginica</td></tr>\n",
       "\t<tr><th scope=row>132</th><td>7.9      </td><td>3.8      </td><td>6.4      </td><td>2.0      </td><td>virginica</td></tr>\n",
       "\t<tr><th scope=row>133</th><td>6.4      </td><td>2.8      </td><td>5.6      </td><td>2.2      </td><td>virginica</td></tr>\n",
       "\t<tr><th scope=row>134</th><td>6.3      </td><td>2.8      </td><td>5.1      </td><td>1.5      </td><td>virginica</td></tr>\n",
       "\t<tr><th scope=row>135</th><td>6.1      </td><td>2.6      </td><td>5.6      </td><td>1.4      </td><td>virginica</td></tr>\n",
       "\t<tr><th scope=row>136</th><td>7.7      </td><td>3.0      </td><td>6.1      </td><td>2.3      </td><td>virginica</td></tr>\n",
       "\t<tr><th scope=row>137</th><td>6.3      </td><td>3.4      </td><td>5.6      </td><td>2.4      </td><td>virginica</td></tr>\n",
       "\t<tr><th scope=row>138</th><td>6.4      </td><td>3.1      </td><td>5.5      </td><td>1.8      </td><td>virginica</td></tr>\n",
       "\t<tr><th scope=row>139</th><td>6.0      </td><td>3.0      </td><td>4.8      </td><td>1.8      </td><td>virginica</td></tr>\n",
       "\t<tr><th scope=row>140</th><td>6.9      </td><td>3.1      </td><td>5.4      </td><td>2.1      </td><td>virginica</td></tr>\n",
       "\t<tr><th scope=row>141</th><td>6.7      </td><td>3.1      </td><td>5.6      </td><td>2.4      </td><td>virginica</td></tr>\n",
       "\t<tr><th scope=row>142</th><td>6.9      </td><td>3.1      </td><td>5.1      </td><td>2.3      </td><td>virginica</td></tr>\n",
       "\t<tr><th scope=row>143</th><td>5.8      </td><td>2.7      </td><td>5.1      </td><td>1.9      </td><td>virginica</td></tr>\n",
       "\t<tr><th scope=row>144</th><td>6.8      </td><td>3.2      </td><td>5.9      </td><td>2.3      </td><td>virginica</td></tr>\n",
       "\t<tr><th scope=row>145</th><td>6.7      </td><td>3.3      </td><td>5.7      </td><td>2.5      </td><td>virginica</td></tr>\n",
       "\t<tr><th scope=row>146</th><td>6.7      </td><td>3.0      </td><td>5.2      </td><td>2.3      </td><td>virginica</td></tr>\n",
       "\t<tr><th scope=row>147</th><td>6.3      </td><td>2.5      </td><td>5.0      </td><td>1.9      </td><td>virginica</td></tr>\n",
       "\t<tr><th scope=row>148</th><td>6.5      </td><td>3.0      </td><td>5.2      </td><td>2.0      </td><td>virginica</td></tr>\n",
       "\t<tr><th scope=row>149</th><td>6.2      </td><td>3.4      </td><td>5.4      </td><td>2.3      </td><td>virginica</td></tr>\n",
       "\t<tr><th scope=row>150</th><td>5.9      </td><td>3.0      </td><td>5.1      </td><td>1.8      </td><td>virginica</td></tr>\n",
       "</tbody>\n",
       "</table>\n",
       "</dd>\n",
       "</dl>\n"
      ],
      "text/latex": [
       "\\begin{description}\n",
       "\\item[\\$setosa] \\begin{tabular}{r|lllll}\n",
       " Sepal.Length & Sepal.Width & Petal.Length & Petal.Width & Species\\\\\n",
       "\\hline\n",
       "\t 5.1    & 3.5    & 1.4    & 0.2    & setosa\\\\\n",
       "\t 4.9    & 3.0    & 1.4    & 0.2    & setosa\\\\\n",
       "\t 4.7    & 3.2    & 1.3    & 0.2    & setosa\\\\\n",
       "\t 4.6    & 3.1    & 1.5    & 0.2    & setosa\\\\\n",
       "\t 5.0    & 3.6    & 1.4    & 0.2    & setosa\\\\\n",
       "\t 5.4    & 3.9    & 1.7    & 0.4    & setosa\\\\\n",
       "\t 4.6    & 3.4    & 1.4    & 0.3    & setosa\\\\\n",
       "\t 5.0    & 3.4    & 1.5    & 0.2    & setosa\\\\\n",
       "\t 4.4    & 2.9    & 1.4    & 0.2    & setosa\\\\\n",
       "\t 4.9    & 3.1    & 1.5    & 0.1    & setosa\\\\\n",
       "\t 5.4    & 3.7    & 1.5    & 0.2    & setosa\\\\\n",
       "\t 4.8    & 3.4    & 1.6    & 0.2    & setosa\\\\\n",
       "\t 4.8    & 3.0    & 1.4    & 0.1    & setosa\\\\\n",
       "\t 4.3    & 3.0    & 1.1    & 0.1    & setosa\\\\\n",
       "\t 5.8    & 4.0    & 1.2    & 0.2    & setosa\\\\\n",
       "\t 5.7    & 4.4    & 1.5    & 0.4    & setosa\\\\\n",
       "\t 5.4    & 3.9    & 1.3    & 0.4    & setosa\\\\\n",
       "\t 5.1    & 3.5    & 1.4    & 0.3    & setosa\\\\\n",
       "\t 5.7    & 3.8    & 1.7    & 0.3    & setosa\\\\\n",
       "\t 5.1    & 3.8    & 1.5    & 0.3    & setosa\\\\\n",
       "\t 5.4    & 3.4    & 1.7    & 0.2    & setosa\\\\\n",
       "\t 5.1    & 3.7    & 1.5    & 0.4    & setosa\\\\\n",
       "\t 4.6    & 3.6    & 1.0    & 0.2    & setosa\\\\\n",
       "\t 5.1    & 3.3    & 1.7    & 0.5    & setosa\\\\\n",
       "\t 4.8    & 3.4    & 1.9    & 0.2    & setosa\\\\\n",
       "\t 5.0    & 3.0    & 1.6    & 0.2    & setosa\\\\\n",
       "\t 5.0    & 3.4    & 1.6    & 0.4    & setosa\\\\\n",
       "\t 5.2    & 3.5    & 1.5    & 0.2    & setosa\\\\\n",
       "\t 5.2    & 3.4    & 1.4    & 0.2    & setosa\\\\\n",
       "\t 4.7    & 3.2    & 1.6    & 0.2    & setosa\\\\\n",
       "\t 4.8    & 3.1    & 1.6    & 0.2    & setosa\\\\\n",
       "\t 5.4    & 3.4    & 1.5    & 0.4    & setosa\\\\\n",
       "\t 5.2    & 4.1    & 1.5    & 0.1    & setosa\\\\\n",
       "\t 5.5    & 4.2    & 1.4    & 0.2    & setosa\\\\\n",
       "\t 4.9    & 3.1    & 1.5    & 0.2    & setosa\\\\\n",
       "\t 5.0    & 3.2    & 1.2    & 0.2    & setosa\\\\\n",
       "\t 5.5    & 3.5    & 1.3    & 0.2    & setosa\\\\\n",
       "\t 4.9    & 3.6    & 1.4    & 0.1    & setosa\\\\\n",
       "\t 4.4    & 3.0    & 1.3    & 0.2    & setosa\\\\\n",
       "\t 5.1    & 3.4    & 1.5    & 0.2    & setosa\\\\\n",
       "\t 5.0    & 3.5    & 1.3    & 0.3    & setosa\\\\\n",
       "\t 4.5    & 2.3    & 1.3    & 0.3    & setosa\\\\\n",
       "\t 4.4    & 3.2    & 1.3    & 0.2    & setosa\\\\\n",
       "\t 5.0    & 3.5    & 1.6    & 0.6    & setosa\\\\\n",
       "\t 5.1    & 3.8    & 1.9    & 0.4    & setosa\\\\\n",
       "\t 4.8    & 3.0    & 1.4    & 0.3    & setosa\\\\\n",
       "\t 5.1    & 3.8    & 1.6    & 0.2    & setosa\\\\\n",
       "\t 4.6    & 3.2    & 1.4    & 0.2    & setosa\\\\\n",
       "\t 5.3    & 3.7    & 1.5    & 0.2    & setosa\\\\\n",
       "\t 5.0    & 3.3    & 1.4    & 0.2    & setosa\\\\\n",
       "\\end{tabular}\n",
       "\n",
       "\\item[\\$versicolor] \\begin{tabular}{r|lllll}\n",
       "  & Sepal.Length & Sepal.Width & Petal.Length & Petal.Width & Species\\\\\n",
       "\\hline\n",
       "\t51 & 7.0        & 3.2        & 4.7        & 1.4        & versicolor\\\\\n",
       "\t52 & 6.4        & 3.2        & 4.5        & 1.5        & versicolor\\\\\n",
       "\t53 & 6.9        & 3.1        & 4.9        & 1.5        & versicolor\\\\\n",
       "\t54 & 5.5        & 2.3        & 4.0        & 1.3        & versicolor\\\\\n",
       "\t55 & 6.5        & 2.8        & 4.6        & 1.5        & versicolor\\\\\n",
       "\t56 & 5.7        & 2.8        & 4.5        & 1.3        & versicolor\\\\\n",
       "\t57 & 6.3        & 3.3        & 4.7        & 1.6        & versicolor\\\\\n",
       "\t58 & 4.9        & 2.4        & 3.3        & 1.0        & versicolor\\\\\n",
       "\t59 & 6.6        & 2.9        & 4.6        & 1.3        & versicolor\\\\\n",
       "\t60 & 5.2        & 2.7        & 3.9        & 1.4        & versicolor\\\\\n",
       "\t61 & 5.0        & 2.0        & 3.5        & 1.0        & versicolor\\\\\n",
       "\t62 & 5.9        & 3.0        & 4.2        & 1.5        & versicolor\\\\\n",
       "\t63 & 6.0        & 2.2        & 4.0        & 1.0        & versicolor\\\\\n",
       "\t64 & 6.1        & 2.9        & 4.7        & 1.4        & versicolor\\\\\n",
       "\t65 & 5.6        & 2.9        & 3.6        & 1.3        & versicolor\\\\\n",
       "\t66 & 6.7        & 3.1        & 4.4        & 1.4        & versicolor\\\\\n",
       "\t67 & 5.6        & 3.0        & 4.5        & 1.5        & versicolor\\\\\n",
       "\t68 & 5.8        & 2.7        & 4.1        & 1.0        & versicolor\\\\\n",
       "\t69 & 6.2        & 2.2        & 4.5        & 1.5        & versicolor\\\\\n",
       "\t70 & 5.6        & 2.5        & 3.9        & 1.1        & versicolor\\\\\n",
       "\t71 & 5.9        & 3.2        & 4.8        & 1.8        & versicolor\\\\\n",
       "\t72 & 6.1        & 2.8        & 4.0        & 1.3        & versicolor\\\\\n",
       "\t73 & 6.3        & 2.5        & 4.9        & 1.5        & versicolor\\\\\n",
       "\t74 & 6.1        & 2.8        & 4.7        & 1.2        & versicolor\\\\\n",
       "\t75 & 6.4        & 2.9        & 4.3        & 1.3        & versicolor\\\\\n",
       "\t76 & 6.6        & 3.0        & 4.4        & 1.4        & versicolor\\\\\n",
       "\t77 & 6.8        & 2.8        & 4.8        & 1.4        & versicolor\\\\\n",
       "\t78 & 6.7        & 3.0        & 5.0        & 1.7        & versicolor\\\\\n",
       "\t79 & 6.0        & 2.9        & 4.5        & 1.5        & versicolor\\\\\n",
       "\t80 & 5.7        & 2.6        & 3.5        & 1.0        & versicolor\\\\\n",
       "\t81 & 5.5        & 2.4        & 3.8        & 1.1        & versicolor\\\\\n",
       "\t82 & 5.5        & 2.4        & 3.7        & 1.0        & versicolor\\\\\n",
       "\t83 & 5.8        & 2.7        & 3.9        & 1.2        & versicolor\\\\\n",
       "\t84 & 6.0        & 2.7        & 5.1        & 1.6        & versicolor\\\\\n",
       "\t85 & 5.4        & 3.0        & 4.5        & 1.5        & versicolor\\\\\n",
       "\t86 & 6.0        & 3.4        & 4.5        & 1.6        & versicolor\\\\\n",
       "\t87 & 6.7        & 3.1        & 4.7        & 1.5        & versicolor\\\\\n",
       "\t88 & 6.3        & 2.3        & 4.4        & 1.3        & versicolor\\\\\n",
       "\t89 & 5.6        & 3.0        & 4.1        & 1.3        & versicolor\\\\\n",
       "\t90 & 5.5        & 2.5        & 4.0        & 1.3        & versicolor\\\\\n",
       "\t91 & 5.5        & 2.6        & 4.4        & 1.2        & versicolor\\\\\n",
       "\t92 & 6.1        & 3.0        & 4.6        & 1.4        & versicolor\\\\\n",
       "\t93 & 5.8        & 2.6        & 4.0        & 1.2        & versicolor\\\\\n",
       "\t94 & 5.0        & 2.3        & 3.3        & 1.0        & versicolor\\\\\n",
       "\t95 & 5.6        & 2.7        & 4.2        & 1.3        & versicolor\\\\\n",
       "\t96 & 5.7        & 3.0        & 4.2        & 1.2        & versicolor\\\\\n",
       "\t97 & 5.7        & 2.9        & 4.2        & 1.3        & versicolor\\\\\n",
       "\t98 & 6.2        & 2.9        & 4.3        & 1.3        & versicolor\\\\\n",
       "\t99 & 5.1        & 2.5        & 3.0        & 1.1        & versicolor\\\\\n",
       "\t100 & 5.7        & 2.8        & 4.1        & 1.3        & versicolor\\\\\n",
       "\\end{tabular}\n",
       "\n",
       "\\item[\\$virginica] \\begin{tabular}{r|lllll}\n",
       "  & Sepal.Length & Sepal.Width & Petal.Length & Petal.Width & Species\\\\\n",
       "\\hline\n",
       "\t101 & 6.3       & 3.3       & 6.0       & 2.5       & virginica\\\\\n",
       "\t102 & 5.8       & 2.7       & 5.1       & 1.9       & virginica\\\\\n",
       "\t103 & 7.1       & 3.0       & 5.9       & 2.1       & virginica\\\\\n",
       "\t104 & 6.3       & 2.9       & 5.6       & 1.8       & virginica\\\\\n",
       "\t105 & 6.5       & 3.0       & 5.8       & 2.2       & virginica\\\\\n",
       "\t106 & 7.6       & 3.0       & 6.6       & 2.1       & virginica\\\\\n",
       "\t107 & 4.9       & 2.5       & 4.5       & 1.7       & virginica\\\\\n",
       "\t108 & 7.3       & 2.9       & 6.3       & 1.8       & virginica\\\\\n",
       "\t109 & 6.7       & 2.5       & 5.8       & 1.8       & virginica\\\\\n",
       "\t110 & 7.2       & 3.6       & 6.1       & 2.5       & virginica\\\\\n",
       "\t111 & 6.5       & 3.2       & 5.1       & 2.0       & virginica\\\\\n",
       "\t112 & 6.4       & 2.7       & 5.3       & 1.9       & virginica\\\\\n",
       "\t113 & 6.8       & 3.0       & 5.5       & 2.1       & virginica\\\\\n",
       "\t114 & 5.7       & 2.5       & 5.0       & 2.0       & virginica\\\\\n",
       "\t115 & 5.8       & 2.8       & 5.1       & 2.4       & virginica\\\\\n",
       "\t116 & 6.4       & 3.2       & 5.3       & 2.3       & virginica\\\\\n",
       "\t117 & 6.5       & 3.0       & 5.5       & 1.8       & virginica\\\\\n",
       "\t118 & 7.7       & 3.8       & 6.7       & 2.2       & virginica\\\\\n",
       "\t119 & 7.7       & 2.6       & 6.9       & 2.3       & virginica\\\\\n",
       "\t120 & 6.0       & 2.2       & 5.0       & 1.5       & virginica\\\\\n",
       "\t121 & 6.9       & 3.2       & 5.7       & 2.3       & virginica\\\\\n",
       "\t122 & 5.6       & 2.8       & 4.9       & 2.0       & virginica\\\\\n",
       "\t123 & 7.7       & 2.8       & 6.7       & 2.0       & virginica\\\\\n",
       "\t124 & 6.3       & 2.7       & 4.9       & 1.8       & virginica\\\\\n",
       "\t125 & 6.7       & 3.3       & 5.7       & 2.1       & virginica\\\\\n",
       "\t126 & 7.2       & 3.2       & 6.0       & 1.8       & virginica\\\\\n",
       "\t127 & 6.2       & 2.8       & 4.8       & 1.8       & virginica\\\\\n",
       "\t128 & 6.1       & 3.0       & 4.9       & 1.8       & virginica\\\\\n",
       "\t129 & 6.4       & 2.8       & 5.6       & 2.1       & virginica\\\\\n",
       "\t130 & 7.2       & 3.0       & 5.8       & 1.6       & virginica\\\\\n",
       "\t131 & 7.4       & 2.8       & 6.1       & 1.9       & virginica\\\\\n",
       "\t132 & 7.9       & 3.8       & 6.4       & 2.0       & virginica\\\\\n",
       "\t133 & 6.4       & 2.8       & 5.6       & 2.2       & virginica\\\\\n",
       "\t134 & 6.3       & 2.8       & 5.1       & 1.5       & virginica\\\\\n",
       "\t135 & 6.1       & 2.6       & 5.6       & 1.4       & virginica\\\\\n",
       "\t136 & 7.7       & 3.0       & 6.1       & 2.3       & virginica\\\\\n",
       "\t137 & 6.3       & 3.4       & 5.6       & 2.4       & virginica\\\\\n",
       "\t138 & 6.4       & 3.1       & 5.5       & 1.8       & virginica\\\\\n",
       "\t139 & 6.0       & 3.0       & 4.8       & 1.8       & virginica\\\\\n",
       "\t140 & 6.9       & 3.1       & 5.4       & 2.1       & virginica\\\\\n",
       "\t141 & 6.7       & 3.1       & 5.6       & 2.4       & virginica\\\\\n",
       "\t142 & 6.9       & 3.1       & 5.1       & 2.3       & virginica\\\\\n",
       "\t143 & 5.8       & 2.7       & 5.1       & 1.9       & virginica\\\\\n",
       "\t144 & 6.8       & 3.2       & 5.9       & 2.3       & virginica\\\\\n",
       "\t145 & 6.7       & 3.3       & 5.7       & 2.5       & virginica\\\\\n",
       "\t146 & 6.7       & 3.0       & 5.2       & 2.3       & virginica\\\\\n",
       "\t147 & 6.3       & 2.5       & 5.0       & 1.9       & virginica\\\\\n",
       "\t148 & 6.5       & 3.0       & 5.2       & 2.0       & virginica\\\\\n",
       "\t149 & 6.2       & 3.4       & 5.4       & 2.3       & virginica\\\\\n",
       "\t150 & 5.9       & 3.0       & 5.1       & 1.8       & virginica\\\\\n",
       "\\end{tabular}\n",
       "\n",
       "\\end{description}\n"
      ],
      "text/markdown": [
       "$setosa\n",
       ":   \n",
       "| Sepal.Length | Sepal.Width | Petal.Length | Petal.Width | Species |\n",
       "|---|---|---|---|---|\n",
       "| 5.1    | 3.5    | 1.4    | 0.2    | setosa |\n",
       "| 4.9    | 3.0    | 1.4    | 0.2    | setosa |\n",
       "| 4.7    | 3.2    | 1.3    | 0.2    | setosa |\n",
       "| 4.6    | 3.1    | 1.5    | 0.2    | setosa |\n",
       "| 5.0    | 3.6    | 1.4    | 0.2    | setosa |\n",
       "| 5.4    | 3.9    | 1.7    | 0.4    | setosa |\n",
       "| 4.6    | 3.4    | 1.4    | 0.3    | setosa |\n",
       "| 5.0    | 3.4    | 1.5    | 0.2    | setosa |\n",
       "| 4.4    | 2.9    | 1.4    | 0.2    | setosa |\n",
       "| 4.9    | 3.1    | 1.5    | 0.1    | setosa |\n",
       "| 5.4    | 3.7    | 1.5    | 0.2    | setosa |\n",
       "| 4.8    | 3.4    | 1.6    | 0.2    | setosa |\n",
       "| 4.8    | 3.0    | 1.4    | 0.1    | setosa |\n",
       "| 4.3    | 3.0    | 1.1    | 0.1    | setosa |\n",
       "| 5.8    | 4.0    | 1.2    | 0.2    | setosa |\n",
       "| 5.7    | 4.4    | 1.5    | 0.4    | setosa |\n",
       "| 5.4    | 3.9    | 1.3    | 0.4    | setosa |\n",
       "| 5.1    | 3.5    | 1.4    | 0.3    | setosa |\n",
       "| 5.7    | 3.8    | 1.7    | 0.3    | setosa |\n",
       "| 5.1    | 3.8    | 1.5    | 0.3    | setosa |\n",
       "| 5.4    | 3.4    | 1.7    | 0.2    | setosa |\n",
       "| 5.1    | 3.7    | 1.5    | 0.4    | setosa |\n",
       "| 4.6    | 3.6    | 1.0    | 0.2    | setosa |\n",
       "| 5.1    | 3.3    | 1.7    | 0.5    | setosa |\n",
       "| 4.8    | 3.4    | 1.9    | 0.2    | setosa |\n",
       "| 5.0    | 3.0    | 1.6    | 0.2    | setosa |\n",
       "| 5.0    | 3.4    | 1.6    | 0.4    | setosa |\n",
       "| 5.2    | 3.5    | 1.5    | 0.2    | setosa |\n",
       "| 5.2    | 3.4    | 1.4    | 0.2    | setosa |\n",
       "| 4.7    | 3.2    | 1.6    | 0.2    | setosa |\n",
       "| 4.8    | 3.1    | 1.6    | 0.2    | setosa |\n",
       "| 5.4    | 3.4    | 1.5    | 0.4    | setosa |\n",
       "| 5.2    | 4.1    | 1.5    | 0.1    | setosa |\n",
       "| 5.5    | 4.2    | 1.4    | 0.2    | setosa |\n",
       "| 4.9    | 3.1    | 1.5    | 0.2    | setosa |\n",
       "| 5.0    | 3.2    | 1.2    | 0.2    | setosa |\n",
       "| 5.5    | 3.5    | 1.3    | 0.2    | setosa |\n",
       "| 4.9    | 3.6    | 1.4    | 0.1    | setosa |\n",
       "| 4.4    | 3.0    | 1.3    | 0.2    | setosa |\n",
       "| 5.1    | 3.4    | 1.5    | 0.2    | setosa |\n",
       "| 5.0    | 3.5    | 1.3    | 0.3    | setosa |\n",
       "| 4.5    | 2.3    | 1.3    | 0.3    | setosa |\n",
       "| 4.4    | 3.2    | 1.3    | 0.2    | setosa |\n",
       "| 5.0    | 3.5    | 1.6    | 0.6    | setosa |\n",
       "| 5.1    | 3.8    | 1.9    | 0.4    | setosa |\n",
       "| 4.8    | 3.0    | 1.4    | 0.3    | setosa |\n",
       "| 5.1    | 3.8    | 1.6    | 0.2    | setosa |\n",
       "| 4.6    | 3.2    | 1.4    | 0.2    | setosa |\n",
       "| 5.3    | 3.7    | 1.5    | 0.2    | setosa |\n",
       "| 5.0    | 3.3    | 1.4    | 0.2    | setosa |\n",
       "\n",
       "\n",
       "$versicolor\n",
       ":   \n",
       "| <!--/--> | Sepal.Length | Sepal.Width | Petal.Length | Petal.Width | Species |\n",
       "|---|---|---|---|---|---|\n",
       "| 51 | 7.0        | 3.2        | 4.7        | 1.4        | versicolor |\n",
       "| 52 | 6.4        | 3.2        | 4.5        | 1.5        | versicolor |\n",
       "| 53 | 6.9        | 3.1        | 4.9        | 1.5        | versicolor |\n",
       "| 54 | 5.5        | 2.3        | 4.0        | 1.3        | versicolor |\n",
       "| 55 | 6.5        | 2.8        | 4.6        | 1.5        | versicolor |\n",
       "| 56 | 5.7        | 2.8        | 4.5        | 1.3        | versicolor |\n",
       "| 57 | 6.3        | 3.3        | 4.7        | 1.6        | versicolor |\n",
       "| 58 | 4.9        | 2.4        | 3.3        | 1.0        | versicolor |\n",
       "| 59 | 6.6        | 2.9        | 4.6        | 1.3        | versicolor |\n",
       "| 60 | 5.2        | 2.7        | 3.9        | 1.4        | versicolor |\n",
       "| 61 | 5.0        | 2.0        | 3.5        | 1.0        | versicolor |\n",
       "| 62 | 5.9        | 3.0        | 4.2        | 1.5        | versicolor |\n",
       "| 63 | 6.0        | 2.2        | 4.0        | 1.0        | versicolor |\n",
       "| 64 | 6.1        | 2.9        | 4.7        | 1.4        | versicolor |\n",
       "| 65 | 5.6        | 2.9        | 3.6        | 1.3        | versicolor |\n",
       "| 66 | 6.7        | 3.1        | 4.4        | 1.4        | versicolor |\n",
       "| 67 | 5.6        | 3.0        | 4.5        | 1.5        | versicolor |\n",
       "| 68 | 5.8        | 2.7        | 4.1        | 1.0        | versicolor |\n",
       "| 69 | 6.2        | 2.2        | 4.5        | 1.5        | versicolor |\n",
       "| 70 | 5.6        | 2.5        | 3.9        | 1.1        | versicolor |\n",
       "| 71 | 5.9        | 3.2        | 4.8        | 1.8        | versicolor |\n",
       "| 72 | 6.1        | 2.8        | 4.0        | 1.3        | versicolor |\n",
       "| 73 | 6.3        | 2.5        | 4.9        | 1.5        | versicolor |\n",
       "| 74 | 6.1        | 2.8        | 4.7        | 1.2        | versicolor |\n",
       "| 75 | 6.4        | 2.9        | 4.3        | 1.3        | versicolor |\n",
       "| 76 | 6.6        | 3.0        | 4.4        | 1.4        | versicolor |\n",
       "| 77 | 6.8        | 2.8        | 4.8        | 1.4        | versicolor |\n",
       "| 78 | 6.7        | 3.0        | 5.0        | 1.7        | versicolor |\n",
       "| 79 | 6.0        | 2.9        | 4.5        | 1.5        | versicolor |\n",
       "| 80 | 5.7        | 2.6        | 3.5        | 1.0        | versicolor |\n",
       "| 81 | 5.5        | 2.4        | 3.8        | 1.1        | versicolor |\n",
       "| 82 | 5.5        | 2.4        | 3.7        | 1.0        | versicolor |\n",
       "| 83 | 5.8        | 2.7        | 3.9        | 1.2        | versicolor |\n",
       "| 84 | 6.0        | 2.7        | 5.1        | 1.6        | versicolor |\n",
       "| 85 | 5.4        | 3.0        | 4.5        | 1.5        | versicolor |\n",
       "| 86 | 6.0        | 3.4        | 4.5        | 1.6        | versicolor |\n",
       "| 87 | 6.7        | 3.1        | 4.7        | 1.5        | versicolor |\n",
       "| 88 | 6.3        | 2.3        | 4.4        | 1.3        | versicolor |\n",
       "| 89 | 5.6        | 3.0        | 4.1        | 1.3        | versicolor |\n",
       "| 90 | 5.5        | 2.5        | 4.0        | 1.3        | versicolor |\n",
       "| 91 | 5.5        | 2.6        | 4.4        | 1.2        | versicolor |\n",
       "| 92 | 6.1        | 3.0        | 4.6        | 1.4        | versicolor |\n",
       "| 93 | 5.8        | 2.6        | 4.0        | 1.2        | versicolor |\n",
       "| 94 | 5.0        | 2.3        | 3.3        | 1.0        | versicolor |\n",
       "| 95 | 5.6        | 2.7        | 4.2        | 1.3        | versicolor |\n",
       "| 96 | 5.7        | 3.0        | 4.2        | 1.2        | versicolor |\n",
       "| 97 | 5.7        | 2.9        | 4.2        | 1.3        | versicolor |\n",
       "| 98 | 6.2        | 2.9        | 4.3        | 1.3        | versicolor |\n",
       "| 99 | 5.1        | 2.5        | 3.0        | 1.1        | versicolor |\n",
       "| 100 | 5.7        | 2.8        | 4.1        | 1.3        | versicolor |\n",
       "\n",
       "\n",
       "$virginica\n",
       ":   \n",
       "| <!--/--> | Sepal.Length | Sepal.Width | Petal.Length | Petal.Width | Species |\n",
       "|---|---|---|---|---|---|\n",
       "| 101 | 6.3       | 3.3       | 6.0       | 2.5       | virginica |\n",
       "| 102 | 5.8       | 2.7       | 5.1       | 1.9       | virginica |\n",
       "| 103 | 7.1       | 3.0       | 5.9       | 2.1       | virginica |\n",
       "| 104 | 6.3       | 2.9       | 5.6       | 1.8       | virginica |\n",
       "| 105 | 6.5       | 3.0       | 5.8       | 2.2       | virginica |\n",
       "| 106 | 7.6       | 3.0       | 6.6       | 2.1       | virginica |\n",
       "| 107 | 4.9       | 2.5       | 4.5       | 1.7       | virginica |\n",
       "| 108 | 7.3       | 2.9       | 6.3       | 1.8       | virginica |\n",
       "| 109 | 6.7       | 2.5       | 5.8       | 1.8       | virginica |\n",
       "| 110 | 7.2       | 3.6       | 6.1       | 2.5       | virginica |\n",
       "| 111 | 6.5       | 3.2       | 5.1       | 2.0       | virginica |\n",
       "| 112 | 6.4       | 2.7       | 5.3       | 1.9       | virginica |\n",
       "| 113 | 6.8       | 3.0       | 5.5       | 2.1       | virginica |\n",
       "| 114 | 5.7       | 2.5       | 5.0       | 2.0       | virginica |\n",
       "| 115 | 5.8       | 2.8       | 5.1       | 2.4       | virginica |\n",
       "| 116 | 6.4       | 3.2       | 5.3       | 2.3       | virginica |\n",
       "| 117 | 6.5       | 3.0       | 5.5       | 1.8       | virginica |\n",
       "| 118 | 7.7       | 3.8       | 6.7       | 2.2       | virginica |\n",
       "| 119 | 7.7       | 2.6       | 6.9       | 2.3       | virginica |\n",
       "| 120 | 6.0       | 2.2       | 5.0       | 1.5       | virginica |\n",
       "| 121 | 6.9       | 3.2       | 5.7       | 2.3       | virginica |\n",
       "| 122 | 5.6       | 2.8       | 4.9       | 2.0       | virginica |\n",
       "| 123 | 7.7       | 2.8       | 6.7       | 2.0       | virginica |\n",
       "| 124 | 6.3       | 2.7       | 4.9       | 1.8       | virginica |\n",
       "| 125 | 6.7       | 3.3       | 5.7       | 2.1       | virginica |\n",
       "| 126 | 7.2       | 3.2       | 6.0       | 1.8       | virginica |\n",
       "| 127 | 6.2       | 2.8       | 4.8       | 1.8       | virginica |\n",
       "| 128 | 6.1       | 3.0       | 4.9       | 1.8       | virginica |\n",
       "| 129 | 6.4       | 2.8       | 5.6       | 2.1       | virginica |\n",
       "| 130 | 7.2       | 3.0       | 5.8       | 1.6       | virginica |\n",
       "| 131 | 7.4       | 2.8       | 6.1       | 1.9       | virginica |\n",
       "| 132 | 7.9       | 3.8       | 6.4       | 2.0       | virginica |\n",
       "| 133 | 6.4       | 2.8       | 5.6       | 2.2       | virginica |\n",
       "| 134 | 6.3       | 2.8       | 5.1       | 1.5       | virginica |\n",
       "| 135 | 6.1       | 2.6       | 5.6       | 1.4       | virginica |\n",
       "| 136 | 7.7       | 3.0       | 6.1       | 2.3       | virginica |\n",
       "| 137 | 6.3       | 3.4       | 5.6       | 2.4       | virginica |\n",
       "| 138 | 6.4       | 3.1       | 5.5       | 1.8       | virginica |\n",
       "| 139 | 6.0       | 3.0       | 4.8       | 1.8       | virginica |\n",
       "| 140 | 6.9       | 3.1       | 5.4       | 2.1       | virginica |\n",
       "| 141 | 6.7       | 3.1       | 5.6       | 2.4       | virginica |\n",
       "| 142 | 6.9       | 3.1       | 5.1       | 2.3       | virginica |\n",
       "| 143 | 5.8       | 2.7       | 5.1       | 1.9       | virginica |\n",
       "| 144 | 6.8       | 3.2       | 5.9       | 2.3       | virginica |\n",
       "| 145 | 6.7       | 3.3       | 5.7       | 2.5       | virginica |\n",
       "| 146 | 6.7       | 3.0       | 5.2       | 2.3       | virginica |\n",
       "| 147 | 6.3       | 2.5       | 5.0       | 1.9       | virginica |\n",
       "| 148 | 6.5       | 3.0       | 5.2       | 2.0       | virginica |\n",
       "| 149 | 6.2       | 3.4       | 5.4       | 2.3       | virginica |\n",
       "| 150 | 5.9       | 3.0       | 5.1       | 1.8       | virginica |\n",
       "\n",
       "\n",
       "\n",
       "\n"
      ],
      "text/plain": [
       "$setosa\n",
       "   Sepal.Length Sepal.Width Petal.Length Petal.Width Species\n",
       "1           5.1         3.5          1.4         0.2  setosa\n",
       "2           4.9         3.0          1.4         0.2  setosa\n",
       "3           4.7         3.2          1.3         0.2  setosa\n",
       "4           4.6         3.1          1.5         0.2  setosa\n",
       "5           5.0         3.6          1.4         0.2  setosa\n",
       "6           5.4         3.9          1.7         0.4  setosa\n",
       "7           4.6         3.4          1.4         0.3  setosa\n",
       "8           5.0         3.4          1.5         0.2  setosa\n",
       "9           4.4         2.9          1.4         0.2  setosa\n",
       "10          4.9         3.1          1.5         0.1  setosa\n",
       "11          5.4         3.7          1.5         0.2  setosa\n",
       "12          4.8         3.4          1.6         0.2  setosa\n",
       "13          4.8         3.0          1.4         0.1  setosa\n",
       "14          4.3         3.0          1.1         0.1  setosa\n",
       "15          5.8         4.0          1.2         0.2  setosa\n",
       "16          5.7         4.4          1.5         0.4  setosa\n",
       "17          5.4         3.9          1.3         0.4  setosa\n",
       "18          5.1         3.5          1.4         0.3  setosa\n",
       "19          5.7         3.8          1.7         0.3  setosa\n",
       "20          5.1         3.8          1.5         0.3  setosa\n",
       "21          5.4         3.4          1.7         0.2  setosa\n",
       "22          5.1         3.7          1.5         0.4  setosa\n",
       "23          4.6         3.6          1.0         0.2  setosa\n",
       "24          5.1         3.3          1.7         0.5  setosa\n",
       "25          4.8         3.4          1.9         0.2  setosa\n",
       "26          5.0         3.0          1.6         0.2  setosa\n",
       "27          5.0         3.4          1.6         0.4  setosa\n",
       "28          5.2         3.5          1.5         0.2  setosa\n",
       "29          5.2         3.4          1.4         0.2  setosa\n",
       "30          4.7         3.2          1.6         0.2  setosa\n",
       "31          4.8         3.1          1.6         0.2  setosa\n",
       "32          5.4         3.4          1.5         0.4  setosa\n",
       "33          5.2         4.1          1.5         0.1  setosa\n",
       "34          5.5         4.2          1.4         0.2  setosa\n",
       "35          4.9         3.1          1.5         0.2  setosa\n",
       "36          5.0         3.2          1.2         0.2  setosa\n",
       "37          5.5         3.5          1.3         0.2  setosa\n",
       "38          4.9         3.6          1.4         0.1  setosa\n",
       "39          4.4         3.0          1.3         0.2  setosa\n",
       "40          5.1         3.4          1.5         0.2  setosa\n",
       "41          5.0         3.5          1.3         0.3  setosa\n",
       "42          4.5         2.3          1.3         0.3  setosa\n",
       "43          4.4         3.2          1.3         0.2  setosa\n",
       "44          5.0         3.5          1.6         0.6  setosa\n",
       "45          5.1         3.8          1.9         0.4  setosa\n",
       "46          4.8         3.0          1.4         0.3  setosa\n",
       "47          5.1         3.8          1.6         0.2  setosa\n",
       "48          4.6         3.2          1.4         0.2  setosa\n",
       "49          5.3         3.7          1.5         0.2  setosa\n",
       "50          5.0         3.3          1.4         0.2  setosa\n",
       "\n",
       "$versicolor\n",
       "    Sepal.Length Sepal.Width Petal.Length Petal.Width    Species\n",
       "51           7.0         3.2          4.7         1.4 versicolor\n",
       "52           6.4         3.2          4.5         1.5 versicolor\n",
       "53           6.9         3.1          4.9         1.5 versicolor\n",
       "54           5.5         2.3          4.0         1.3 versicolor\n",
       "55           6.5         2.8          4.6         1.5 versicolor\n",
       "56           5.7         2.8          4.5         1.3 versicolor\n",
       "57           6.3         3.3          4.7         1.6 versicolor\n",
       "58           4.9         2.4          3.3         1.0 versicolor\n",
       "59           6.6         2.9          4.6         1.3 versicolor\n",
       "60           5.2         2.7          3.9         1.4 versicolor\n",
       "61           5.0         2.0          3.5         1.0 versicolor\n",
       "62           5.9         3.0          4.2         1.5 versicolor\n",
       "63           6.0         2.2          4.0         1.0 versicolor\n",
       "64           6.1         2.9          4.7         1.4 versicolor\n",
       "65           5.6         2.9          3.6         1.3 versicolor\n",
       "66           6.7         3.1          4.4         1.4 versicolor\n",
       "67           5.6         3.0          4.5         1.5 versicolor\n",
       "68           5.8         2.7          4.1         1.0 versicolor\n",
       "69           6.2         2.2          4.5         1.5 versicolor\n",
       "70           5.6         2.5          3.9         1.1 versicolor\n",
       "71           5.9         3.2          4.8         1.8 versicolor\n",
       "72           6.1         2.8          4.0         1.3 versicolor\n",
       "73           6.3         2.5          4.9         1.5 versicolor\n",
       "74           6.1         2.8          4.7         1.2 versicolor\n",
       "75           6.4         2.9          4.3         1.3 versicolor\n",
       "76           6.6         3.0          4.4         1.4 versicolor\n",
       "77           6.8         2.8          4.8         1.4 versicolor\n",
       "78           6.7         3.0          5.0         1.7 versicolor\n",
       "79           6.0         2.9          4.5         1.5 versicolor\n",
       "80           5.7         2.6          3.5         1.0 versicolor\n",
       "81           5.5         2.4          3.8         1.1 versicolor\n",
       "82           5.5         2.4          3.7         1.0 versicolor\n",
       "83           5.8         2.7          3.9         1.2 versicolor\n",
       "84           6.0         2.7          5.1         1.6 versicolor\n",
       "85           5.4         3.0          4.5         1.5 versicolor\n",
       "86           6.0         3.4          4.5         1.6 versicolor\n",
       "87           6.7         3.1          4.7         1.5 versicolor\n",
       "88           6.3         2.3          4.4         1.3 versicolor\n",
       "89           5.6         3.0          4.1         1.3 versicolor\n",
       "90           5.5         2.5          4.0         1.3 versicolor\n",
       "91           5.5         2.6          4.4         1.2 versicolor\n",
       "92           6.1         3.0          4.6         1.4 versicolor\n",
       "93           5.8         2.6          4.0         1.2 versicolor\n",
       "94           5.0         2.3          3.3         1.0 versicolor\n",
       "95           5.6         2.7          4.2         1.3 versicolor\n",
       "96           5.7         3.0          4.2         1.2 versicolor\n",
       "97           5.7         2.9          4.2         1.3 versicolor\n",
       "98           6.2         2.9          4.3         1.3 versicolor\n",
       "99           5.1         2.5          3.0         1.1 versicolor\n",
       "100          5.7         2.8          4.1         1.3 versicolor\n",
       "\n",
       "$virginica\n",
       "    Sepal.Length Sepal.Width Petal.Length Petal.Width   Species\n",
       "101          6.3         3.3          6.0         2.5 virginica\n",
       "102          5.8         2.7          5.1         1.9 virginica\n",
       "103          7.1         3.0          5.9         2.1 virginica\n",
       "104          6.3         2.9          5.6         1.8 virginica\n",
       "105          6.5         3.0          5.8         2.2 virginica\n",
       "106          7.6         3.0          6.6         2.1 virginica\n",
       "107          4.9         2.5          4.5         1.7 virginica\n",
       "108          7.3         2.9          6.3         1.8 virginica\n",
       "109          6.7         2.5          5.8         1.8 virginica\n",
       "110          7.2         3.6          6.1         2.5 virginica\n",
       "111          6.5         3.2          5.1         2.0 virginica\n",
       "112          6.4         2.7          5.3         1.9 virginica\n",
       "113          6.8         3.0          5.5         2.1 virginica\n",
       "114          5.7         2.5          5.0         2.0 virginica\n",
       "115          5.8         2.8          5.1         2.4 virginica\n",
       "116          6.4         3.2          5.3         2.3 virginica\n",
       "117          6.5         3.0          5.5         1.8 virginica\n",
       "118          7.7         3.8          6.7         2.2 virginica\n",
       "119          7.7         2.6          6.9         2.3 virginica\n",
       "120          6.0         2.2          5.0         1.5 virginica\n",
       "121          6.9         3.2          5.7         2.3 virginica\n",
       "122          5.6         2.8          4.9         2.0 virginica\n",
       "123          7.7         2.8          6.7         2.0 virginica\n",
       "124          6.3         2.7          4.9         1.8 virginica\n",
       "125          6.7         3.3          5.7         2.1 virginica\n",
       "126          7.2         3.2          6.0         1.8 virginica\n",
       "127          6.2         2.8          4.8         1.8 virginica\n",
       "128          6.1         3.0          4.9         1.8 virginica\n",
       "129          6.4         2.8          5.6         2.1 virginica\n",
       "130          7.2         3.0          5.8         1.6 virginica\n",
       "131          7.4         2.8          6.1         1.9 virginica\n",
       "132          7.9         3.8          6.4         2.0 virginica\n",
       "133          6.4         2.8          5.6         2.2 virginica\n",
       "134          6.3         2.8          5.1         1.5 virginica\n",
       "135          6.1         2.6          5.6         1.4 virginica\n",
       "136          7.7         3.0          6.1         2.3 virginica\n",
       "137          6.3         3.4          5.6         2.4 virginica\n",
       "138          6.4         3.1          5.5         1.8 virginica\n",
       "139          6.0         3.0          4.8         1.8 virginica\n",
       "140          6.9         3.1          5.4         2.1 virginica\n",
       "141          6.7         3.1          5.6         2.4 virginica\n",
       "142          6.9         3.1          5.1         2.3 virginica\n",
       "143          5.8         2.7          5.1         1.9 virginica\n",
       "144          6.8         3.2          5.9         2.3 virginica\n",
       "145          6.7         3.3          5.7         2.5 virginica\n",
       "146          6.7         3.0          5.2         2.3 virginica\n",
       "147          6.3         2.5          5.0         1.9 virginica\n",
       "148          6.5         3.0          5.2         2.0 virginica\n",
       "149          6.2         3.4          5.4         2.3 virginica\n",
       "150          5.9         3.0          5.1         1.8 virginica\n"
      ]
     },
     "metadata": {},
     "output_type": "display_data"
    }
   ],
   "source": [
    "#내장 데이터인 아이리스에서 종류별로 짤라냄.\n",
    "\n",
    "split(iris, iris$Species)"
   ]
  },
  {
   "cell_type": "code",
   "execution_count": 71,
   "id": "urban-yield",
   "metadata": {},
   "outputs": [
    {
     "data": {
      "text/html": [
       "<table>\n",
       "<thead><tr><th></th><th scope=col>Sepal.Length</th><th scope=col>Sepal.Width</th><th scope=col>Petal.Length</th><th scope=col>Petal.Width</th><th scope=col>Species</th></tr></thead>\n",
       "<tbody>\n",
       "\t<tr><th scope=row>51</th><td>7.0       </td><td>3.2       </td><td>4.7       </td><td>1.4       </td><td>versicolor</td></tr>\n",
       "\t<tr><th scope=row>103</th><td>7.1       </td><td>3.0       </td><td>5.9       </td><td>2.1       </td><td>virginica </td></tr>\n",
       "\t<tr><th scope=row>106</th><td>7.6       </td><td>3.0       </td><td>6.6       </td><td>2.1       </td><td>virginica </td></tr>\n",
       "\t<tr><th scope=row>108</th><td>7.3       </td><td>2.9       </td><td>6.3       </td><td>1.8       </td><td>virginica </td></tr>\n",
       "\t<tr><th scope=row>110</th><td>7.2       </td><td>3.6       </td><td>6.1       </td><td>2.5       </td><td>virginica </td></tr>\n",
       "\t<tr><th scope=row>118</th><td>7.7       </td><td>3.8       </td><td>6.7       </td><td>2.2       </td><td>virginica </td></tr>\n",
       "\t<tr><th scope=row>119</th><td>7.7       </td><td>2.6       </td><td>6.9       </td><td>2.3       </td><td>virginica </td></tr>\n",
       "\t<tr><th scope=row>123</th><td>7.7       </td><td>2.8       </td><td>6.7       </td><td>2.0       </td><td>virginica </td></tr>\n",
       "\t<tr><th scope=row>126</th><td>7.2       </td><td>3.2       </td><td>6.0       </td><td>1.8       </td><td>virginica </td></tr>\n",
       "\t<tr><th scope=row>130</th><td>7.2       </td><td>3.0       </td><td>5.8       </td><td>1.6       </td><td>virginica </td></tr>\n",
       "\t<tr><th scope=row>131</th><td>7.4       </td><td>2.8       </td><td>6.1       </td><td>1.9       </td><td>virginica </td></tr>\n",
       "\t<tr><th scope=row>132</th><td>7.9       </td><td>3.8       </td><td>6.4       </td><td>2.0       </td><td>virginica </td></tr>\n",
       "\t<tr><th scope=row>136</th><td>7.7       </td><td>3.0       </td><td>6.1       </td><td>2.3       </td><td>virginica </td></tr>\n",
       "</tbody>\n",
       "</table>\n"
      ],
      "text/latex": [
       "\\begin{tabular}{r|lllll}\n",
       "  & Sepal.Length & Sepal.Width & Petal.Length & Petal.Width & Species\\\\\n",
       "\\hline\n",
       "\t51 & 7.0        & 3.2        & 4.7        & 1.4        & versicolor\\\\\n",
       "\t103 & 7.1        & 3.0        & 5.9        & 2.1        & virginica \\\\\n",
       "\t106 & 7.6        & 3.0        & 6.6        & 2.1        & virginica \\\\\n",
       "\t108 & 7.3        & 2.9        & 6.3        & 1.8        & virginica \\\\\n",
       "\t110 & 7.2        & 3.6        & 6.1        & 2.5        & virginica \\\\\n",
       "\t118 & 7.7        & 3.8        & 6.7        & 2.2        & virginica \\\\\n",
       "\t119 & 7.7        & 2.6        & 6.9        & 2.3        & virginica \\\\\n",
       "\t123 & 7.7        & 2.8        & 6.7        & 2.0        & virginica \\\\\n",
       "\t126 & 7.2        & 3.2        & 6.0        & 1.8        & virginica \\\\\n",
       "\t130 & 7.2        & 3.0        & 5.8        & 1.6        & virginica \\\\\n",
       "\t131 & 7.4        & 2.8        & 6.1        & 1.9        & virginica \\\\\n",
       "\t132 & 7.9        & 3.8        & 6.4        & 2.0        & virginica \\\\\n",
       "\t136 & 7.7        & 3.0        & 6.1        & 2.3        & virginica \\\\\n",
       "\\end{tabular}\n"
      ],
      "text/markdown": [
       "\n",
       "| <!--/--> | Sepal.Length | Sepal.Width | Petal.Length | Petal.Width | Species |\n",
       "|---|---|---|---|---|---|\n",
       "| 51 | 7.0        | 3.2        | 4.7        | 1.4        | versicolor |\n",
       "| 103 | 7.1        | 3.0        | 5.9        | 2.1        | virginica  |\n",
       "| 106 | 7.6        | 3.0        | 6.6        | 2.1        | virginica  |\n",
       "| 108 | 7.3        | 2.9        | 6.3        | 1.8        | virginica  |\n",
       "| 110 | 7.2        | 3.6        | 6.1        | 2.5        | virginica  |\n",
       "| 118 | 7.7        | 3.8        | 6.7        | 2.2        | virginica  |\n",
       "| 119 | 7.7        | 2.6        | 6.9        | 2.3        | virginica  |\n",
       "| 123 | 7.7        | 2.8        | 6.7        | 2.0        | virginica  |\n",
       "| 126 | 7.2        | 3.2        | 6.0        | 1.8        | virginica  |\n",
       "| 130 | 7.2        | 3.0        | 5.8        | 1.6        | virginica  |\n",
       "| 131 | 7.4        | 2.8        | 6.1        | 1.9        | virginica  |\n",
       "| 132 | 7.9        | 3.8        | 6.4        | 2.0        | virginica  |\n",
       "| 136 | 7.7        | 3.0        | 6.1        | 2.3        | virginica  |\n",
       "\n"
      ],
      "text/plain": [
       "    Sepal.Length Sepal.Width Petal.Length Petal.Width Species   \n",
       "51  7.0          3.2         4.7          1.4         versicolor\n",
       "103 7.1          3.0         5.9          2.1         virginica \n",
       "106 7.6          3.0         6.6          2.1         virginica \n",
       "108 7.3          2.9         6.3          1.8         virginica \n",
       "110 7.2          3.6         6.1          2.5         virginica \n",
       "118 7.7          3.8         6.7          2.2         virginica \n",
       "119 7.7          2.6         6.9          2.3         virginica \n",
       "123 7.7          2.8         6.7          2.0         virginica \n",
       "126 7.2          3.2         6.0          1.8         virginica \n",
       "130 7.2          3.0         5.8          1.6         virginica \n",
       "131 7.4          2.8         6.1          1.9         virginica \n",
       "132 7.9          3.8         6.4          2.0         virginica \n",
       "136 7.7          3.0         6.1          2.3         virginica "
      ]
     },
     "metadata": {},
     "output_type": "display_data"
    }
   ],
   "source": [
    "#subset함수를 사용하여 Seepal.Length가 7이상인 것만 골라낼 수 있음.\n",
    "\n",
    "subset(iris,Sepal.Length >=7) "
   ]
  },
  {
   "cell_type": "code",
   "execution_count": 73,
   "id": "accessory-bunch",
   "metadata": {},
   "outputs": [
    {
     "data": {
      "text/html": [
       "<table>\n",
       "<thead><tr><th></th><th scope=col>Sepal.Length</th><th scope=col>Species</th></tr></thead>\n",
       "<tbody>\n",
       "\t<tr><th scope=row>51</th><td>7.0       </td><td>versicolor</td></tr>\n",
       "\t<tr><th scope=row>103</th><td>7.1       </td><td>virginica </td></tr>\n",
       "\t<tr><th scope=row>106</th><td>7.6       </td><td>virginica </td></tr>\n",
       "\t<tr><th scope=row>108</th><td>7.3       </td><td>virginica </td></tr>\n",
       "\t<tr><th scope=row>110</th><td>7.2       </td><td>virginica </td></tr>\n",
       "\t<tr><th scope=row>118</th><td>7.7       </td><td>virginica </td></tr>\n",
       "\t<tr><th scope=row>119</th><td>7.7       </td><td>virginica </td></tr>\n",
       "\t<tr><th scope=row>123</th><td>7.7       </td><td>virginica </td></tr>\n",
       "\t<tr><th scope=row>126</th><td>7.2       </td><td>virginica </td></tr>\n",
       "\t<tr><th scope=row>130</th><td>7.2       </td><td>virginica </td></tr>\n",
       "\t<tr><th scope=row>131</th><td>7.4       </td><td>virginica </td></tr>\n",
       "\t<tr><th scope=row>132</th><td>7.9       </td><td>virginica </td></tr>\n",
       "\t<tr><th scope=row>136</th><td>7.7       </td><td>virginica </td></tr>\n",
       "</tbody>\n",
       "</table>\n"
      ],
      "text/latex": [
       "\\begin{tabular}{r|ll}\n",
       "  & Sepal.Length & Species\\\\\n",
       "\\hline\n",
       "\t51 & 7.0        & versicolor\\\\\n",
       "\t103 & 7.1        & virginica \\\\\n",
       "\t106 & 7.6        & virginica \\\\\n",
       "\t108 & 7.3        & virginica \\\\\n",
       "\t110 & 7.2        & virginica \\\\\n",
       "\t118 & 7.7        & virginica \\\\\n",
       "\t119 & 7.7        & virginica \\\\\n",
       "\t123 & 7.7        & virginica \\\\\n",
       "\t126 & 7.2        & virginica \\\\\n",
       "\t130 & 7.2        & virginica \\\\\n",
       "\t131 & 7.4        & virginica \\\\\n",
       "\t132 & 7.9        & virginica \\\\\n",
       "\t136 & 7.7        & virginica \\\\\n",
       "\\end{tabular}\n"
      ],
      "text/markdown": [
       "\n",
       "| <!--/--> | Sepal.Length | Species |\n",
       "|---|---|---|\n",
       "| 51 | 7.0        | versicolor |\n",
       "| 103 | 7.1        | virginica  |\n",
       "| 106 | 7.6        | virginica  |\n",
       "| 108 | 7.3        | virginica  |\n",
       "| 110 | 7.2        | virginica  |\n",
       "| 118 | 7.7        | virginica  |\n",
       "| 119 | 7.7        | virginica  |\n",
       "| 123 | 7.7        | virginica  |\n",
       "| 126 | 7.2        | virginica  |\n",
       "| 130 | 7.2        | virginica  |\n",
       "| 131 | 7.4        | virginica  |\n",
       "| 132 | 7.9        | virginica  |\n",
       "| 136 | 7.7        | virginica  |\n",
       "\n"
      ],
      "text/plain": [
       "    Sepal.Length Species   \n",
       "51  7.0          versicolor\n",
       "103 7.1          virginica \n",
       "106 7.6          virginica \n",
       "108 7.3          virginica \n",
       "110 7.2          virginica \n",
       "118 7.7          virginica \n",
       "119 7.7          virginica \n",
       "123 7.7          virginica \n",
       "126 7.2          virginica \n",
       "130 7.2          virginica \n",
       "131 7.4          virginica \n",
       "132 7.9          virginica \n",
       "136 7.7          virginica "
      ]
     },
     "metadata": {},
     "output_type": "display_data"
    }
   ],
   "source": [
    "#subset함수(조건을 만족하는 것만 출력)Seepal.Length가 7이상인 것중 \"Species\"만 출력.\n",
    "subset(iris, Sepal.Length >=7 , select=c(\"Sepal.Length\",\"Species\"))"
   ]
  },
  {
   "cell_type": "code",
   "execution_count": 75,
   "id": "delayed-greensboro",
   "metadata": {},
   "outputs": [
    {
     "data": {
      "text/html": [
       "<ol class=list-inline>\n",
       "\t<li>'set'</li>\n",
       "\t<li>'set'</li>\n",
       "\t<li>'set'</li>\n",
       "\t<li>'set'</li>\n",
       "\t<li>'set'</li>\n",
       "\t<li>'set'</li>\n",
       "\t<li>'set'</li>\n",
       "\t<li>'set'</li>\n",
       "\t<li>'set'</li>\n",
       "\t<li>'set'</li>\n",
       "\t<li>'set'</li>\n",
       "\t<li>'set'</li>\n",
       "\t<li>'set'</li>\n",
       "\t<li>'set'</li>\n",
       "\t<li>'set'</li>\n",
       "\t<li>'set'</li>\n",
       "\t<li>'set'</li>\n",
       "\t<li>'set'</li>\n",
       "\t<li>'set'</li>\n",
       "\t<li>'set'</li>\n",
       "\t<li>'set'</li>\n",
       "\t<li>'set'</li>\n",
       "\t<li>'set'</li>\n",
       "\t<li>'set'</li>\n",
       "\t<li>'set'</li>\n",
       "\t<li>'set'</li>\n",
       "\t<li>'set'</li>\n",
       "\t<li>'set'</li>\n",
       "\t<li>'set'</li>\n",
       "\t<li>'set'</li>\n",
       "\t<li>'set'</li>\n",
       "\t<li>'set'</li>\n",
       "\t<li>'set'</li>\n",
       "\t<li>'set'</li>\n",
       "\t<li>'set'</li>\n",
       "\t<li>'set'</li>\n",
       "\t<li>'set'</li>\n",
       "\t<li>'set'</li>\n",
       "\t<li>'set'</li>\n",
       "\t<li>'set'</li>\n",
       "\t<li>'set'</li>\n",
       "\t<li>'set'</li>\n",
       "\t<li>'set'</li>\n",
       "\t<li>'set'</li>\n",
       "\t<li>'set'</li>\n",
       "\t<li>'set'</li>\n",
       "\t<li>'set'</li>\n",
       "\t<li>'set'</li>\n",
       "\t<li>'set'</li>\n",
       "\t<li>'set'</li>\n",
       "\t<li>'ver'</li>\n",
       "\t<li>'ver'</li>\n",
       "\t<li>'ver'</li>\n",
       "\t<li>'ver'</li>\n",
       "\t<li>'ver'</li>\n",
       "\t<li>'ver'</li>\n",
       "\t<li>'ver'</li>\n",
       "\t<li>'ver'</li>\n",
       "\t<li>'ver'</li>\n",
       "\t<li>'ver'</li>\n",
       "\t<li>'ver'</li>\n",
       "\t<li>'ver'</li>\n",
       "\t<li>'ver'</li>\n",
       "\t<li>'ver'</li>\n",
       "\t<li>'ver'</li>\n",
       "\t<li>'ver'</li>\n",
       "\t<li>'ver'</li>\n",
       "\t<li>'ver'</li>\n",
       "\t<li>'ver'</li>\n",
       "\t<li>'ver'</li>\n",
       "\t<li>'ver'</li>\n",
       "\t<li>'ver'</li>\n",
       "\t<li>'ver'</li>\n",
       "\t<li>'ver'</li>\n",
       "\t<li>'ver'</li>\n",
       "\t<li>'ver'</li>\n",
       "\t<li>'ver'</li>\n",
       "\t<li>'ver'</li>\n",
       "\t<li>'ver'</li>\n",
       "\t<li>'ver'</li>\n",
       "\t<li>'ver'</li>\n",
       "\t<li>'ver'</li>\n",
       "\t<li>'ver'</li>\n",
       "\t<li>'ver'</li>\n",
       "\t<li>'ver'</li>\n",
       "\t<li>'ver'</li>\n",
       "\t<li>'ver'</li>\n",
       "\t<li>'ver'</li>\n",
       "\t<li>'ver'</li>\n",
       "\t<li>'ver'</li>\n",
       "\t<li>'ver'</li>\n",
       "\t<li>'ver'</li>\n",
       "\t<li>'ver'</li>\n",
       "\t<li>'ver'</li>\n",
       "\t<li>'ver'</li>\n",
       "\t<li>'ver'</li>\n",
       "\t<li>'ver'</li>\n",
       "\t<li>'ver'</li>\n",
       "\t<li>'ver'</li>\n",
       "\t<li>'ver'</li>\n",
       "\t<li>'vir'</li>\n",
       "\t<li>'vir'</li>\n",
       "\t<li>'vir'</li>\n",
       "\t<li>'vir'</li>\n",
       "\t<li>'vir'</li>\n",
       "\t<li>'vir'</li>\n",
       "\t<li>'vir'</li>\n",
       "\t<li>'vir'</li>\n",
       "\t<li>'vir'</li>\n",
       "\t<li>'vir'</li>\n",
       "\t<li>'vir'</li>\n",
       "\t<li>'vir'</li>\n",
       "\t<li>'vir'</li>\n",
       "\t<li>'vir'</li>\n",
       "\t<li>'vir'</li>\n",
       "\t<li>'vir'</li>\n",
       "\t<li>'vir'</li>\n",
       "\t<li>'vir'</li>\n",
       "\t<li>'vir'</li>\n",
       "\t<li>'vir'</li>\n",
       "\t<li>'vir'</li>\n",
       "\t<li>'vir'</li>\n",
       "\t<li>'vir'</li>\n",
       "\t<li>'vir'</li>\n",
       "\t<li>'vir'</li>\n",
       "\t<li>'vir'</li>\n",
       "\t<li>'vir'</li>\n",
       "\t<li>'vir'</li>\n",
       "\t<li>'vir'</li>\n",
       "\t<li>'vir'</li>\n",
       "\t<li>'vir'</li>\n",
       "\t<li>'vir'</li>\n",
       "\t<li>'vir'</li>\n",
       "\t<li>'vir'</li>\n",
       "\t<li>'vir'</li>\n",
       "\t<li>'vir'</li>\n",
       "\t<li>'vir'</li>\n",
       "\t<li>'vir'</li>\n",
       "\t<li>'vir'</li>\n",
       "\t<li>'vir'</li>\n",
       "\t<li>'vir'</li>\n",
       "\t<li>'vir'</li>\n",
       "\t<li>'vir'</li>\n",
       "\t<li>'vir'</li>\n",
       "\t<li>'vir'</li>\n",
       "\t<li>'vir'</li>\n",
       "\t<li>'vir'</li>\n",
       "\t<li>'vir'</li>\n",
       "\t<li>'vir'</li>\n",
       "\t<li>'vir'</li>\n",
       "</ol>\n"
      ],
      "text/latex": [
       "\\begin{enumerate*}\n",
       "\\item 'set'\n",
       "\\item 'set'\n",
       "\\item 'set'\n",
       "\\item 'set'\n",
       "\\item 'set'\n",
       "\\item 'set'\n",
       "\\item 'set'\n",
       "\\item 'set'\n",
       "\\item 'set'\n",
       "\\item 'set'\n",
       "\\item 'set'\n",
       "\\item 'set'\n",
       "\\item 'set'\n",
       "\\item 'set'\n",
       "\\item 'set'\n",
       "\\item 'set'\n",
       "\\item 'set'\n",
       "\\item 'set'\n",
       "\\item 'set'\n",
       "\\item 'set'\n",
       "\\item 'set'\n",
       "\\item 'set'\n",
       "\\item 'set'\n",
       "\\item 'set'\n",
       "\\item 'set'\n",
       "\\item 'set'\n",
       "\\item 'set'\n",
       "\\item 'set'\n",
       "\\item 'set'\n",
       "\\item 'set'\n",
       "\\item 'set'\n",
       "\\item 'set'\n",
       "\\item 'set'\n",
       "\\item 'set'\n",
       "\\item 'set'\n",
       "\\item 'set'\n",
       "\\item 'set'\n",
       "\\item 'set'\n",
       "\\item 'set'\n",
       "\\item 'set'\n",
       "\\item 'set'\n",
       "\\item 'set'\n",
       "\\item 'set'\n",
       "\\item 'set'\n",
       "\\item 'set'\n",
       "\\item 'set'\n",
       "\\item 'set'\n",
       "\\item 'set'\n",
       "\\item 'set'\n",
       "\\item 'set'\n",
       "\\item 'ver'\n",
       "\\item 'ver'\n",
       "\\item 'ver'\n",
       "\\item 'ver'\n",
       "\\item 'ver'\n",
       "\\item 'ver'\n",
       "\\item 'ver'\n",
       "\\item 'ver'\n",
       "\\item 'ver'\n",
       "\\item 'ver'\n",
       "\\item 'ver'\n",
       "\\item 'ver'\n",
       "\\item 'ver'\n",
       "\\item 'ver'\n",
       "\\item 'ver'\n",
       "\\item 'ver'\n",
       "\\item 'ver'\n",
       "\\item 'ver'\n",
       "\\item 'ver'\n",
       "\\item 'ver'\n",
       "\\item 'ver'\n",
       "\\item 'ver'\n",
       "\\item 'ver'\n",
       "\\item 'ver'\n",
       "\\item 'ver'\n",
       "\\item 'ver'\n",
       "\\item 'ver'\n",
       "\\item 'ver'\n",
       "\\item 'ver'\n",
       "\\item 'ver'\n",
       "\\item 'ver'\n",
       "\\item 'ver'\n",
       "\\item 'ver'\n",
       "\\item 'ver'\n",
       "\\item 'ver'\n",
       "\\item 'ver'\n",
       "\\item 'ver'\n",
       "\\item 'ver'\n",
       "\\item 'ver'\n",
       "\\item 'ver'\n",
       "\\item 'ver'\n",
       "\\item 'ver'\n",
       "\\item 'ver'\n",
       "\\item 'ver'\n",
       "\\item 'ver'\n",
       "\\item 'ver'\n",
       "\\item 'ver'\n",
       "\\item 'ver'\n",
       "\\item 'ver'\n",
       "\\item 'ver'\n",
       "\\item 'vir'\n",
       "\\item 'vir'\n",
       "\\item 'vir'\n",
       "\\item 'vir'\n",
       "\\item 'vir'\n",
       "\\item 'vir'\n",
       "\\item 'vir'\n",
       "\\item 'vir'\n",
       "\\item 'vir'\n",
       "\\item 'vir'\n",
       "\\item 'vir'\n",
       "\\item 'vir'\n",
       "\\item 'vir'\n",
       "\\item 'vir'\n",
       "\\item 'vir'\n",
       "\\item 'vir'\n",
       "\\item 'vir'\n",
       "\\item 'vir'\n",
       "\\item 'vir'\n",
       "\\item 'vir'\n",
       "\\item 'vir'\n",
       "\\item 'vir'\n",
       "\\item 'vir'\n",
       "\\item 'vir'\n",
       "\\item 'vir'\n",
       "\\item 'vir'\n",
       "\\item 'vir'\n",
       "\\item 'vir'\n",
       "\\item 'vir'\n",
       "\\item 'vir'\n",
       "\\item 'vir'\n",
       "\\item 'vir'\n",
       "\\item 'vir'\n",
       "\\item 'vir'\n",
       "\\item 'vir'\n",
       "\\item 'vir'\n",
       "\\item 'vir'\n",
       "\\item 'vir'\n",
       "\\item 'vir'\n",
       "\\item 'vir'\n",
       "\\item 'vir'\n",
       "\\item 'vir'\n",
       "\\item 'vir'\n",
       "\\item 'vir'\n",
       "\\item 'vir'\n",
       "\\item 'vir'\n",
       "\\item 'vir'\n",
       "\\item 'vir'\n",
       "\\item 'vir'\n",
       "\\item 'vir'\n",
       "\\end{enumerate*}\n"
      ],
      "text/markdown": [
       "1. 'set'\n",
       "2. 'set'\n",
       "3. 'set'\n",
       "4. 'set'\n",
       "5. 'set'\n",
       "6. 'set'\n",
       "7. 'set'\n",
       "8. 'set'\n",
       "9. 'set'\n",
       "10. 'set'\n",
       "11. 'set'\n",
       "12. 'set'\n",
       "13. 'set'\n",
       "14. 'set'\n",
       "15. 'set'\n",
       "16. 'set'\n",
       "17. 'set'\n",
       "18. 'set'\n",
       "19. 'set'\n",
       "20. 'set'\n",
       "21. 'set'\n",
       "22. 'set'\n",
       "23. 'set'\n",
       "24. 'set'\n",
       "25. 'set'\n",
       "26. 'set'\n",
       "27. 'set'\n",
       "28. 'set'\n",
       "29. 'set'\n",
       "30. 'set'\n",
       "31. 'set'\n",
       "32. 'set'\n",
       "33. 'set'\n",
       "34. 'set'\n",
       "35. 'set'\n",
       "36. 'set'\n",
       "37. 'set'\n",
       "38. 'set'\n",
       "39. 'set'\n",
       "40. 'set'\n",
       "41. 'set'\n",
       "42. 'set'\n",
       "43. 'set'\n",
       "44. 'set'\n",
       "45. 'set'\n",
       "46. 'set'\n",
       "47. 'set'\n",
       "48. 'set'\n",
       "49. 'set'\n",
       "50. 'set'\n",
       "51. 'ver'\n",
       "52. 'ver'\n",
       "53. 'ver'\n",
       "54. 'ver'\n",
       "55. 'ver'\n",
       "56. 'ver'\n",
       "57. 'ver'\n",
       "58. 'ver'\n",
       "59. 'ver'\n",
       "60. 'ver'\n",
       "61. 'ver'\n",
       "62. 'ver'\n",
       "63. 'ver'\n",
       "64. 'ver'\n",
       "65. 'ver'\n",
       "66. 'ver'\n",
       "67. 'ver'\n",
       "68. 'ver'\n",
       "69. 'ver'\n",
       "70. 'ver'\n",
       "71. 'ver'\n",
       "72. 'ver'\n",
       "73. 'ver'\n",
       "74. 'ver'\n",
       "75. 'ver'\n",
       "76. 'ver'\n",
       "77. 'ver'\n",
       "78. 'ver'\n",
       "79. 'ver'\n",
       "80. 'ver'\n",
       "81. 'ver'\n",
       "82. 'ver'\n",
       "83. 'ver'\n",
       "84. 'ver'\n",
       "85. 'ver'\n",
       "86. 'ver'\n",
       "87. 'ver'\n",
       "88. 'ver'\n",
       "89. 'ver'\n",
       "90. 'ver'\n",
       "91. 'ver'\n",
       "92. 'ver'\n",
       "93. 'ver'\n",
       "94. 'ver'\n",
       "95. 'ver'\n",
       "96. 'ver'\n",
       "97. 'ver'\n",
       "98. 'ver'\n",
       "99. 'ver'\n",
       "100. 'ver'\n",
       "101. 'vir'\n",
       "102. 'vir'\n",
       "103. 'vir'\n",
       "104. 'vir'\n",
       "105. 'vir'\n",
       "106. 'vir'\n",
       "107. 'vir'\n",
       "108. 'vir'\n",
       "109. 'vir'\n",
       "110. 'vir'\n",
       "111. 'vir'\n",
       "112. 'vir'\n",
       "113. 'vir'\n",
       "114. 'vir'\n",
       "115. 'vir'\n",
       "116. 'vir'\n",
       "117. 'vir'\n",
       "118. 'vir'\n",
       "119. 'vir'\n",
       "120. 'vir'\n",
       "121. 'vir'\n",
       "122. 'vir'\n",
       "123. 'vir'\n",
       "124. 'vir'\n",
       "125. 'vir'\n",
       "126. 'vir'\n",
       "127. 'vir'\n",
       "128. 'vir'\n",
       "129. 'vir'\n",
       "130. 'vir'\n",
       "131. 'vir'\n",
       "132. 'vir'\n",
       "133. 'vir'\n",
       "134. 'vir'\n",
       "135. 'vir'\n",
       "136. 'vir'\n",
       "137. 'vir'\n",
       "138. 'vir'\n",
       "139. 'vir'\n",
       "140. 'vir'\n",
       "141. 'vir'\n",
       "142. 'vir'\n",
       "143. 'vir'\n",
       "144. 'vir'\n",
       "145. 'vir'\n",
       "146. 'vir'\n",
       "147. 'vir'\n",
       "148. 'vir'\n",
       "149. 'vir'\n",
       "150. 'vir'\n",
       "\n",
       "\n"
      ],
      "text/plain": [
       "  [1] \"set\" \"set\" \"set\" \"set\" \"set\" \"set\" \"set\" \"set\" \"set\" \"set\" \"set\" \"set\"\n",
       " [13] \"set\" \"set\" \"set\" \"set\" \"set\" \"set\" \"set\" \"set\" \"set\" \"set\" \"set\" \"set\"\n",
       " [25] \"set\" \"set\" \"set\" \"set\" \"set\" \"set\" \"set\" \"set\" \"set\" \"set\" \"set\" \"set\"\n",
       " [37] \"set\" \"set\" \"set\" \"set\" \"set\" \"set\" \"set\" \"set\" \"set\" \"set\" \"set\" \"set\"\n",
       " [49] \"set\" \"set\" \"ver\" \"ver\" \"ver\" \"ver\" \"ver\" \"ver\" \"ver\" \"ver\" \"ver\" \"ver\"\n",
       " [61] \"ver\" \"ver\" \"ver\" \"ver\" \"ver\" \"ver\" \"ver\" \"ver\" \"ver\" \"ver\" \"ver\" \"ver\"\n",
       " [73] \"ver\" \"ver\" \"ver\" \"ver\" \"ver\" \"ver\" \"ver\" \"ver\" \"ver\" \"ver\" \"ver\" \"ver\"\n",
       " [85] \"ver\" \"ver\" \"ver\" \"ver\" \"ver\" \"ver\" \"ver\" \"ver\" \"ver\" \"ver\" \"ver\" \"ver\"\n",
       " [97] \"ver\" \"ver\" \"ver\" \"ver\" \"vir\" \"vir\" \"vir\" \"vir\" \"vir\" \"vir\" \"vir\" \"vir\"\n",
       "[109] \"vir\" \"vir\" \"vir\" \"vir\" \"vir\" \"vir\" \"vir\" \"vir\" \"vir\" \"vir\" \"vir\" \"vir\"\n",
       "[121] \"vir\" \"vir\" \"vir\" \"vir\" \"vir\" \"vir\" \"vir\" \"vir\" \"vir\" \"vir\" \"vir\" \"vir\"\n",
       "[133] \"vir\" \"vir\" \"vir\" \"vir\" \"vir\" \"vir\" \"vir\" \"vir\" \"vir\" \"vir\" \"vir\" \"vir\"\n",
       "[145] \"vir\" \"vir\" \"vir\" \"vir\" \"vir\" \"vir\""
      ]
     },
     "metadata": {},
     "output_type": "display_data"
    }
   ],
   "source": [
    "# 첫번째부터 세번째(특정 문자열만 출력)\n",
    "substr(iris$Species,1,3)"
   ]
  },
  {
   "cell_type": "code",
   "execution_count": 76,
   "id": "filled-officer",
   "metadata": {},
   "outputs": [],
   "source": [
    "x <- data.frame(name=c(\"a\",\"b\",\"c\"), height=c(170,180,160))\n",
    "y <- data.frame(name=c(\"c\",\"b\",\"a\"),weight = c(50,70,60))"
   ]
  },
  {
   "cell_type": "code",
   "execution_count": 77,
   "id": "electronic-sunglasses",
   "metadata": {},
   "outputs": [
    {
     "data": {
      "text/html": [
       "<table>\n",
       "<thead><tr><th scope=col>name</th><th scope=col>height</th></tr></thead>\n",
       "<tbody>\n",
       "\t<tr><td>a  </td><td>170</td></tr>\n",
       "\t<tr><td>b  </td><td>180</td></tr>\n",
       "\t<tr><td>c  </td><td>160</td></tr>\n",
       "</tbody>\n",
       "</table>\n"
      ],
      "text/latex": [
       "\\begin{tabular}{r|ll}\n",
       " name & height\\\\\n",
       "\\hline\n",
       "\t a   & 170\\\\\n",
       "\t b   & 180\\\\\n",
       "\t c   & 160\\\\\n",
       "\\end{tabular}\n"
      ],
      "text/markdown": [
       "\n",
       "| name | height |\n",
       "|---|---|\n",
       "| a   | 170 |\n",
       "| b   | 180 |\n",
       "| c   | 160 |\n",
       "\n"
      ],
      "text/plain": [
       "  name height\n",
       "1 a    170   \n",
       "2 b    180   \n",
       "3 c    160   "
      ]
     },
     "metadata": {},
     "output_type": "display_data"
    }
   ],
   "source": [
    "x"
   ]
  },
  {
   "cell_type": "code",
   "execution_count": 78,
   "id": "corporate-singing",
   "metadata": {},
   "outputs": [
    {
     "data": {
      "text/html": [
       "<table>\n",
       "<thead><tr><th scope=col>name</th><th scope=col>weight</th></tr></thead>\n",
       "<tbody>\n",
       "\t<tr><td>c </td><td>50</td></tr>\n",
       "\t<tr><td>b </td><td>70</td></tr>\n",
       "\t<tr><td>a </td><td>60</td></tr>\n",
       "</tbody>\n",
       "</table>\n"
      ],
      "text/latex": [
       "\\begin{tabular}{r|ll}\n",
       " name & weight\\\\\n",
       "\\hline\n",
       "\t c  & 50\\\\\n",
       "\t b  & 70\\\\\n",
       "\t a  & 60\\\\\n",
       "\\end{tabular}\n"
      ],
      "text/markdown": [
       "\n",
       "| name | weight |\n",
       "|---|---|\n",
       "| c  | 50 |\n",
       "| b  | 70 |\n",
       "| a  | 60 |\n",
       "\n"
      ],
      "text/plain": [
       "  name weight\n",
       "1 c    50    \n",
       "2 b    70    \n",
       "3 a    60    "
      ]
     },
     "metadata": {},
     "output_type": "display_data"
    }
   ],
   "source": [
    "y"
   ]
  },
  {
   "cell_type": "code",
   "execution_count": 80,
   "id": "secure-preview",
   "metadata": {},
   "outputs": [],
   "source": [
    "#서로 합쳐 중, join을 더 많이 씀.\n",
    "\n",
    "a = merge(x,y)"
   ]
  },
  {
   "cell_type": "code",
   "execution_count": 81,
   "id": "guided-memphis",
   "metadata": {},
   "outputs": [
    {
     "data": {
      "text/html": [
       "<table>\n",
       "<thead><tr><th scope=col>name</th><th scope=col>height</th><th scope=col>weight</th></tr></thead>\n",
       "<tbody>\n",
       "\t<tr><td>a  </td><td>170</td><td>60 </td></tr>\n",
       "\t<tr><td>b  </td><td>180</td><td>70 </td></tr>\n",
       "\t<tr><td>c  </td><td>160</td><td>50 </td></tr>\n",
       "</tbody>\n",
       "</table>\n"
      ],
      "text/latex": [
       "\\begin{tabular}{r|lll}\n",
       " name & height & weight\\\\\n",
       "\\hline\n",
       "\t a   & 170 & 60 \\\\\n",
       "\t b   & 180 & 70 \\\\\n",
       "\t c   & 160 & 50 \\\\\n",
       "\\end{tabular}\n"
      ],
      "text/markdown": [
       "\n",
       "| name | height | weight |\n",
       "|---|---|---|\n",
       "| a   | 170 | 60  |\n",
       "| b   | 180 | 70  |\n",
       "| c   | 160 | 50  |\n",
       "\n"
      ],
      "text/plain": [
       "  name height weight\n",
       "1 a    170    60    \n",
       "2 b    180    70    \n",
       "3 c    160    50    "
      ]
     },
     "metadata": {},
     "output_type": "display_data"
    }
   ],
   "source": [
    "a"
   ]
  },
  {
   "cell_type": "code",
   "execution_count": 82,
   "id": "flying-princeton",
   "metadata": {},
   "outputs": [],
   "source": [
    "#sort 와 order함수의 차이 : order 함수는 인덱스값을 출력.\n",
    "\n",
    "x <-c(20,10,30,50,40)"
   ]
  },
  {
   "cell_type": "code",
   "execution_count": 86,
   "id": "capable-belly",
   "metadata": {
    "scrolled": true
   },
   "outputs": [
    {
     "data": {
      "text/html": [
       "<ol class=list-inline>\n",
       "\t<li>10</li>\n",
       "\t<li>20</li>\n",
       "\t<li>30</li>\n",
       "\t<li>40</li>\n",
       "\t<li>50</li>\n",
       "</ol>\n"
      ],
      "text/latex": [
       "\\begin{enumerate*}\n",
       "\\item 10\n",
       "\\item 20\n",
       "\\item 30\n",
       "\\item 40\n",
       "\\item 50\n",
       "\\end{enumerate*}\n"
      ],
      "text/markdown": [
       "1. 10\n",
       "2. 20\n",
       "3. 30\n",
       "4. 40\n",
       "5. 50\n",
       "\n",
       "\n"
      ],
      "text/plain": [
       "[1] 10 20 30 40 50"
      ]
     },
     "metadata": {},
     "output_type": "display_data"
    }
   ],
   "source": [
    "sort(x)"
   ]
  },
  {
   "cell_type": "code",
   "execution_count": 85,
   "id": "chicken-courage",
   "metadata": {},
   "outputs": [
    {
     "data": {
      "text/html": [
       "<ol class=list-inline>\n",
       "\t<li>50</li>\n",
       "\t<li>40</li>\n",
       "\t<li>30</li>\n",
       "\t<li>20</li>\n",
       "\t<li>10</li>\n",
       "</ol>\n"
      ],
      "text/latex": [
       "\\begin{enumerate*}\n",
       "\\item 50\n",
       "\\item 40\n",
       "\\item 30\n",
       "\\item 20\n",
       "\\item 10\n",
       "\\end{enumerate*}\n"
      ],
      "text/markdown": [
       "1. 50\n",
       "2. 40\n",
       "3. 30\n",
       "4. 20\n",
       "5. 10\n",
       "\n",
       "\n"
      ],
      "text/plain": [
       "[1] 50 40 30 20 10"
      ]
     },
     "metadata": {},
     "output_type": "display_data"
    }
   ],
   "source": [
    "#내림차 순으로 정렬.\n",
    "\n",
    "sort(x, decreasing = TRUE)"
   ]
  },
  {
   "cell_type": "code",
   "execution_count": 87,
   "id": "minimal-detective",
   "metadata": {},
   "outputs": [
    {
     "data": {
      "text/html": [
       "<ol class=list-inline>\n",
       "\t<li>20</li>\n",
       "\t<li>10</li>\n",
       "\t<li>30</li>\n",
       "\t<li>50</li>\n",
       "\t<li>40</li>\n",
       "</ol>\n"
      ],
      "text/latex": [
       "\\begin{enumerate*}\n",
       "\\item 20\n",
       "\\item 10\n",
       "\\item 30\n",
       "\\item 50\n",
       "\\item 40\n",
       "\\end{enumerate*}\n"
      ],
      "text/markdown": [
       "1. 20\n",
       "2. 10\n",
       "3. 30\n",
       "4. 50\n",
       "5. 40\n",
       "\n",
       "\n"
      ],
      "text/plain": [
       "[1] 20 10 30 50 40"
      ]
     },
     "metadata": {},
     "output_type": "display_data"
    }
   ],
   "source": [
    "x"
   ]
  },
  {
   "cell_type": "code",
   "execution_count": 88,
   "id": "bizarre-conversation",
   "metadata": {},
   "outputs": [
    {
     "data": {
      "text/html": [
       "<ol class=list-inline>\n",
       "\t<li>2</li>\n",
       "\t<li>1</li>\n",
       "\t<li>3</li>\n",
       "\t<li>5</li>\n",
       "\t<li>4</li>\n",
       "</ol>\n"
      ],
      "text/latex": [
       "\\begin{enumerate*}\n",
       "\\item 2\n",
       "\\item 1\n",
       "\\item 3\n",
       "\\item 5\n",
       "\\item 4\n",
       "\\end{enumerate*}\n"
      ],
      "text/markdown": [
       "1. 2\n",
       "2. 1\n",
       "3. 3\n",
       "4. 5\n",
       "5. 4\n",
       "\n",
       "\n"
      ],
      "text/plain": [
       "[1] 2 1 3 5 4"
      ]
     },
     "metadata": {},
     "output_type": "display_data"
    }
   ],
   "source": [
    "#인덱스 값을 오름차순으로 출력\n",
    "order(x, decreasing = FALSE)"
   ]
  },
  {
   "cell_type": "code",
   "execution_count": 89,
   "id": "fitted-appeal",
   "metadata": {},
   "outputs": [
    {
     "data": {
      "text/html": [
       "<ol class=list-inline>\n",
       "\t<li>4</li>\n",
       "\t<li>5</li>\n",
       "\t<li>3</li>\n",
       "\t<li>1</li>\n",
       "\t<li>2</li>\n",
       "</ol>\n"
      ],
      "text/latex": [
       "\\begin{enumerate*}\n",
       "\\item 4\n",
       "\\item 5\n",
       "\\item 3\n",
       "\\item 1\n",
       "\\item 2\n",
       "\\end{enumerate*}\n"
      ],
      "text/markdown": [
       "1. 4\n",
       "2. 5\n",
       "3. 3\n",
       "4. 1\n",
       "5. 2\n",
       "\n",
       "\n"
      ],
      "text/plain": [
       "[1] 4 5 3 1 2"
      ]
     },
     "metadata": {},
     "output_type": "display_data"
    }
   ],
   "source": [
    "#인덱스 값을 내름차순으로 출력\n",
    "order(x, decreasing = TRUE)"
   ]
  },
  {
   "cell_type": "code",
   "execution_count": 90,
   "id": "operational-testing",
   "metadata": {},
   "outputs": [
    {
     "data": {
      "text/html": [
       "<table>\n",
       "<thead><tr><th></th><th scope=col>Sepal.Length</th><th scope=col>Sepal.Width</th><th scope=col>Petal.Length</th><th scope=col>Petal.Width</th><th scope=col>Species</th></tr></thead>\n",
       "<tbody>\n",
       "\t<tr><th scope=row>14</th><td>4.3       </td><td>3.0       </td><td>1.1       </td><td>0.1       </td><td>setosa    </td></tr>\n",
       "\t<tr><th scope=row>9</th><td>4.4       </td><td>2.9       </td><td>1.4       </td><td>0.2       </td><td>setosa    </td></tr>\n",
       "\t<tr><th scope=row>39</th><td>4.4       </td><td>3.0       </td><td>1.3       </td><td>0.2       </td><td>setosa    </td></tr>\n",
       "\t<tr><th scope=row>43</th><td>4.4       </td><td>3.2       </td><td>1.3       </td><td>0.2       </td><td>setosa    </td></tr>\n",
       "\t<tr><th scope=row>42</th><td>4.5       </td><td>2.3       </td><td>1.3       </td><td>0.3       </td><td>setosa    </td></tr>\n",
       "\t<tr><th scope=row>4</th><td>4.6       </td><td>3.1       </td><td>1.5       </td><td>0.2       </td><td>setosa    </td></tr>\n",
       "\t<tr><th scope=row>7</th><td>4.6       </td><td>3.4       </td><td>1.4       </td><td>0.3       </td><td>setosa    </td></tr>\n",
       "\t<tr><th scope=row>23</th><td>4.6       </td><td>3.6       </td><td>1.0       </td><td>0.2       </td><td>setosa    </td></tr>\n",
       "\t<tr><th scope=row>48</th><td>4.6       </td><td>3.2       </td><td>1.4       </td><td>0.2       </td><td>setosa    </td></tr>\n",
       "\t<tr><th scope=row>3</th><td>4.7       </td><td>3.2       </td><td>1.3       </td><td>0.2       </td><td>setosa    </td></tr>\n",
       "\t<tr><th scope=row>30</th><td>4.7       </td><td>3.2       </td><td>1.6       </td><td>0.2       </td><td>setosa    </td></tr>\n",
       "\t<tr><th scope=row>12</th><td>4.8       </td><td>3.4       </td><td>1.6       </td><td>0.2       </td><td>setosa    </td></tr>\n",
       "\t<tr><th scope=row>13</th><td>4.8       </td><td>3.0       </td><td>1.4       </td><td>0.1       </td><td>setosa    </td></tr>\n",
       "\t<tr><th scope=row>25</th><td>4.8       </td><td>3.4       </td><td>1.9       </td><td>0.2       </td><td>setosa    </td></tr>\n",
       "\t<tr><th scope=row>31</th><td>4.8       </td><td>3.1       </td><td>1.6       </td><td>0.2       </td><td>setosa    </td></tr>\n",
       "\t<tr><th scope=row>46</th><td>4.8       </td><td>3.0       </td><td>1.4       </td><td>0.3       </td><td>setosa    </td></tr>\n",
       "\t<tr><th scope=row>2</th><td>4.9       </td><td>3.0       </td><td>1.4       </td><td>0.2       </td><td>setosa    </td></tr>\n",
       "\t<tr><th scope=row>10</th><td>4.9       </td><td>3.1       </td><td>1.5       </td><td>0.1       </td><td>setosa    </td></tr>\n",
       "\t<tr><th scope=row>35</th><td>4.9       </td><td>3.1       </td><td>1.5       </td><td>0.2       </td><td>setosa    </td></tr>\n",
       "\t<tr><th scope=row>38</th><td>4.9       </td><td>3.6       </td><td>1.4       </td><td>0.1       </td><td>setosa    </td></tr>\n",
       "\t<tr><th scope=row>58</th><td>4.9       </td><td>2.4       </td><td>3.3       </td><td>1.0       </td><td>versicolor</td></tr>\n",
       "\t<tr><th scope=row>107</th><td>4.9       </td><td>2.5       </td><td>4.5       </td><td>1.7       </td><td>virginica </td></tr>\n",
       "\t<tr><th scope=row>5</th><td>5.0       </td><td>3.6       </td><td>1.4       </td><td>0.2       </td><td>setosa    </td></tr>\n",
       "\t<tr><th scope=row>8</th><td>5.0       </td><td>3.4       </td><td>1.5       </td><td>0.2       </td><td>setosa    </td></tr>\n",
       "\t<tr><th scope=row>26</th><td>5.0       </td><td>3.0       </td><td>1.6       </td><td>0.2       </td><td>setosa    </td></tr>\n",
       "\t<tr><th scope=row>27</th><td>5.0       </td><td>3.4       </td><td>1.6       </td><td>0.4       </td><td>setosa    </td></tr>\n",
       "\t<tr><th scope=row>36</th><td>5.0       </td><td>3.2       </td><td>1.2       </td><td>0.2       </td><td>setosa    </td></tr>\n",
       "\t<tr><th scope=row>41</th><td>5.0       </td><td>3.5       </td><td>1.3       </td><td>0.3       </td><td>setosa    </td></tr>\n",
       "\t<tr><th scope=row>44</th><td>5.0       </td><td>3.5       </td><td>1.6       </td><td>0.6       </td><td>setosa    </td></tr>\n",
       "\t<tr><th scope=row>50</th><td>5.0       </td><td>3.3       </td><td>1.4       </td><td>0.2       </td><td>setosa    </td></tr>\n",
       "\t<tr><th scope=row>...</th><td>...</td><td>...</td><td>...</td><td>...</td><td>...</td></tr>\n",
       "\t<tr><th scope=row>59</th><td>6.6       </td><td>2.9       </td><td>4.6       </td><td>1.3       </td><td>versicolor</td></tr>\n",
       "\t<tr><th scope=row>76</th><td>6.6       </td><td>3.0       </td><td>4.4       </td><td>1.4       </td><td>versicolor</td></tr>\n",
       "\t<tr><th scope=row>66</th><td>6.7       </td><td>3.1       </td><td>4.4       </td><td>1.4       </td><td>versicolor</td></tr>\n",
       "\t<tr><th scope=row>78</th><td>6.7       </td><td>3.0       </td><td>5.0       </td><td>1.7       </td><td>versicolor</td></tr>\n",
       "\t<tr><th scope=row>87</th><td>6.7       </td><td>3.1       </td><td>4.7       </td><td>1.5       </td><td>versicolor</td></tr>\n",
       "\t<tr><th scope=row>109</th><td>6.7       </td><td>2.5       </td><td>5.8       </td><td>1.8       </td><td>virginica </td></tr>\n",
       "\t<tr><th scope=row>125</th><td>6.7       </td><td>3.3       </td><td>5.7       </td><td>2.1       </td><td>virginica </td></tr>\n",
       "\t<tr><th scope=row>141</th><td>6.7       </td><td>3.1       </td><td>5.6       </td><td>2.4       </td><td>virginica </td></tr>\n",
       "\t<tr><th scope=row>145</th><td>6.7       </td><td>3.3       </td><td>5.7       </td><td>2.5       </td><td>virginica </td></tr>\n",
       "\t<tr><th scope=row>146</th><td>6.7       </td><td>3.0       </td><td>5.2       </td><td>2.3       </td><td>virginica </td></tr>\n",
       "\t<tr><th scope=row>77</th><td>6.8       </td><td>2.8       </td><td>4.8       </td><td>1.4       </td><td>versicolor</td></tr>\n",
       "\t<tr><th scope=row>113</th><td>6.8       </td><td>3.0       </td><td>5.5       </td><td>2.1       </td><td>virginica </td></tr>\n",
       "\t<tr><th scope=row>144</th><td>6.8       </td><td>3.2       </td><td>5.9       </td><td>2.3       </td><td>virginica </td></tr>\n",
       "\t<tr><th scope=row>53</th><td>6.9       </td><td>3.1       </td><td>4.9       </td><td>1.5       </td><td>versicolor</td></tr>\n",
       "\t<tr><th scope=row>121</th><td>6.9       </td><td>3.2       </td><td>5.7       </td><td>2.3       </td><td>virginica </td></tr>\n",
       "\t<tr><th scope=row>140</th><td>6.9       </td><td>3.1       </td><td>5.4       </td><td>2.1       </td><td>virginica </td></tr>\n",
       "\t<tr><th scope=row>142</th><td>6.9       </td><td>3.1       </td><td>5.1       </td><td>2.3       </td><td>virginica </td></tr>\n",
       "\t<tr><th scope=row>51</th><td>7.0       </td><td>3.2       </td><td>4.7       </td><td>1.4       </td><td>versicolor</td></tr>\n",
       "\t<tr><th scope=row>103</th><td>7.1       </td><td>3.0       </td><td>5.9       </td><td>2.1       </td><td>virginica </td></tr>\n",
       "\t<tr><th scope=row>110</th><td>7.2       </td><td>3.6       </td><td>6.1       </td><td>2.5       </td><td>virginica </td></tr>\n",
       "\t<tr><th scope=row>126</th><td>7.2       </td><td>3.2       </td><td>6.0       </td><td>1.8       </td><td>virginica </td></tr>\n",
       "\t<tr><th scope=row>130</th><td>7.2       </td><td>3.0       </td><td>5.8       </td><td>1.6       </td><td>virginica </td></tr>\n",
       "\t<tr><th scope=row>108</th><td>7.3       </td><td>2.9       </td><td>6.3       </td><td>1.8       </td><td>virginica </td></tr>\n",
       "\t<tr><th scope=row>131</th><td>7.4       </td><td>2.8       </td><td>6.1       </td><td>1.9       </td><td>virginica </td></tr>\n",
       "\t<tr><th scope=row>106</th><td>7.6       </td><td>3.0       </td><td>6.6       </td><td>2.1       </td><td>virginica </td></tr>\n",
       "\t<tr><th scope=row>118</th><td>7.7       </td><td>3.8       </td><td>6.7       </td><td>2.2       </td><td>virginica </td></tr>\n",
       "\t<tr><th scope=row>119</th><td>7.7       </td><td>2.6       </td><td>6.9       </td><td>2.3       </td><td>virginica </td></tr>\n",
       "\t<tr><th scope=row>123</th><td>7.7       </td><td>2.8       </td><td>6.7       </td><td>2.0       </td><td>virginica </td></tr>\n",
       "\t<tr><th scope=row>136</th><td>7.7       </td><td>3.0       </td><td>6.1       </td><td>2.3       </td><td>virginica </td></tr>\n",
       "\t<tr><th scope=row>132</th><td>7.9       </td><td>3.8       </td><td>6.4       </td><td>2.0       </td><td>virginica </td></tr>\n",
       "</tbody>\n",
       "</table>\n"
      ],
      "text/latex": [
       "\\begin{tabular}{r|lllll}\n",
       "  & Sepal.Length & Sepal.Width & Petal.Length & Petal.Width & Species\\\\\n",
       "\\hline\n",
       "\t14 & 4.3        & 3.0        & 1.1        & 0.1        & setosa    \\\\\n",
       "\t9 & 4.4        & 2.9        & 1.4        & 0.2        & setosa    \\\\\n",
       "\t39 & 4.4        & 3.0        & 1.3        & 0.2        & setosa    \\\\\n",
       "\t43 & 4.4        & 3.2        & 1.3        & 0.2        & setosa    \\\\\n",
       "\t42 & 4.5        & 2.3        & 1.3        & 0.3        & setosa    \\\\\n",
       "\t4 & 4.6        & 3.1        & 1.5        & 0.2        & setosa    \\\\\n",
       "\t7 & 4.6        & 3.4        & 1.4        & 0.3        & setosa    \\\\\n",
       "\t23 & 4.6        & 3.6        & 1.0        & 0.2        & setosa    \\\\\n",
       "\t48 & 4.6        & 3.2        & 1.4        & 0.2        & setosa    \\\\\n",
       "\t3 & 4.7        & 3.2        & 1.3        & 0.2        & setosa    \\\\\n",
       "\t30 & 4.7        & 3.2        & 1.6        & 0.2        & setosa    \\\\\n",
       "\t12 & 4.8        & 3.4        & 1.6        & 0.2        & setosa    \\\\\n",
       "\t13 & 4.8        & 3.0        & 1.4        & 0.1        & setosa    \\\\\n",
       "\t25 & 4.8        & 3.4        & 1.9        & 0.2        & setosa    \\\\\n",
       "\t31 & 4.8        & 3.1        & 1.6        & 0.2        & setosa    \\\\\n",
       "\t46 & 4.8        & 3.0        & 1.4        & 0.3        & setosa    \\\\\n",
       "\t2 & 4.9        & 3.0        & 1.4        & 0.2        & setosa    \\\\\n",
       "\t10 & 4.9        & 3.1        & 1.5        & 0.1        & setosa    \\\\\n",
       "\t35 & 4.9        & 3.1        & 1.5        & 0.2        & setosa    \\\\\n",
       "\t38 & 4.9        & 3.6        & 1.4        & 0.1        & setosa    \\\\\n",
       "\t58 & 4.9        & 2.4        & 3.3        & 1.0        & versicolor\\\\\n",
       "\t107 & 4.9        & 2.5        & 4.5        & 1.7        & virginica \\\\\n",
       "\t5 & 5.0        & 3.6        & 1.4        & 0.2        & setosa    \\\\\n",
       "\t8 & 5.0        & 3.4        & 1.5        & 0.2        & setosa    \\\\\n",
       "\t26 & 5.0        & 3.0        & 1.6        & 0.2        & setosa    \\\\\n",
       "\t27 & 5.0        & 3.4        & 1.6        & 0.4        & setosa    \\\\\n",
       "\t36 & 5.0        & 3.2        & 1.2        & 0.2        & setosa    \\\\\n",
       "\t41 & 5.0        & 3.5        & 1.3        & 0.3        & setosa    \\\\\n",
       "\t44 & 5.0        & 3.5        & 1.6        & 0.6        & setosa    \\\\\n",
       "\t50 & 5.0        & 3.3        & 1.4        & 0.2        & setosa    \\\\\n",
       "\t... & ... & ... & ... & ... & ...\\\\\n",
       "\t59 & 6.6        & 2.9        & 4.6        & 1.3        & versicolor\\\\\n",
       "\t76 & 6.6        & 3.0        & 4.4        & 1.4        & versicolor\\\\\n",
       "\t66 & 6.7        & 3.1        & 4.4        & 1.4        & versicolor\\\\\n",
       "\t78 & 6.7        & 3.0        & 5.0        & 1.7        & versicolor\\\\\n",
       "\t87 & 6.7        & 3.1        & 4.7        & 1.5        & versicolor\\\\\n",
       "\t109 & 6.7        & 2.5        & 5.8        & 1.8        & virginica \\\\\n",
       "\t125 & 6.7        & 3.3        & 5.7        & 2.1        & virginica \\\\\n",
       "\t141 & 6.7        & 3.1        & 5.6        & 2.4        & virginica \\\\\n",
       "\t145 & 6.7        & 3.3        & 5.7        & 2.5        & virginica \\\\\n",
       "\t146 & 6.7        & 3.0        & 5.2        & 2.3        & virginica \\\\\n",
       "\t77 & 6.8        & 2.8        & 4.8        & 1.4        & versicolor\\\\\n",
       "\t113 & 6.8        & 3.0        & 5.5        & 2.1        & virginica \\\\\n",
       "\t144 & 6.8        & 3.2        & 5.9        & 2.3        & virginica \\\\\n",
       "\t53 & 6.9        & 3.1        & 4.9        & 1.5        & versicolor\\\\\n",
       "\t121 & 6.9        & 3.2        & 5.7        & 2.3        & virginica \\\\\n",
       "\t140 & 6.9        & 3.1        & 5.4        & 2.1        & virginica \\\\\n",
       "\t142 & 6.9        & 3.1        & 5.1        & 2.3        & virginica \\\\\n",
       "\t51 & 7.0        & 3.2        & 4.7        & 1.4        & versicolor\\\\\n",
       "\t103 & 7.1        & 3.0        & 5.9        & 2.1        & virginica \\\\\n",
       "\t110 & 7.2        & 3.6        & 6.1        & 2.5        & virginica \\\\\n",
       "\t126 & 7.2        & 3.2        & 6.0        & 1.8        & virginica \\\\\n",
       "\t130 & 7.2        & 3.0        & 5.8        & 1.6        & virginica \\\\\n",
       "\t108 & 7.3        & 2.9        & 6.3        & 1.8        & virginica \\\\\n",
       "\t131 & 7.4        & 2.8        & 6.1        & 1.9        & virginica \\\\\n",
       "\t106 & 7.6        & 3.0        & 6.6        & 2.1        & virginica \\\\\n",
       "\t118 & 7.7        & 3.8        & 6.7        & 2.2        & virginica \\\\\n",
       "\t119 & 7.7        & 2.6        & 6.9        & 2.3        & virginica \\\\\n",
       "\t123 & 7.7        & 2.8        & 6.7        & 2.0        & virginica \\\\\n",
       "\t136 & 7.7        & 3.0        & 6.1        & 2.3        & virginica \\\\\n",
       "\t132 & 7.9        & 3.8        & 6.4        & 2.0        & virginica \\\\\n",
       "\\end{tabular}\n"
      ],
      "text/markdown": [
       "\n",
       "| <!--/--> | Sepal.Length | Sepal.Width | Petal.Length | Petal.Width | Species |\n",
       "|---|---|---|---|---|---|\n",
       "| 14 | 4.3        | 3.0        | 1.1        | 0.1        | setosa     |\n",
       "| 9 | 4.4        | 2.9        | 1.4        | 0.2        | setosa     |\n",
       "| 39 | 4.4        | 3.0        | 1.3        | 0.2        | setosa     |\n",
       "| 43 | 4.4        | 3.2        | 1.3        | 0.2        | setosa     |\n",
       "| 42 | 4.5        | 2.3        | 1.3        | 0.3        | setosa     |\n",
       "| 4 | 4.6        | 3.1        | 1.5        | 0.2        | setosa     |\n",
       "| 7 | 4.6        | 3.4        | 1.4        | 0.3        | setosa     |\n",
       "| 23 | 4.6        | 3.6        | 1.0        | 0.2        | setosa     |\n",
       "| 48 | 4.6        | 3.2        | 1.4        | 0.2        | setosa     |\n",
       "| 3 | 4.7        | 3.2        | 1.3        | 0.2        | setosa     |\n",
       "| 30 | 4.7        | 3.2        | 1.6        | 0.2        | setosa     |\n",
       "| 12 | 4.8        | 3.4        | 1.6        | 0.2        | setosa     |\n",
       "| 13 | 4.8        | 3.0        | 1.4        | 0.1        | setosa     |\n",
       "| 25 | 4.8        | 3.4        | 1.9        | 0.2        | setosa     |\n",
       "| 31 | 4.8        | 3.1        | 1.6        | 0.2        | setosa     |\n",
       "| 46 | 4.8        | 3.0        | 1.4        | 0.3        | setosa     |\n",
       "| 2 | 4.9        | 3.0        | 1.4        | 0.2        | setosa     |\n",
       "| 10 | 4.9        | 3.1        | 1.5        | 0.1        | setosa     |\n",
       "| 35 | 4.9        | 3.1        | 1.5        | 0.2        | setosa     |\n",
       "| 38 | 4.9        | 3.6        | 1.4        | 0.1        | setosa     |\n",
       "| 58 | 4.9        | 2.4        | 3.3        | 1.0        | versicolor |\n",
       "| 107 | 4.9        | 2.5        | 4.5        | 1.7        | virginica  |\n",
       "| 5 | 5.0        | 3.6        | 1.4        | 0.2        | setosa     |\n",
       "| 8 | 5.0        | 3.4        | 1.5        | 0.2        | setosa     |\n",
       "| 26 | 5.0        | 3.0        | 1.6        | 0.2        | setosa     |\n",
       "| 27 | 5.0        | 3.4        | 1.6        | 0.4        | setosa     |\n",
       "| 36 | 5.0        | 3.2        | 1.2        | 0.2        | setosa     |\n",
       "| 41 | 5.0        | 3.5        | 1.3        | 0.3        | setosa     |\n",
       "| 44 | 5.0        | 3.5        | 1.6        | 0.6        | setosa     |\n",
       "| 50 | 5.0        | 3.3        | 1.4        | 0.2        | setosa     |\n",
       "| ... | ... | ... | ... | ... | ... |\n",
       "| 59 | 6.6        | 2.9        | 4.6        | 1.3        | versicolor |\n",
       "| 76 | 6.6        | 3.0        | 4.4        | 1.4        | versicolor |\n",
       "| 66 | 6.7        | 3.1        | 4.4        | 1.4        | versicolor |\n",
       "| 78 | 6.7        | 3.0        | 5.0        | 1.7        | versicolor |\n",
       "| 87 | 6.7        | 3.1        | 4.7        | 1.5        | versicolor |\n",
       "| 109 | 6.7        | 2.5        | 5.8        | 1.8        | virginica  |\n",
       "| 125 | 6.7        | 3.3        | 5.7        | 2.1        | virginica  |\n",
       "| 141 | 6.7        | 3.1        | 5.6        | 2.4        | virginica  |\n",
       "| 145 | 6.7        | 3.3        | 5.7        | 2.5        | virginica  |\n",
       "| 146 | 6.7        | 3.0        | 5.2        | 2.3        | virginica  |\n",
       "| 77 | 6.8        | 2.8        | 4.8        | 1.4        | versicolor |\n",
       "| 113 | 6.8        | 3.0        | 5.5        | 2.1        | virginica  |\n",
       "| 144 | 6.8        | 3.2        | 5.9        | 2.3        | virginica  |\n",
       "| 53 | 6.9        | 3.1        | 4.9        | 1.5        | versicolor |\n",
       "| 121 | 6.9        | 3.2        | 5.7        | 2.3        | virginica  |\n",
       "| 140 | 6.9        | 3.1        | 5.4        | 2.1        | virginica  |\n",
       "| 142 | 6.9        | 3.1        | 5.1        | 2.3        | virginica  |\n",
       "| 51 | 7.0        | 3.2        | 4.7        | 1.4        | versicolor |\n",
       "| 103 | 7.1        | 3.0        | 5.9        | 2.1        | virginica  |\n",
       "| 110 | 7.2        | 3.6        | 6.1        | 2.5        | virginica  |\n",
       "| 126 | 7.2        | 3.2        | 6.0        | 1.8        | virginica  |\n",
       "| 130 | 7.2        | 3.0        | 5.8        | 1.6        | virginica  |\n",
       "| 108 | 7.3        | 2.9        | 6.3        | 1.8        | virginica  |\n",
       "| 131 | 7.4        | 2.8        | 6.1        | 1.9        | virginica  |\n",
       "| 106 | 7.6        | 3.0        | 6.6        | 2.1        | virginica  |\n",
       "| 118 | 7.7        | 3.8        | 6.7        | 2.2        | virginica  |\n",
       "| 119 | 7.7        | 2.6        | 6.9        | 2.3        | virginica  |\n",
       "| 123 | 7.7        | 2.8        | 6.7        | 2.0        | virginica  |\n",
       "| 136 | 7.7        | 3.0        | 6.1        | 2.3        | virginica  |\n",
       "| 132 | 7.9        | 3.8        | 6.4        | 2.0        | virginica  |\n",
       "\n"
      ],
      "text/plain": [
       "    Sepal.Length Sepal.Width Petal.Length Petal.Width Species   \n",
       "14  4.3          3.0         1.1          0.1         setosa    \n",
       "9   4.4          2.9         1.4          0.2         setosa    \n",
       "39  4.4          3.0         1.3          0.2         setosa    \n",
       "43  4.4          3.2         1.3          0.2         setosa    \n",
       "42  4.5          2.3         1.3          0.3         setosa    \n",
       "4   4.6          3.1         1.5          0.2         setosa    \n",
       "7   4.6          3.4         1.4          0.3         setosa    \n",
       "23  4.6          3.6         1.0          0.2         setosa    \n",
       "48  4.6          3.2         1.4          0.2         setosa    \n",
       "3   4.7          3.2         1.3          0.2         setosa    \n",
       "30  4.7          3.2         1.6          0.2         setosa    \n",
       "12  4.8          3.4         1.6          0.2         setosa    \n",
       "13  4.8          3.0         1.4          0.1         setosa    \n",
       "25  4.8          3.4         1.9          0.2         setosa    \n",
       "31  4.8          3.1         1.6          0.2         setosa    \n",
       "46  4.8          3.0         1.4          0.3         setosa    \n",
       "2   4.9          3.0         1.4          0.2         setosa    \n",
       "10  4.9          3.1         1.5          0.1         setosa    \n",
       "35  4.9          3.1         1.5          0.2         setosa    \n",
       "38  4.9          3.6         1.4          0.1         setosa    \n",
       "58  4.9          2.4         3.3          1.0         versicolor\n",
       "107 4.9          2.5         4.5          1.7         virginica \n",
       "5   5.0          3.6         1.4          0.2         setosa    \n",
       "8   5.0          3.4         1.5          0.2         setosa    \n",
       "26  5.0          3.0         1.6          0.2         setosa    \n",
       "27  5.0          3.4         1.6          0.4         setosa    \n",
       "36  5.0          3.2         1.2          0.2         setosa    \n",
       "41  5.0          3.5         1.3          0.3         setosa    \n",
       "44  5.0          3.5         1.6          0.6         setosa    \n",
       "50  5.0          3.3         1.4          0.2         setosa    \n",
       "... ...          ...         ...          ...         ...       \n",
       "59  6.6          2.9         4.6          1.3         versicolor\n",
       "76  6.6          3.0         4.4          1.4         versicolor\n",
       "66  6.7          3.1         4.4          1.4         versicolor\n",
       "78  6.7          3.0         5.0          1.7         versicolor\n",
       "87  6.7          3.1         4.7          1.5         versicolor\n",
       "109 6.7          2.5         5.8          1.8         virginica \n",
       "125 6.7          3.3         5.7          2.1         virginica \n",
       "141 6.7          3.1         5.6          2.4         virginica \n",
       "145 6.7          3.3         5.7          2.5         virginica \n",
       "146 6.7          3.0         5.2          2.3         virginica \n",
       "77  6.8          2.8         4.8          1.4         versicolor\n",
       "113 6.8          3.0         5.5          2.1         virginica \n",
       "144 6.8          3.2         5.9          2.3         virginica \n",
       "53  6.9          3.1         4.9          1.5         versicolor\n",
       "121 6.9          3.2         5.7          2.3         virginica \n",
       "140 6.9          3.1         5.4          2.1         virginica \n",
       "142 6.9          3.1         5.1          2.3         virginica \n",
       "51  7.0          3.2         4.7          1.4         versicolor\n",
       "103 7.1          3.0         5.9          2.1         virginica \n",
       "110 7.2          3.6         6.1          2.5         virginica \n",
       "126 7.2          3.2         6.0          1.8         virginica \n",
       "130 7.2          3.0         5.8          1.6         virginica \n",
       "108 7.3          2.9         6.3          1.8         virginica \n",
       "131 7.4          2.8         6.1          1.9         virginica \n",
       "106 7.6          3.0         6.6          2.1         virginica \n",
       "118 7.7          3.8         6.7          2.2         virginica \n",
       "119 7.7          2.6         6.9          2.3         virginica \n",
       "123 7.7          2.8         6.7          2.0         virginica \n",
       "136 7.7          3.0         6.1          2.3         virginica \n",
       "132 7.9          3.8         6.4          2.0         virginica "
      ]
     },
     "metadata": {},
     "output_type": "display_data"
    }
   ],
   "source": [
    "#열 자리를 비워둠, 따라서 다른 열들도 다 나오면서 오름차순으로 정렬.\n",
    "iris[order(iris$Sepal.Length),]"
   ]
  },
  {
   "cell_type": "code",
   "execution_count": 91,
   "id": "laughing-assessment",
   "metadata": {},
   "outputs": [
    {
     "data": {
      "text/html": [
       "<ol class=list-inline>\n",
       "\t<li>1</li>\n",
       "\t<li>2</li>\n",
       "\t<li>3</li>\n",
       "</ol>\n"
      ],
      "text/latex": [
       "\\begin{enumerate*}\n",
       "\\item 1\n",
       "\\item 2\n",
       "\\item 3\n",
       "\\end{enumerate*}\n"
      ],
      "text/markdown": [
       "1. 1\n",
       "2. 2\n",
       "3. 3\n",
       "\n",
       "\n"
      ],
      "text/plain": [
       "[1] 1 2 3"
      ]
     },
     "metadata": {},
     "output_type": "display_data"
    }
   ],
   "source": [
    "#고유한 값 하나만 출력.\n",
    "x <- c(1,2,2,3,3)\n",
    "unique(x)"
   ]
  },
  {
   "cell_type": "code",
   "execution_count": 92,
   "id": "medium-philippines",
   "metadata": {},
   "outputs": [],
   "source": [
    "#삭제\n",
    "\n",
    "x <- 10\n",
    "y <- 20\n",
    "rm(list=ls())"
   ]
  },
  {
   "cell_type": "code",
   "execution_count": 93,
   "id": "nonprofit-success",
   "metadata": {},
   "outputs": [
    {
     "ename": "ERROR",
     "evalue": "Error in eval(expr, envir, enclos): 객체 'x'를 찾을 수 없습니다\n",
     "output_type": "error",
     "traceback": [
      "Error in eval(expr, envir, enclos): 객체 'x'를 찾을 수 없습니다\nTraceback:\n"
     ]
    }
   ],
   "source": [
    "x"
   ]
  },
  {
   "cell_type": "code",
   "execution_count": 94,
   "id": "disabled-pitch",
   "metadata": {},
   "outputs": [
    {
     "data": {
      "text/html": [
       "<table>\n",
       "<thead><tr><th scope=col>Species</th><th scope=col>Petal.Length</th></tr></thead>\n",
       "<tbody>\n",
       "\t<tr><td>setosa    </td><td>1.462     </td></tr>\n",
       "\t<tr><td>versicolor</td><td>4.260     </td></tr>\n",
       "\t<tr><td>virginica </td><td>5.552     </td></tr>\n",
       "</tbody>\n",
       "</table>\n"
      ],
      "text/latex": [
       "\\begin{tabular}{r|ll}\n",
       " Species & Petal.Length\\\\\n",
       "\\hline\n",
       "\t setosa     & 1.462     \\\\\n",
       "\t versicolor & 4.260     \\\\\n",
       "\t virginica  & 5.552     \\\\\n",
       "\\end{tabular}\n"
      ],
      "text/markdown": [
       "\n",
       "| Species | Petal.Length |\n",
       "|---|---|\n",
       "| setosa     | 1.462      |\n",
       "| versicolor | 4.260      |\n",
       "| virginica  | 5.552      |\n",
       "\n"
      ],
      "text/plain": [
       "  Species    Petal.Length\n",
       "1 setosa     1.462       \n",
       "2 versicolor 4.260       \n",
       "3 virginica  5.552       "
      ]
     },
     "metadata": {},
     "output_type": "display_data"
    }
   ],
   "source": [
    "#그룹으로 묶어서 계산, 여기선 mean으로 평균값을 출력함.\n",
    "\n",
    "aggregate(Petal.Length ~ Species, iris, mean)"
   ]
  },
  {
   "cell_type": "code",
   "execution_count": 97,
   "id": "elect-charm",
   "metadata": {},
   "outputs": [
    {
     "data": {
      "text/html": [
       "<table>\n",
       "<thead><tr><th scope=col>Species</th><th scope=col>Petal.Length</th><th scope=col>Sepal.Length</th></tr></thead>\n",
       "<tbody>\n",
       "\t<tr><td>setosa    </td><td>1.462     </td><td>5.006     </td></tr>\n",
       "\t<tr><td>versicolor</td><td>4.260     </td><td>5.936     </td></tr>\n",
       "\t<tr><td>virginica </td><td>5.552     </td><td>6.588     </td></tr>\n",
       "</tbody>\n",
       "</table>\n"
      ],
      "text/latex": [
       "\\begin{tabular}{r|lll}\n",
       " Species & Petal.Length & Sepal.Length\\\\\n",
       "\\hline\n",
       "\t setosa     & 1.462      & 5.006     \\\\\n",
       "\t versicolor & 4.260      & 5.936     \\\\\n",
       "\t virginica  & 5.552      & 6.588     \\\\\n",
       "\\end{tabular}\n"
      ],
      "text/markdown": [
       "\n",
       "| Species | Petal.Length | Sepal.Length |\n",
       "|---|---|---|\n",
       "| setosa     | 1.462      | 5.006      |\n",
       "| versicolor | 4.260      | 5.936      |\n",
       "| virginica  | 5.552      | 6.588      |\n",
       "\n"
      ],
      "text/plain": [
       "  Species    Petal.Length Sepal.Length\n",
       "1 setosa     1.462        5.006       \n",
       "2 versicolor 4.260        5.936       \n",
       "3 virginica  5.552        6.588       "
      ]
     },
     "metadata": {},
     "output_type": "display_data"
    }
   ],
   "source": [
    "aggregate(cbind(Petal.Length, Sepal.Length) ~ Species, iris, mean)"
   ]
  },
  {
   "cell_type": "code",
   "execution_count": null,
   "id": "crazy-zealand",
   "metadata": {},
   "outputs": [],
   "source": []
  }
 ],
 "metadata": {
  "kernelspec": {
   "display_name": "R",
   "language": "R",
   "name": "ir"
  },
  "language_info": {
   "codemirror_mode": "r",
   "file_extension": ".r",
   "mimetype": "text/x-r-source",
   "name": "R",
   "pygments_lexer": "r",
   "version": "3.6.1"
  }
 },
 "nbformat": 4,
 "nbformat_minor": 5
}
