{
  "nbformat": 4,
  "nbformat_minor": 0,
  "metadata": {
    "colab": {
      "name": " finedust.ipynb",
      "provenance": [],
      "collapsed_sections": []
    },
    "kernelspec": {
      "name": "ir",
      "display_name": "R"
    },
    "language_info": {
      "name": "R"
    }
  },
  "cells": [
    {
      "cell_type": "code",
      "metadata": {
        "colab": {
          "base_uri": "https://localhost:8080/"
        },
        "id": "c2P1B3klpy_6",
        "outputId": "3973a89c-4610-43dc-c377-2fcd2e24ced7"
      },
      "source": [
        "library(\"readxl\")\n",
        "library(\"dplyr\")"
      ],
      "execution_count": null,
      "outputs": [
        {
          "output_type": "stream",
          "text": [
            "\n",
            "Attaching package: ‘dplyr’\n",
            "\n",
            "\n",
            "The following objects are masked from ‘package:stats’:\n",
            "\n",
            "    filter, lag\n",
            "\n",
            "\n",
            "The following objects are masked from ‘package:base’:\n",
            "\n",
            "    intersect, setdiff, setequal, union\n",
            "\n",
            "\n"
          ],
          "name": "stderr"
        }
      ]
    },
    {
      "cell_type": "code",
      "metadata": {
        "id": "eEJdikUVp9Jd"
      },
      "source": [
        "dustdata <- read_excel(\"dustdata.xlsx\")"
      ],
      "execution_count": null,
      "outputs": []
    },
    {
      "cell_type": "code",
      "metadata": {
        "colab": {
          "base_uri": "https://localhost:8080/",
          "height": 271
        },
        "id": "vEpIhjkjqEJ2",
        "outputId": "81177063-6afb-4bc8-c7bb-4b85e5431143"
      },
      "source": [
        "head(dustdata)"
      ],
      "execution_count": null,
      "outputs": [
        {
          "output_type": "display_data",
          "data": {
            "text/plain": [
              "  yyyymmdd   area   finedust\n",
              "1 전체       평균   38      \n",
              "2 2017-12-31 평균   63      \n",
              "3 2017-12-31 종로구 54      \n",
              "4 2017-12-31 중구   53      \n",
              "5 2017-12-31 용산구 60      \n",
              "6 2017-12-31 성동구 62      "
            ],
            "text/latex": "A tibble: 6 × 3\n\\begin{tabular}{lll}\n yyyymmdd & area & finedust\\\\\n <chr> & <chr> & <dbl>\\\\\n\\hline\n\t 전체       & 평균   & 38\\\\\n\t 2017-12-31 & 평균   & 63\\\\\n\t 2017-12-31 & 종로구 & 54\\\\\n\t 2017-12-31 & 중구   & 53\\\\\n\t 2017-12-31 & 용산구 & 60\\\\\n\t 2017-12-31 & 성동구 & 62\\\\\n\\end{tabular}\n",
            "text/markdown": "\nA tibble: 6 × 3\n\n| yyyymmdd &lt;chr&gt; | area &lt;chr&gt; | finedust &lt;dbl&gt; |\n|---|---|---|\n| 전체       | 평균   | 38 |\n| 2017-12-31 | 평균   | 63 |\n| 2017-12-31 | 종로구 | 54 |\n| 2017-12-31 | 중구   | 53 |\n| 2017-12-31 | 용산구 | 60 |\n| 2017-12-31 | 성동구 | 62 |\n\n",
            "text/html": [
              "<table class=\"dataframe\">\n",
              "<caption>A tibble: 6 × 3</caption>\n",
              "<thead>\n",
              "\t<tr><th scope=col>yyyymmdd</th><th scope=col>area</th><th scope=col>finedust</th></tr>\n",
              "\t<tr><th scope=col>&lt;chr&gt;</th><th scope=col>&lt;chr&gt;</th><th scope=col>&lt;dbl&gt;</th></tr>\n",
              "</thead>\n",
              "<tbody>\n",
              "\t<tr><td>전체      </td><td>평균  </td><td>38</td></tr>\n",
              "\t<tr><td>2017-12-31</td><td>평균  </td><td>63</td></tr>\n",
              "\t<tr><td>2017-12-31</td><td>종로구</td><td>54</td></tr>\n",
              "\t<tr><td>2017-12-31</td><td>중구  </td><td>53</td></tr>\n",
              "\t<tr><td>2017-12-31</td><td>용산구</td><td>60</td></tr>\n",
              "\t<tr><td>2017-12-31</td><td>성동구</td><td>62</td></tr>\n",
              "</tbody>\n",
              "</table>\n"
            ]
          },
          "metadata": {
            "tags": []
          }
        }
      ]
    },
    {
      "cell_type": "code",
      "metadata": {
        "colab": {
          "base_uri": "https://localhost:8080/"
        },
        "id": "Qbhcw8IIqFxH",
        "outputId": "449b99dd-47b6-4ea6-b584-6ae20a12c1b5"
      },
      "source": [
        "str(dustdata)"
      ],
      "execution_count": null,
      "outputs": [
        {
          "output_type": "stream",
          "text": [
            "tibble [3,173 × 3] (S3: tbl_df/tbl/data.frame)\n",
            " $ yyyymmdd: chr [1:3173] \"전체\" \"2017-12-31\" \"2017-12-31\" \"2017-12-31\" ...\n",
            " $ area    : chr [1:3173] \"평균\" \"평균\" \"종로구\" \"중구\" ...\n",
            " $ finedust: num [1:3173] 38 63 54 53 60 62 63 69 67 60 ...\n"
          ],
          "name": "stdout"
        }
      ]
    },
    {
      "cell_type": "code",
      "metadata": {
        "colab": {
          "base_uri": "https://localhost:8080/",
          "height": 34
        },
        "id": "TNf7JwtKqLgX",
        "outputId": "7f6ca7e3-930b-4e69-dd22-1702af436e39"
      },
      "source": [
        "dim(dustdata)"
      ],
      "execution_count": null,
      "outputs": [
        {
          "output_type": "display_data",
          "data": {
            "text/plain": [
              "[1] 3173    3"
            ],
            "text/latex": "\\begin{enumerate*}\n\\item 3173\n\\item 3\n\\end{enumerate*}\n",
            "text/markdown": "1. 3173\n2. 3\n\n\n",
            "text/html": [
              "<style>\n",
              ".list-inline {list-style: none; margin:0; padding: 0}\n",
              ".list-inline>li {display: inline-block}\n",
              ".list-inline>li:not(:last-child)::after {content: \"\\00b7\"; padding: 0 .5ex}\n",
              "</style>\n",
              "<ol class=list-inline><li>3173</li><li>3</li></ol>\n"
            ]
          },
          "metadata": {
            "tags": []
          }
        }
      ]
    },
    {
      "cell_type": "code",
      "metadata": {
        "id": "6qy4qFqKqNWv"
      },
      "source": [
        "# 성북구와 중구 데이터만 추출\n",
        "dustdata_anal <- dustdata %>% filter(area %in% c(\"성북구\",\"중구\"))"
      ],
      "execution_count": null,
      "outputs": []
    },
    {
      "cell_type": "code",
      "metadata": {
        "id": "XLH_dT5rrJty",
        "colab": {
          "base_uri": "https://localhost:8080/",
          "height": 271
        },
        "outputId": "9b155871-dd1e-436a-e191-7ec58dc3f6e3"
      },
      "source": [
        "head(dustdata_anal)"
      ],
      "execution_count": null,
      "outputs": [
        {
          "output_type": "display_data",
          "data": {
            "text/plain": [
              "  yyyymmdd   area   finedust\n",
              "1 2017-12-31 중구    53     \n",
              "2 2017-12-31 성북구  60     \n",
              "3 2017-12-30 중구   112     \n",
              "4 2017-12-30 성북구 128     \n",
              "5 2017-12-29 중구    81     \n",
              "6 2017-12-29 성북구  95     "
            ],
            "text/latex": "A tibble: 6 × 3\n\\begin{tabular}{lll}\n yyyymmdd & area & finedust\\\\\n <chr> & <chr> & <dbl>\\\\\n\\hline\n\t 2017-12-31 & 중구   &  53\\\\\n\t 2017-12-31 & 성북구 &  60\\\\\n\t 2017-12-30 & 중구   & 112\\\\\n\t 2017-12-30 & 성북구 & 128\\\\\n\t 2017-12-29 & 중구   &  81\\\\\n\t 2017-12-29 & 성북구 &  95\\\\\n\\end{tabular}\n",
            "text/markdown": "\nA tibble: 6 × 3\n\n| yyyymmdd &lt;chr&gt; | area &lt;chr&gt; | finedust &lt;dbl&gt; |\n|---|---|---|\n| 2017-12-31 | 중구   |  53 |\n| 2017-12-31 | 성북구 |  60 |\n| 2017-12-30 | 중구   | 112 |\n| 2017-12-30 | 성북구 | 128 |\n| 2017-12-29 | 중구   |  81 |\n| 2017-12-29 | 성북구 |  95 |\n\n",
            "text/html": [
              "<table class=\"dataframe\">\n",
              "<caption>A tibble: 6 × 3</caption>\n",
              "<thead>\n",
              "\t<tr><th scope=col>yyyymmdd</th><th scope=col>area</th><th scope=col>finedust</th></tr>\n",
              "\t<tr><th scope=col>&lt;chr&gt;</th><th scope=col>&lt;chr&gt;</th><th scope=col>&lt;dbl&gt;</th></tr>\n",
              "</thead>\n",
              "<tbody>\n",
              "\t<tr><td>2017-12-31</td><td>중구  </td><td> 53</td></tr>\n",
              "\t<tr><td>2017-12-31</td><td>성북구</td><td> 60</td></tr>\n",
              "\t<tr><td>2017-12-30</td><td>중구  </td><td>112</td></tr>\n",
              "\t<tr><td>2017-12-30</td><td>성북구</td><td>128</td></tr>\n",
              "\t<tr><td>2017-12-29</td><td>중구  </td><td> 81</td></tr>\n",
              "\t<tr><td>2017-12-29</td><td>성북구</td><td> 95</td></tr>\n",
              "</tbody>\n",
              "</table>\n"
            ]
          },
          "metadata": {
            "tags": []
          }
        }
      ]
    },
    {
      "cell_type": "code",
      "metadata": {
        "id": "Nm6VujpyrNuV",
        "colab": {
          "base_uri": "https://localhost:8080/",
          "height": 153
        },
        "outputId": "2c6d142e-3128-40e9-d544-d40917b22411"
      },
      "source": [
        "#구체적인 데이터 현황 파악\n",
        "#데이터 날짜 확인 \n",
        "\n",
        "# count(dustdata_anal, yyyymmdd) %>% arrange(desc(n))  #모든 데이터가 2개 확인\n",
        "\n",
        "count(dustdata_anal , area)"
      ],
      "execution_count": null,
      "outputs": [
        {
          "output_type": "display_data",
          "data": {
            "text/plain": [
              "  area   n  \n",
              "1 성북구 122\n",
              "2 중구   122"
            ],
            "text/latex": "A tibble: 2 × 2\n\\begin{tabular}{ll}\n area & n\\\\\n <chr> & <int>\\\\\n\\hline\n\t 성북구 & 122\\\\\n\t 중구   & 122\\\\\n\\end{tabular}\n",
            "text/markdown": "\nA tibble: 2 × 2\n\n| area &lt;chr&gt; | n &lt;int&gt; |\n|---|---|\n| 성북구 | 122 |\n| 중구   | 122 |\n\n",
            "text/html": [
              "<table class=\"dataframe\">\n",
              "<caption>A tibble: 2 × 2</caption>\n",
              "<thead>\n",
              "\t<tr><th scope=col>area</th><th scope=col>n</th></tr>\n",
              "\t<tr><th scope=col>&lt;chr&gt;</th><th scope=col>&lt;int&gt;</th></tr>\n",
              "</thead>\n",
              "<tbody>\n",
              "\t<tr><td>성북구</td><td>122</td></tr>\n",
              "\t<tr><td>중구  </td><td>122</td></tr>\n",
              "</tbody>\n",
              "</table>\n"
            ]
          },
          "metadata": {
            "tags": []
          }
        }
      ]
    },
    {
      "cell_type": "code",
      "metadata": {
        "id": "lTzRYdJUsFSM"
      },
      "source": [
        "#성북구와 중구에 데이터를 각각 분리\n",
        "dust_sb <- subset(dustdata_anal, area == \"성북구\")\n",
        "dust_jg <- subset(dustdata_anal, area == \"중구\")\n",
        "\n",
        "#sub(데이터, 조건)\n",
        "#dust_sb <- dustdata_anal %>% filter(area==\"성북구\")\n",
        "#dust_jg <- dustdata_anal %>% filter(area==\"중구\")"
      ],
      "execution_count": null,
      "outputs": []
    },
    {
      "cell_type": "code",
      "metadata": {
        "id": "OEdwovw5tFJ7",
        "colab": {
          "base_uri": "https://localhost:8080/",
          "height": 1000
        },
        "outputId": "2a36866d-2a53-40d0-f2ab-b521a86c2fb6"
      },
      "source": [
        "dust_sb"
      ],
      "execution_count": null,
      "outputs": [
        {
          "output_type": "display_data",
          "data": {
            "text/plain": [
              "    yyyymmdd   area   finedust\n",
              "1   2017-12-31 성북구  60     \n",
              "2   2017-12-30 성북구 128     \n",
              "3   2017-12-29 성북구  95     \n",
              "4   2017-12-28 성북구  47     \n",
              "5   2017-12-27 성북구  27     \n",
              "6   2017-12-26 성북구  27     \n",
              "7   2017-12-25 성북구  29     \n",
              "8   2017-12-24 성북구  79     \n",
              "9   2017-12-23 성북구 116     \n",
              "10  2017-12-22 성북구  63     \n",
              "11  2017-12-21 성북구  53     \n",
              "12  2017-12-20 성북구  43     \n",
              "13  2017-12-19 성북구  46     \n",
              "14  2017-12-18 성북구  59     \n",
              "15  2017-12-17 성북구  39     \n",
              "16  2017-12-16 성북구  41     \n",
              "17  2017-12-15 성북구  95     \n",
              "18  2017-12-14 성북구  58     \n",
              "19  2017-12-13 성북구  38     \n",
              "20  2017-12-12 성북구  33     \n",
              "21  2017-12-11 성북구  55     \n",
              "22  2017-12-10 성북구  38     \n",
              "23  2017-12-09 성북구  43     \n",
              "24  2017-12-08 성북구  32     \n",
              "25  2017-12-07 성북구  45     \n",
              "26  2017-12-06 성북구  32     \n",
              "27  2017-12-05 성북구  23     \n",
              "28  2017-12-04 성북구  41     \n",
              "29  2017-12-03 성북구  54     \n",
              "30  2017-12-02 성북구  43     \n",
              "⋮   ⋮          ⋮      ⋮       \n",
              "93  2017-09-30 성북구 43      \n",
              "94  2017-09-29 성북구 26      \n",
              "95  2017-09-28 성북구 27      \n",
              "96  2017-09-27 성북구 47      \n",
              "97  2017-09-26 성북구 55      \n",
              "98  2017-09-25 성북구 53      \n",
              "99  2017-09-24 성북구 79      \n",
              "100 2017-09-23 성북구 69      \n",
              "101 2017-09-22 성북구 38      \n",
              "102 2017-09-21 성북구 33      \n",
              "103 2017-09-20 성북구 29      \n",
              "104 2017-09-19 성북구 75      \n",
              "105 2017-09-18 성북구 24      \n",
              "106 2017-09-17 성북구 12      \n",
              "107 2017-09-16 성북구 15      \n",
              "108 2017-09-15 성북구 22      \n",
              "109 2017-09-14 성북구 34      \n",
              "110 2017-09-13 성북구 28      \n",
              "111 2017-09-12 성북구 29      \n",
              "112 2017-09-11 성북구 26      \n",
              "113 2017-09-10 성북구 60      \n",
              "114 2017-09-09 성북구 60      \n",
              "115 2017-09-08 성북구 52      \n",
              "116 2017-09-07 성북구 44      \n",
              "117 2017-09-06 성북구 32      \n",
              "118 2017-09-05 성북구 32      \n",
              "119 2017-09-04 성북구 37      \n",
              "120 2017-09-03 성북구 36      \n",
              "121 2017-09-02 성북구 31      \n",
              "122 2017-09-01 성북구 30      "
            ],
            "text/latex": "A tibble: 122 × 3\n\\begin{tabular}{lll}\n yyyymmdd & area & finedust\\\\\n <chr> & <chr> & <dbl>\\\\\n\\hline\n\t 2017-12-31 & 성북구 &  60\\\\\n\t 2017-12-30 & 성북구 & 128\\\\\n\t 2017-12-29 & 성북구 &  95\\\\\n\t 2017-12-28 & 성북구 &  47\\\\\n\t 2017-12-27 & 성북구 &  27\\\\\n\t 2017-12-26 & 성북구 &  27\\\\\n\t 2017-12-25 & 성북구 &  29\\\\\n\t 2017-12-24 & 성북구 &  79\\\\\n\t 2017-12-23 & 성북구 & 116\\\\\n\t 2017-12-22 & 성북구 &  63\\\\\n\t 2017-12-21 & 성북구 &  53\\\\\n\t 2017-12-20 & 성북구 &  43\\\\\n\t 2017-12-19 & 성북구 &  46\\\\\n\t 2017-12-18 & 성북구 &  59\\\\\n\t 2017-12-17 & 성북구 &  39\\\\\n\t 2017-12-16 & 성북구 &  41\\\\\n\t 2017-12-15 & 성북구 &  95\\\\\n\t 2017-12-14 & 성북구 &  58\\\\\n\t 2017-12-13 & 성북구 &  38\\\\\n\t 2017-12-12 & 성북구 &  33\\\\\n\t 2017-12-11 & 성북구 &  55\\\\\n\t 2017-12-10 & 성북구 &  38\\\\\n\t 2017-12-09 & 성북구 &  43\\\\\n\t 2017-12-08 & 성북구 &  32\\\\\n\t 2017-12-07 & 성북구 &  45\\\\\n\t 2017-12-06 & 성북구 &  32\\\\\n\t 2017-12-05 & 성북구 &  23\\\\\n\t 2017-12-04 & 성북구 &  41\\\\\n\t 2017-12-03 & 성북구 &  54\\\\\n\t 2017-12-02 & 성북구 &  43\\\\\n\t ⋮ & ⋮ & ⋮\\\\\n\t 2017-09-30 & 성북구 & 43\\\\\n\t 2017-09-29 & 성북구 & 26\\\\\n\t 2017-09-28 & 성북구 & 27\\\\\n\t 2017-09-27 & 성북구 & 47\\\\\n\t 2017-09-26 & 성북구 & 55\\\\\n\t 2017-09-25 & 성북구 & 53\\\\\n\t 2017-09-24 & 성북구 & 79\\\\\n\t 2017-09-23 & 성북구 & 69\\\\\n\t 2017-09-22 & 성북구 & 38\\\\\n\t 2017-09-21 & 성북구 & 33\\\\\n\t 2017-09-20 & 성북구 & 29\\\\\n\t 2017-09-19 & 성북구 & 75\\\\\n\t 2017-09-18 & 성북구 & 24\\\\\n\t 2017-09-17 & 성북구 & 12\\\\\n\t 2017-09-16 & 성북구 & 15\\\\\n\t 2017-09-15 & 성북구 & 22\\\\\n\t 2017-09-14 & 성북구 & 34\\\\\n\t 2017-09-13 & 성북구 & 28\\\\\n\t 2017-09-12 & 성북구 & 29\\\\\n\t 2017-09-11 & 성북구 & 26\\\\\n\t 2017-09-10 & 성북구 & 60\\\\\n\t 2017-09-09 & 성북구 & 60\\\\\n\t 2017-09-08 & 성북구 & 52\\\\\n\t 2017-09-07 & 성북구 & 44\\\\\n\t 2017-09-06 & 성북구 & 32\\\\\n\t 2017-09-05 & 성북구 & 32\\\\\n\t 2017-09-04 & 성북구 & 37\\\\\n\t 2017-09-03 & 성북구 & 36\\\\\n\t 2017-09-02 & 성북구 & 31\\\\\n\t 2017-09-01 & 성북구 & 30\\\\\n\\end{tabular}\n",
            "text/markdown": "\nA tibble: 122 × 3\n\n| yyyymmdd &lt;chr&gt; | area &lt;chr&gt; | finedust &lt;dbl&gt; |\n|---|---|---|\n| 2017-12-31 | 성북구 |  60 |\n| 2017-12-30 | 성북구 | 128 |\n| 2017-12-29 | 성북구 |  95 |\n| 2017-12-28 | 성북구 |  47 |\n| 2017-12-27 | 성북구 |  27 |\n| 2017-12-26 | 성북구 |  27 |\n| 2017-12-25 | 성북구 |  29 |\n| 2017-12-24 | 성북구 |  79 |\n| 2017-12-23 | 성북구 | 116 |\n| 2017-12-22 | 성북구 |  63 |\n| 2017-12-21 | 성북구 |  53 |\n| 2017-12-20 | 성북구 |  43 |\n| 2017-12-19 | 성북구 |  46 |\n| 2017-12-18 | 성북구 |  59 |\n| 2017-12-17 | 성북구 |  39 |\n| 2017-12-16 | 성북구 |  41 |\n| 2017-12-15 | 성북구 |  95 |\n| 2017-12-14 | 성북구 |  58 |\n| 2017-12-13 | 성북구 |  38 |\n| 2017-12-12 | 성북구 |  33 |\n| 2017-12-11 | 성북구 |  55 |\n| 2017-12-10 | 성북구 |  38 |\n| 2017-12-09 | 성북구 |  43 |\n| 2017-12-08 | 성북구 |  32 |\n| 2017-12-07 | 성북구 |  45 |\n| 2017-12-06 | 성북구 |  32 |\n| 2017-12-05 | 성북구 |  23 |\n| 2017-12-04 | 성북구 |  41 |\n| 2017-12-03 | 성북구 |  54 |\n| 2017-12-02 | 성북구 |  43 |\n| ⋮ | ⋮ | ⋮ |\n| 2017-09-30 | 성북구 | 43 |\n| 2017-09-29 | 성북구 | 26 |\n| 2017-09-28 | 성북구 | 27 |\n| 2017-09-27 | 성북구 | 47 |\n| 2017-09-26 | 성북구 | 55 |\n| 2017-09-25 | 성북구 | 53 |\n| 2017-09-24 | 성북구 | 79 |\n| 2017-09-23 | 성북구 | 69 |\n| 2017-09-22 | 성북구 | 38 |\n| 2017-09-21 | 성북구 | 33 |\n| 2017-09-20 | 성북구 | 29 |\n| 2017-09-19 | 성북구 | 75 |\n| 2017-09-18 | 성북구 | 24 |\n| 2017-09-17 | 성북구 | 12 |\n| 2017-09-16 | 성북구 | 15 |\n| 2017-09-15 | 성북구 | 22 |\n| 2017-09-14 | 성북구 | 34 |\n| 2017-09-13 | 성북구 | 28 |\n| 2017-09-12 | 성북구 | 29 |\n| 2017-09-11 | 성북구 | 26 |\n| 2017-09-10 | 성북구 | 60 |\n| 2017-09-09 | 성북구 | 60 |\n| 2017-09-08 | 성북구 | 52 |\n| 2017-09-07 | 성북구 | 44 |\n| 2017-09-06 | 성북구 | 32 |\n| 2017-09-05 | 성북구 | 32 |\n| 2017-09-04 | 성북구 | 37 |\n| 2017-09-03 | 성북구 | 36 |\n| 2017-09-02 | 성북구 | 31 |\n| 2017-09-01 | 성북구 | 30 |\n\n",
            "text/html": [
              "<table class=\"dataframe\">\n",
              "<caption>A tibble: 122 × 3</caption>\n",
              "<thead>\n",
              "\t<tr><th scope=col>yyyymmdd</th><th scope=col>area</th><th scope=col>finedust</th></tr>\n",
              "\t<tr><th scope=col>&lt;chr&gt;</th><th scope=col>&lt;chr&gt;</th><th scope=col>&lt;dbl&gt;</th></tr>\n",
              "</thead>\n",
              "<tbody>\n",
              "\t<tr><td>2017-12-31</td><td>성북구</td><td> 60</td></tr>\n",
              "\t<tr><td>2017-12-30</td><td>성북구</td><td>128</td></tr>\n",
              "\t<tr><td>2017-12-29</td><td>성북구</td><td> 95</td></tr>\n",
              "\t<tr><td>2017-12-28</td><td>성북구</td><td> 47</td></tr>\n",
              "\t<tr><td>2017-12-27</td><td>성북구</td><td> 27</td></tr>\n",
              "\t<tr><td>2017-12-26</td><td>성북구</td><td> 27</td></tr>\n",
              "\t<tr><td>2017-12-25</td><td>성북구</td><td> 29</td></tr>\n",
              "\t<tr><td>2017-12-24</td><td>성북구</td><td> 79</td></tr>\n",
              "\t<tr><td>2017-12-23</td><td>성북구</td><td>116</td></tr>\n",
              "\t<tr><td>2017-12-22</td><td>성북구</td><td> 63</td></tr>\n",
              "\t<tr><td>2017-12-21</td><td>성북구</td><td> 53</td></tr>\n",
              "\t<tr><td>2017-12-20</td><td>성북구</td><td> 43</td></tr>\n",
              "\t<tr><td>2017-12-19</td><td>성북구</td><td> 46</td></tr>\n",
              "\t<tr><td>2017-12-18</td><td>성북구</td><td> 59</td></tr>\n",
              "\t<tr><td>2017-12-17</td><td>성북구</td><td> 39</td></tr>\n",
              "\t<tr><td>2017-12-16</td><td>성북구</td><td> 41</td></tr>\n",
              "\t<tr><td>2017-12-15</td><td>성북구</td><td> 95</td></tr>\n",
              "\t<tr><td>2017-12-14</td><td>성북구</td><td> 58</td></tr>\n",
              "\t<tr><td>2017-12-13</td><td>성북구</td><td> 38</td></tr>\n",
              "\t<tr><td>2017-12-12</td><td>성북구</td><td> 33</td></tr>\n",
              "\t<tr><td>2017-12-11</td><td>성북구</td><td> 55</td></tr>\n",
              "\t<tr><td>2017-12-10</td><td>성북구</td><td> 38</td></tr>\n",
              "\t<tr><td>2017-12-09</td><td>성북구</td><td> 43</td></tr>\n",
              "\t<tr><td>2017-12-08</td><td>성북구</td><td> 32</td></tr>\n",
              "\t<tr><td>2017-12-07</td><td>성북구</td><td> 45</td></tr>\n",
              "\t<tr><td>2017-12-06</td><td>성북구</td><td> 32</td></tr>\n",
              "\t<tr><td>2017-12-05</td><td>성북구</td><td> 23</td></tr>\n",
              "\t<tr><td>2017-12-04</td><td>성북구</td><td> 41</td></tr>\n",
              "\t<tr><td>2017-12-03</td><td>성북구</td><td> 54</td></tr>\n",
              "\t<tr><td>2017-12-02</td><td>성북구</td><td> 43</td></tr>\n",
              "\t<tr><td>⋮</td><td>⋮</td><td>⋮</td></tr>\n",
              "\t<tr><td>2017-09-30</td><td>성북구</td><td>43</td></tr>\n",
              "\t<tr><td>2017-09-29</td><td>성북구</td><td>26</td></tr>\n",
              "\t<tr><td>2017-09-28</td><td>성북구</td><td>27</td></tr>\n",
              "\t<tr><td>2017-09-27</td><td>성북구</td><td>47</td></tr>\n",
              "\t<tr><td>2017-09-26</td><td>성북구</td><td>55</td></tr>\n",
              "\t<tr><td>2017-09-25</td><td>성북구</td><td>53</td></tr>\n",
              "\t<tr><td>2017-09-24</td><td>성북구</td><td>79</td></tr>\n",
              "\t<tr><td>2017-09-23</td><td>성북구</td><td>69</td></tr>\n",
              "\t<tr><td>2017-09-22</td><td>성북구</td><td>38</td></tr>\n",
              "\t<tr><td>2017-09-21</td><td>성북구</td><td>33</td></tr>\n",
              "\t<tr><td>2017-09-20</td><td>성북구</td><td>29</td></tr>\n",
              "\t<tr><td>2017-09-19</td><td>성북구</td><td>75</td></tr>\n",
              "\t<tr><td>2017-09-18</td><td>성북구</td><td>24</td></tr>\n",
              "\t<tr><td>2017-09-17</td><td>성북구</td><td>12</td></tr>\n",
              "\t<tr><td>2017-09-16</td><td>성북구</td><td>15</td></tr>\n",
              "\t<tr><td>2017-09-15</td><td>성북구</td><td>22</td></tr>\n",
              "\t<tr><td>2017-09-14</td><td>성북구</td><td>34</td></tr>\n",
              "\t<tr><td>2017-09-13</td><td>성북구</td><td>28</td></tr>\n",
              "\t<tr><td>2017-09-12</td><td>성북구</td><td>29</td></tr>\n",
              "\t<tr><td>2017-09-11</td><td>성북구</td><td>26</td></tr>\n",
              "\t<tr><td>2017-09-10</td><td>성북구</td><td>60</td></tr>\n",
              "\t<tr><td>2017-09-09</td><td>성북구</td><td>60</td></tr>\n",
              "\t<tr><td>2017-09-08</td><td>성북구</td><td>52</td></tr>\n",
              "\t<tr><td>2017-09-07</td><td>성북구</td><td>44</td></tr>\n",
              "\t<tr><td>2017-09-06</td><td>성북구</td><td>32</td></tr>\n",
              "\t<tr><td>2017-09-05</td><td>성북구</td><td>32</td></tr>\n",
              "\t<tr><td>2017-09-04</td><td>성북구</td><td>37</td></tr>\n",
              "\t<tr><td>2017-09-03</td><td>성북구</td><td>36</td></tr>\n",
              "\t<tr><td>2017-09-02</td><td>성북구</td><td>31</td></tr>\n",
              "\t<tr><td>2017-09-01</td><td>성북구</td><td>30</td></tr>\n",
              "</tbody>\n",
              "</table>\n"
            ]
          },
          "metadata": {
            "tags": []
          }
        }
      ]
    },
    {
      "cell_type": "code",
      "metadata": {
        "id": "0OtjpQZCtIyb"
      },
      "source": [
        "# install.packages(\"psych\")\n",
        "library(psych)"
      ],
      "execution_count": null,
      "outputs": []
    },
    {
      "cell_type": "code",
      "metadata": {
        "id": "Jv4q8SZLuNJ3",
        "colab": {
          "base_uri": "https://localhost:8080/",
          "height": 123
        },
        "outputId": "e91a390e-6906-487d-97ec-087c8e0d93d9"
      },
      "source": [
        "describe(dust_sb$finedust)"
      ],
      "execution_count": null,
      "outputs": [
        {
          "output_type": "display_data",
          "data": {
            "text/plain": [
              "   vars n   mean    sd       median trimmed  mad     min max range skew    \n",
              "X1 1    122 42.7459 20.13736 39.5   40.33673 17.0499 9   128 119   1.405036\n",
              "   kurtosis se      \n",
              "X1 2.932981 1.823151"
            ],
            "text/latex": "A psych: 1 × 13\n\\begin{tabular}{r|lllllllllllll}\n  & vars & n & mean & sd & median & trimmed & mad & min & max & range & skew & kurtosis & se\\\\\n  & <dbl> & <dbl> & <dbl> & <dbl> & <dbl> & <dbl> & <dbl> & <dbl> & <dbl> & <dbl> & <dbl> & <dbl> & <dbl>\\\\\n\\hline\n\tX1 & 1 & 122 & 42.7459 & 20.13736 & 39.5 & 40.33673 & 17.0499 & 9 & 128 & 119 & 1.405036 & 2.932981 & 1.823151\\\\\n\\end{tabular}\n",
            "text/markdown": "\nA psych: 1 × 13\n\n| <!--/--> | vars &lt;dbl&gt; | n &lt;dbl&gt; | mean &lt;dbl&gt; | sd &lt;dbl&gt; | median &lt;dbl&gt; | trimmed &lt;dbl&gt; | mad &lt;dbl&gt; | min &lt;dbl&gt; | max &lt;dbl&gt; | range &lt;dbl&gt; | skew &lt;dbl&gt; | kurtosis &lt;dbl&gt; | se &lt;dbl&gt; |\n|---|---|---|---|---|---|---|---|---|---|---|---|---|---|\n| X1 | 1 | 122 | 42.7459 | 20.13736 | 39.5 | 40.33673 | 17.0499 | 9 | 128 | 119 | 1.405036 | 2.932981 | 1.823151 |\n\n",
            "text/html": [
              "<table class=\"dataframe\">\n",
              "<caption>A psych: 1 × 13</caption>\n",
              "<thead>\n",
              "\t<tr><th></th><th scope=col>vars</th><th scope=col>n</th><th scope=col>mean</th><th scope=col>sd</th><th scope=col>median</th><th scope=col>trimmed</th><th scope=col>mad</th><th scope=col>min</th><th scope=col>max</th><th scope=col>range</th><th scope=col>skew</th><th scope=col>kurtosis</th><th scope=col>se</th></tr>\n",
              "\t<tr><th></th><th scope=col>&lt;dbl&gt;</th><th scope=col>&lt;dbl&gt;</th><th scope=col>&lt;dbl&gt;</th><th scope=col>&lt;dbl&gt;</th><th scope=col>&lt;dbl&gt;</th><th scope=col>&lt;dbl&gt;</th><th scope=col>&lt;dbl&gt;</th><th scope=col>&lt;dbl&gt;</th><th scope=col>&lt;dbl&gt;</th><th scope=col>&lt;dbl&gt;</th><th scope=col>&lt;dbl&gt;</th><th scope=col>&lt;dbl&gt;</th><th scope=col>&lt;dbl&gt;</th></tr>\n",
              "</thead>\n",
              "<tbody>\n",
              "\t<tr><th scope=row>X1</th><td>1</td><td>122</td><td>42.7459</td><td>20.13736</td><td>39.5</td><td>40.33673</td><td>17.0499</td><td>9</td><td>128</td><td>119</td><td>1.405036</td><td>2.932981</td><td>1.823151</td></tr>\n",
              "</tbody>\n",
              "</table>\n"
            ]
          },
          "metadata": {
            "tags": []
          }
        }
      ]
    },
    {
      "cell_type": "code",
      "metadata": {
        "id": "rD8QsrSuudlN",
        "colab": {
          "base_uri": "https://localhost:8080/",
          "height": 437
        },
        "outputId": "e8234e06-33ae-4292-b3a2-eee77689c606"
      },
      "source": [
        "#성북구와 중구의 미세먼지 분포확인\n",
        "boxplot(dust_sb$finedust, dust_jg$finedust, main = \"finedust_compare\", xlab=\"AREA\", names=c(\"SB\",\"JG\"),ylab=\"FINEDUST\", col=c(\"blue\",\"green\"))\n"
      ],
      "execution_count": null,
      "outputs": [
        {
          "output_type": "display_data",
          "data": {
            "image/png": "[encoded data removed]",
            "text/plain": [
              "Plot with title “finedust_compare”"
            ]
          },
          "metadata": {
            "tags": [],
            "image/png": {
              "width": 420,
              "height": 420
            }
          }
        }
      ]
    },
    {
      "cell_type": "code",
      "metadata": {
        "id": "ctuxz-lWvfeb",
        "colab": {
          "base_uri": "https://localhost:8080/",
          "height": 210
        },
        "outputId": "bfc73320-513e-40f6-a5bc-c97a0dbb3b62"
      },
      "source": [
        "t.test(data=dustdata_anal, finedust ~ area, var.qual = T)\n"
      ],
      "execution_count": null,
      "outputs": [
        {
          "output_type": "display_data",
          "data": {
            "text/plain": [
              "\n",
              "\tWelch Two Sample t-test\n",
              "\n",
              "data:  finedust by area\n",
              "t = 2.8347, df = 237.15, p-value = 0.004983\n",
              "alternative hypothesis: true difference in means is not equal to 0\n",
              "95 percent confidence interval:\n",
              "  2.085169 11.586962\n",
              "sample estimates:\n",
              "mean in group 성북구   mean in group 중구 \n",
              "            42.74590             35.90984 \n"
            ]
          },
          "metadata": {
            "tags": []
          }
        }
      ]
    },
    {
      "cell_type": "code",
      "metadata": {
        "id": "UvCCu7bzw6fQ"
      },
      "source": [
        "# p-value = 0.004983으로 0.05보다 작다. 따라서 귀무가설 (성북구와 중구의 미세먼지 평균은 차이가 나지 않는다) 를 기각한다.\n",
        "# ...차이가 있다는 대립가설을 채택한다."
      ],
      "execution_count": null,
      "outputs": []
    }
  ]
}