{
  "nbformat": 4,
  "nbformat_minor": 0,
  "metadata": {
    "colab": {
      "name": "chicken.ipynb",
      "provenance": [],
      "collapsed_sections": []
    },
    "kernelspec": {
      "name": "ir",
      "display_name": "R"
    },
    "language_info": {
      "name": "R"
    }
  },
  "cells": [
    {
      "cell_type": "code",
      "metadata": {
        "colab": {
          "base_uri": "https://localhost:8080/",
          "height": 191
        },
        "id": "mPgrJPZFhAI2",
        "outputId": "c00cf0d1-bdff-4d4a-f74a-e765facdd628"
      },
      "source": [
        "Sys.setlocale(\"LC_COLLATE\", \"ko_KR.UTF-8\");\n",
        "#한글이 깨지는 현상을 방지하기 위해서 showtext 라는 패키지를 이용하여 한글 글꼴을 추가한다.\n",
        "install.packages('showtext', repos='http://cran.rstudio.com/')\n",
        "\n",
        "#패키지를 올리고(?)\n",
        "library(showtext)\n",
        "\n",
        "#바로 이렇게 구글폰트를 다운 받습니다.\n",
        "font_add_google('Noto Sans KR', 'notosanskr')\n",
        "\n",
        "# 다운 받을 폰트 이름 : Noto Sans KR, 내가 사용할 이름 : notosanskr\n",
        "\n",
        "font_add_google('Gugi', 'gugi')\n",
        "\n",
        "showtext_auto()\n"
      ],
      "execution_count": null,
      "outputs": [
        {
          "output_type": "stream",
          "text": [
            "Warning message in Sys.setlocale(\"LC_COLLATE\", \"ko_KR.UTF-8\"):\n",
            "“OS reports request to set locale to \"ko_KR.UTF-8\" cannot be honored”\n"
          ],
          "name": "stderr"
        },
        {
          "output_type": "display_data",
          "data": {
            "text/plain": [
              "[1] \"\""
            ],
            "text/latex": "''",
            "text/markdown": "''",
            "text/html": [
              "''"
            ]
          },
          "metadata": {
            "tags": []
          }
        },
        {
          "output_type": "stream",
          "text": [
            "Installing package into ‘/usr/local/lib/R/site-library’\n",
            "(as ‘lib’ is unspecified)\n",
            "\n",
            "Loading required package: sysfonts\n",
            "\n",
            "Loading required package: showtextdb\n",
            "\n"
          ],
          "name": "stderr"
        }
      ]
    },
    {
      "cell_type": "code",
      "metadata": {
        "id": "C0IAuOwLXnAo"
      },
      "source": [
        "# 치킨집이 가장 많은 지역 찾기  \n",
        "# 그림의 크기로 많은 지역을 표현\n",
        "# 치킨집 데이터 구하기 \n",
        "# www.localdata.kr"
      ],
      "execution_count": null,
      "outputs": []
    },
    {
      "cell_type": "code",
      "metadata": {
        "id": "9dY9FYr4YKZi"
      },
      "source": [
        "# 데이터 읽어오기\n",
        "library(\"readxl\")"
      ],
      "execution_count": null,
      "outputs": []
    },
    {
      "cell_type": "code",
      "metadata": {
        "id": "5o7dNSpnYNXY"
      },
      "source": [
        "#파일 읽어와서 ck변수에 저장\n",
        "ck  <- read_excel(\"치킨집_가공.xlsx\")"
      ],
      "execution_count": null,
      "outputs": []
    },
    {
      "cell_type": "code",
      "metadata": {
        "colab": {
          "base_uri": "https://localhost:8080/",
          "height": 283
        },
        "id": "O4lxHE-0YPe4",
        "outputId": "5de2e0dc-8e43-4e27-e0e9-0334fca06457"
      },
      "source": [
        "head(ck)"
      ],
      "execution_count": null,
      "outputs": [
        {
          "output_type": "display_data",
          "data": {
            "text/plain": [
              "  소재지전체주소                                              \n",
              "1 서울특별시 서대문구 창천동 52-20번지 2층                    \n",
              "2 서울특별시 서대문구 창천동 53-83번지 (지상1층)              \n",
              "3 서울특별시 서대문구 창천동 53-3번지 2층                     \n",
              "4 서울특별시 서대문구 남가좌동 377번지 삼성아파트 상가동 101호\n",
              "5 서울특별시 서대문구 연희동 134-28번지 지하1층               \n",
              "6 서울특별시 서대문구 창천동 62-53번지 1층 일부               \n",
              "  사업장명            \n",
              "1 쪼리375             \n",
              "2 고향                \n",
              "3 찬수씨, 싼술을부탁해\n",
              "4 케리홈치킨          \n",
              "5 연희38애비뉴        \n",
              "6 닭꼬치야            "
            ],
            "text/latex": "A tibble: 6 × 2\n\\begin{tabular}{ll}\n 소재지전체주소 & 사업장명\\\\\n <chr> & <chr>\\\\\n\\hline\n\t 서울특별시 서대문구 창천동 52-20번지 2층                     & 쪼리375             \\\\\n\t 서울특별시 서대문구 창천동 53-83번지 (지상1층)               & 고향                \\\\\n\t 서울특별시 서대문구 창천동 53-3번지 2층                      & 찬수씨, 싼술을부탁해\\\\\n\t 서울특별시 서대문구 남가좌동 377번지 삼성아파트 상가동 101호 & 케리홈치킨          \\\\\n\t 서울특별시 서대문구 연희동 134-28번지 지하1층                & 연희38애비뉴        \\\\\n\t 서울특별시 서대문구 창천동 62-53번지 1층 일부                & 닭꼬치야            \\\\\n\\end{tabular}\n",
            "text/markdown": "\nA tibble: 6 × 2\n\n| 소재지전체주소 &lt;chr&gt; | 사업장명 &lt;chr&gt; |\n|---|---|\n| 서울특별시 서대문구 창천동 52-20번지 2층                     | 쪼리375              |\n| 서울특별시 서대문구 창천동 53-83번지 (지상1층)               | 고향                 |\n| 서울특별시 서대문구 창천동 53-3번지 2층                      | 찬수씨, 싼술을부탁해 |\n| 서울특별시 서대문구 남가좌동 377번지 삼성아파트 상가동 101호 | 케리홈치킨           |\n| 서울특별시 서대문구 연희동 134-28번지 지하1층                | 연희38애비뉴         |\n| 서울특별시 서대문구 창천동 62-53번지 1층 일부                | 닭꼬치야             |\n\n",
            "text/html": [
              "<table class=\"dataframe\">\n",
              "<caption>A tibble: 6 × 2</caption>\n",
              "<thead>\n",
              "\t<tr><th scope=col>소재지전체주소</th><th scope=col>사업장명</th></tr>\n",
              "\t<tr><th scope=col>&lt;chr&gt;</th><th scope=col>&lt;chr&gt;</th></tr>\n",
              "</thead>\n",
              "<tbody>\n",
              "\t<tr><td>서울특별시 서대문구 창천동 52-20번지 2층                    </td><td>쪼리375             </td></tr>\n",
              "\t<tr><td>서울특별시 서대문구 창천동 53-83번지 (지상1층)              </td><td>고향                </td></tr>\n",
              "\t<tr><td>서울특별시 서대문구 창천동 53-3번지 2층                     </td><td>찬수씨, 싼술을부탁해</td></tr>\n",
              "\t<tr><td>서울특별시 서대문구 남가좌동 377번지 삼성아파트 상가동 101호</td><td>케리홈치킨          </td></tr>\n",
              "\t<tr><td>서울특별시 서대문구 연희동 134-28번지 지하1층               </td><td>연희38애비뉴        </td></tr>\n",
              "\t<tr><td>서울특별시 서대문구 창천동 62-53번지 1층 일부               </td><td>닭꼬치야            </td></tr>\n",
              "</tbody>\n",
              "</table>\n"
            ]
          },
          "metadata": {
            "tags": []
          }
        }
      ]
    },
    {
      "cell_type": "code",
      "metadata": {
        "id": "fWByn_cIYQzY"
      },
      "source": [
        "# 동별로 추출하여 상세 주소는 제거 substr()를 사용하여 동까지만 남기고 나머지 삭제\n",
        "addr <- substr(ck$`소재지전체주소`,11,16)  # substr(데이터, 시작, 끝)"
      ],
      "execution_count": null,
      "outputs": []
    },
    {
      "cell_type": "code",
      "metadata": {
        "colab": {
          "base_uri": "https://localhost:8080/",
          "height": 34
        },
        "id": "182QxINib9av",
        "outputId": "7ec32b65-5281-4ae8-b0cd-358267ffaf0d"
      },
      "source": [
        "head(addr)"
      ],
      "execution_count": null,
      "outputs": [
        {
          "output_type": "display_data",
          "data": {
            "text/plain": [
              "[1] \" 창천동 5\"  \" 창천동 5\"  \" 창천동 5\"  \" 남가좌동 \" \" 연희동 1\" \n",
              "[6] \" 창천동 6\" "
            ],
            "text/latex": "\\begin{enumerate*}\n\\item ' 창천동 5'\n\\item ' 창천동 5'\n\\item ' 창천동 5'\n\\item ' 남가좌동 '\n\\item ' 연희동 1'\n\\item ' 창천동 6'\n\\end{enumerate*}\n",
            "text/markdown": "1. ' 창천동 5'\n2. ' 창천동 5'\n3. ' 창천동 5'\n4. ' 남가좌동 '\n5. ' 연희동 1'\n6. ' 창천동 6'\n\n\n",
            "text/html": [
              "<style>\n",
              ".list-inline {list-style: none; margin:0; padding: 0}\n",
              ".list-inline>li {display: inline-block}\n",
              ".list-inline>li:not(:last-child)::after {content: \"\\00b7\"; padding: 0 .5ex}\n",
              "</style>\n",
              "<ol class=list-inline><li>' 창천동 5'</li><li>' 창천동 5'</li><li>' 창천동 5'</li><li>' 남가좌동 '</li><li>' 연희동 1'</li><li>' 창천동 6'</li></ol>\n"
            ]
          },
          "metadata": {
            "tags": []
          }
        }
      ]
    },
    {
      "cell_type": "code",
      "metadata": {
        "id": "8P_DBKEib_d5"
      },
      "source": [
        "# 숫자 모두 삭제.\n",
        "# gsub() 함수를 사용하여 제거 \n",
        "\n",
        "addr_num <- gsub(\"[0-9]\",\"\", addr)  #gsub(찾을값, 바꿀값, 어디에)"
      ],
      "execution_count": null,
      "outputs": []
    },
    {
      "cell_type": "code",
      "metadata": {
        "colab": {
          "base_uri": "https://localhost:8080/",
          "height": 34
        },
        "id": "Qt1OBacec_lh",
        "outputId": "c4523ed6-83b2-4f27-9b97-fe81fae735f6"
      },
      "source": [
        "head(addr_num)"
      ],
      "execution_count": null,
      "outputs": [
        {
          "output_type": "display_data",
          "data": {
            "text/plain": [
              "[1] \" 창천동 \"   \" 창천동 \"   \" 창천동 \"   \" 남가좌동 \" \" 연희동 \"  \n",
              "[6] \" 창천동 \"  "
            ],
            "text/latex": "\\begin{enumerate*}\n\\item ' 창천동 '\n\\item ' 창천동 '\n\\item ' 창천동 '\n\\item ' 남가좌동 '\n\\item ' 연희동 '\n\\item ' 창천동 '\n\\end{enumerate*}\n",
            "text/markdown": "1. ' 창천동 '\n2. ' 창천동 '\n3. ' 창천동 '\n4. ' 남가좌동 '\n5. ' 연희동 '\n6. ' 창천동 '\n\n\n",
            "text/html": [
              "<style>\n",
              ".list-inline {list-style: none; margin:0; padding: 0}\n",
              ".list-inline>li {display: inline-block}\n",
              ".list-inline>li:not(:last-child)::after {content: \"\\00b7\"; padding: 0 .5ex}\n",
              "</style>\n",
              "<ol class=list-inline><li>' 창천동 '</li><li>' 창천동 '</li><li>' 창천동 '</li><li>' 남가좌동 '</li><li>' 연희동 '</li><li>' 창천동 '</li></ol>\n"
            ]
          },
          "metadata": {
            "tags": []
          }
        }
      ]
    },
    {
      "cell_type": "code",
      "metadata": {
        "id": "FWNDYva3dCwB"
      },
      "source": [
        "# 여백 모두 삭제\n",
        "# gsub() 함수를 사용하여 제거 \n",
        "addr_trim <- gsub(\" \",\"\",addr_num)"
      ],
      "execution_count": null,
      "outputs": []
    },
    {
      "cell_type": "code",
      "metadata": {
        "colab": {
          "base_uri": "https://localhost:8080/",
          "height": 34
        },
        "id": "Up6_o-e0dgqP",
        "outputId": "ccd57c7f-0238-43d4-d3d8-1763396e78cc"
      },
      "source": [
        "head(addr_trim)"
      ],
      "execution_count": null,
      "outputs": [
        {
          "output_type": "display_data",
          "data": {
            "text/plain": [
              "[1] \"창천동\"   \"창천동\"   \"창천동\"   \"남가좌동\" \"연희동\"   \"창천동\"  "
            ],
            "text/latex": "\\begin{enumerate*}\n\\item '창천동'\n\\item '창천동'\n\\item '창천동'\n\\item '남가좌동'\n\\item '연희동'\n\\item '창천동'\n\\end{enumerate*}\n",
            "text/markdown": "1. '창천동'\n2. '창천동'\n3. '창천동'\n4. '남가좌동'\n5. '연희동'\n6. '창천동'\n\n\n",
            "text/html": [
              "<style>\n",
              ".list-inline {list-style: none; margin:0; padding: 0}\n",
              ".list-inline>li {display: inline-block}\n",
              ".list-inline>li:not(:last-child)::after {content: \"\\00b7\"; padding: 0 .5ex}\n",
              "</style>\n",
              "<ol class=list-inline><li>'창천동'</li><li>'창천동'</li><li>'창천동'</li><li>'남가좌동'</li><li>'연희동'</li><li>'창천동'</li></ol>\n"
            ]
          },
          "metadata": {
            "tags": []
          }
        }
      ]
    },
    {
      "cell_type": "code",
      "metadata": {
        "colab": {
          "base_uri": "https://localhost:8080/"
        },
        "id": "ZdI1cOuJdiqq",
        "outputId": "c1b84872-580c-45eb-8237-b6a3d32ddb48"
      },
      "source": [
        "# 동별 업소 개수 확인하기 \n",
        "# 변수의 개수 확인을 위해 table()함수 사용\n",
        "library(dplyr)\n",
        "addr_count <- addr_trim %>% table() %>% data.frame()"
      ],
      "execution_count": null,
      "outputs": [
        {
          "output_type": "stream",
          "text": [
            "\n",
            "Attaching package: ‘dplyr’\n",
            "\n",
            "\n",
            "The following objects are masked from ‘package:stats’:\n",
            "\n",
            "    filter, lag\n",
            "\n",
            "\n",
            "The following objects are masked from ‘package:base’:\n",
            "\n",
            "    intersect, setdiff, setequal, union\n",
            "\n",
            "\n"
          ],
          "name": "stderr"
        }
      ]
    },
    {
      "cell_type": "code",
      "metadata": {
        "colab": {
          "base_uri": "https://localhost:8080/",
          "height": 283
        },
        "id": "HVJcfxFIeApi",
        "outputId": "89231593-cdf6-443a-c2ae-150ae0fe33d6"
      },
      "source": [
        "head(addr_count)"
      ],
      "execution_count": null,
      "outputs": [
        {
          "output_type": "display_data",
          "data": {
            "text/plain": [
              "  .        Freq\n",
              "1 남가좌동 282 \n",
              "2 냉천동    24 \n",
              "3 대신동     3 \n",
              "4 대현동    69 \n",
              "5 미근동     6 \n",
              "6 북가좌동 155 "
            ],
            "text/latex": "A data.frame: 6 × 2\n\\begin{tabular}{r|ll}\n  & . & Freq\\\\\n  & <fct> & <int>\\\\\n\\hline\n\t1 & 남가좌동 & 282\\\\\n\t2 & 냉천동   &  24\\\\\n\t3 & 대신동   &   3\\\\\n\t4 & 대현동   &  69\\\\\n\t5 & 미근동   &   6\\\\\n\t6 & 북가좌동 & 155\\\\\n\\end{tabular}\n",
            "text/markdown": "\nA data.frame: 6 × 2\n\n| <!--/--> | . &lt;fct&gt; | Freq &lt;int&gt; |\n|---|---|---|\n| 1 | 남가좌동 | 282 |\n| 2 | 냉천동   |  24 |\n| 3 | 대신동   |   3 |\n| 4 | 대현동   |  69 |\n| 5 | 미근동   |   6 |\n| 6 | 북가좌동 | 155 |\n\n",
            "text/html": [
              "<table class=\"dataframe\">\n",
              "<caption>A data.frame: 6 × 2</caption>\n",
              "<thead>\n",
              "\t<tr><th></th><th scope=col>.</th><th scope=col>Freq</th></tr>\n",
              "\t<tr><th></th><th scope=col>&lt;fct&gt;</th><th scope=col>&lt;int&gt;</th></tr>\n",
              "</thead>\n",
              "<tbody>\n",
              "\t<tr><th scope=row>1</th><td>남가좌동</td><td>282</td></tr>\n",
              "\t<tr><th scope=row>2</th><td>냉천동  </td><td> 24</td></tr>\n",
              "\t<tr><th scope=row>3</th><td>대신동  </td><td>  3</td></tr>\n",
              "\t<tr><th scope=row>4</th><td>대현동  </td><td> 69</td></tr>\n",
              "\t<tr><th scope=row>5</th><td>미근동  </td><td>  6</td></tr>\n",
              "\t<tr><th scope=row>6</th><td>북가좌동</td><td>155</td></tr>\n",
              "</tbody>\n",
              "</table>\n"
            ]
          },
          "metadata": {
            "tags": []
          }
        }
      ]
    },
    {
      "cell_type": "code",
      "metadata": {
        "colab": {
          "base_uri": "https://localhost:8080/",
          "height": 641
        },
        "id": "Y38_1ctleUtC",
        "outputId": "01fbb0c7-9442-49f2-a7a6-76a06445e4c1"
      },
      "source": [
        "addr_count\n"
      ],
      "execution_count": null,
      "outputs": [
        {
          "output_type": "display_data",
          "data": {
            "text/plain": [
              "   .        Freq\n",
              "1  남가좌동 282 \n",
              "2  냉천동    24 \n",
              "3  대신동     3 \n",
              "4  대현동    69 \n",
              "5  미근동     6 \n",
              "6  북가좌동 155 \n",
              "7  북아현동  45 \n",
              "8  신촌동     2 \n",
              "9  연희동   104 \n",
              "10 영천동    15 \n",
              "11 옥천동     3 \n",
              "12 창천동   395 \n",
              "13 천연동     3 \n",
              "14 충정로가  48 \n",
              "15 합동       2 \n",
              "16 홍은동   150 \n",
              "17 홍제동   209 "
            ],
            "text/latex": "A data.frame: 17 × 2\n\\begin{tabular}{ll}\n . & Freq\\\\\n <fct> & <int>\\\\\n\\hline\n\t 남가좌동 & 282\\\\\n\t 냉천동   &  24\\\\\n\t 대신동   &   3\\\\\n\t 대현동   &  69\\\\\n\t 미근동   &   6\\\\\n\t 북가좌동 & 155\\\\\n\t 북아현동 &  45\\\\\n\t 신촌동   &   2\\\\\n\t 연희동   & 104\\\\\n\t 영천동   &  15\\\\\n\t 옥천동   &   3\\\\\n\t 창천동   & 395\\\\\n\t 천연동   &   3\\\\\n\t 충정로가 &  48\\\\\n\t 합동     &   2\\\\\n\t 홍은동   & 150\\\\\n\t 홍제동   & 209\\\\\n\\end{tabular}\n",
            "text/markdown": "\nA data.frame: 17 × 2\n\n| . &lt;fct&gt; | Freq &lt;int&gt; |\n|---|---|\n| 남가좌동 | 282 |\n| 냉천동   |  24 |\n| 대신동   |   3 |\n| 대현동   |  69 |\n| 미근동   |   6 |\n| 북가좌동 | 155 |\n| 북아현동 |  45 |\n| 신촌동   |   2 |\n| 연희동   | 104 |\n| 영천동   |  15 |\n| 옥천동   |   3 |\n| 창천동   | 395 |\n| 천연동   |   3 |\n| 충정로가 |  48 |\n| 합동     |   2 |\n| 홍은동   | 150 |\n| 홍제동   | 209 |\n\n",
            "text/html": [
              "<table class=\"dataframe\">\n",
              "<caption>A data.frame: 17 × 2</caption>\n",
              "<thead>\n",
              "\t<tr><th scope=col>.</th><th scope=col>Freq</th></tr>\n",
              "\t<tr><th scope=col>&lt;fct&gt;</th><th scope=col>&lt;int&gt;</th></tr>\n",
              "</thead>\n",
              "<tbody>\n",
              "\t<tr><td>남가좌동</td><td>282</td></tr>\n",
              "\t<tr><td>냉천동  </td><td> 24</td></tr>\n",
              "\t<tr><td>대신동  </td><td>  3</td></tr>\n",
              "\t<tr><td>대현동  </td><td> 69</td></tr>\n",
              "\t<tr><td>미근동  </td><td>  6</td></tr>\n",
              "\t<tr><td>북가좌동</td><td>155</td></tr>\n",
              "\t<tr><td>북아현동</td><td> 45</td></tr>\n",
              "\t<tr><td>신촌동  </td><td>  2</td></tr>\n",
              "\t<tr><td>연희동  </td><td>104</td></tr>\n",
              "\t<tr><td>영천동  </td><td> 15</td></tr>\n",
              "\t<tr><td>옥천동  </td><td>  3</td></tr>\n",
              "\t<tr><td>창천동  </td><td>395</td></tr>\n",
              "\t<tr><td>천연동  </td><td>  3</td></tr>\n",
              "\t<tr><td>충정로가</td><td> 48</td></tr>\n",
              "\t<tr><td>합동    </td><td>  2</td></tr>\n",
              "\t<tr><td>홍은동  </td><td>150</td></tr>\n",
              "\t<tr><td>홍제동  </td><td>209</td></tr>\n",
              "</tbody>\n",
              "</table>\n"
            ]
          },
          "metadata": {
            "tags": []
          }
        }
      ]
    },
    {
      "cell_type": "code",
      "metadata": {
        "colab": {
          "base_uri": "https://localhost:8080/"
        },
        "id": "8mYenggOeYry",
        "outputId": "6874748d-7927-4fd6-8eea-b28d751349ac"
      },
      "source": [
        "install.packages(\"treemap\")\n",
        "library(treemap)"
      ],
      "execution_count": null,
      "outputs": [
        {
          "output_type": "stream",
          "text": [
            "Installing package into ‘/usr/local/lib/R/site-library’\n",
            "(as ‘lib’ is unspecified)\n",
            "\n"
          ],
          "name": "stderr"
        }
      ]
    },
    {
      "cell_type": "code",
      "metadata": {
        "colab": {
          "base_uri": "https://localhost:8080/",
          "height": 437
        },
        "id": "6fFBELaBe3ZM",
        "outputId": "153ca179-8bc6-4757-a9f0-72a19d3dd54e"
      },
      "source": [
        "treemap(addr_count, index = \".\", vSize=\"Freq\", title = \"서대문구 동별 치킨집 분포\")\n"
      ],
      "execution_count": null,
      "outputs": [
        {
          "output_type": "display_data",
          "data": {
            "image/png": "[encoded data removed]",
            "text/plain": [
              "plot without title"
            ]
          },
          "metadata": {
            "tags": [],
            "image/png": {
              "width": 420,
              "height": 420
            }
          }
        }
      ]
    },
    {
      "cell_type": "code",
      "metadata": {
        "id": "mKYxyT5Cf440"
      },
      "source": [
        ""
      ],
      "execution_count": null,
      "outputs": []
    }
  ]
}