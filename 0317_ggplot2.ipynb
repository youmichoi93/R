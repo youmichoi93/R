{
 "cells": [
  {
   "cell_type": "code",
   "execution_count": 1,
   "id": "therapeutic-steam",
   "metadata": {},
   "outputs": [
    {
     "name": "stderr",
     "output_type": "stream",
     "text": [
      "Warning message:\n",
      "\"package 'readxl' was built under R version 3.6.3\"\n",
      "Attaching package: 'dplyr'\n",
      "\n",
      "The following objects are masked from 'package:stats':\n",
      "\n",
      "    filter, lag\n",
      "\n",
      "The following objects are masked from 'package:base':\n",
      "\n",
      "    intersect, setdiff, setequal, union\n",
      "\n"
     ]
    }
   ],
   "source": [
    "library(readxl)\n",
    "library(dplyr)\n",
    "\n",
    "customer_r <- read_excel(\"customer_r.xlsx\")\n",
    "reservation_r <- read_excel(\"reservation_r.xlsx\")\n",
    "order_info_r <- read_excel(\"order_info_r.xlsx\")\n",
    "item_r <- read_excel(\"item_r.xlsx\")\n",
    "colnames(customer_r) <- tolower(colnames(customer_r))\n",
    "colnames(reservation_r) <- tolower(colnames(reservation_r))\n",
    "colnames(order_info_r) <- tolower(colnames(order_info_r))\n",
    "colnames(item_r) <- tolower(colnames(item_r))\n"
   ]
  },
  {
   "cell_type": "code",
   "execution_count": 2,
   "id": "boolean-thermal",
   "metadata": {},
   "outputs": [
    {
     "data": {
      "text/html": [
       "<table>\n",
       "<thead><tr><th scope=col>customer_id</th><th scope=col>customer_name</th><th scope=col>phone_number</th><th scope=col>email</th><th scope=col>first_reg_date</th><th scope=col>sex_code</th><th scope=col>birth</th><th scope=col>job</th><th scope=col>zip_code</th></tr></thead>\n",
       "<tbody>\n",
       "\t<tr><td>W1346506          </td><td>고객71            </td><td>010-1111-1181     </td><td>scust71@sfnb.co.kr</td><td>19/09/01          </td><td>F                 </td><td>19820922          </td><td>자영업            </td><td>122100            </td></tr>\n",
       "\t<tr><td>W1347648          </td><td>고객72            </td><td>010-1111-1182     </td><td>scust72@sfnb.co.kr</td><td>19/09/04          </td><td>M                 </td><td>19940812          </td><td>학생              </td><td>140100            </td></tr>\n",
       "\t<tr><td>W1347756          </td><td>고객73            </td><td>010-1111-1183     </td><td>scust73@sfnb.co.kr</td><td>19/09/05          </td><td>M                 </td><td>19931217          </td><td>NA                </td><td>152100            </td></tr>\n",
       "\t<tr><td>W1347984          </td><td>고객74            </td><td>010-1111-1184     </td><td>scust74@sfnb.co.kr</td><td>19/09/06          </td><td>M                 </td><td>19810822          </td><td>자영업            </td><td>130100            </td></tr>\n",
       "\t<tr><td>W1348303          </td><td>고객75            </td><td>010-1111-1185     </td><td>scust75@sfnb.co.kr</td><td>19/09/07          </td><td>M                 </td><td>19900611          </td><td>NA                </td><td>121100            </td></tr>\n",
       "\t<tr><td>W1348424          </td><td>고객76            </td><td>010-1111-1186     </td><td>scust76@sfnb.co.kr</td><td>19/09/08          </td><td>M                 </td><td>19730422          </td><td>NA                </td><td>139100            </td></tr>\n",
       "</tbody>\n",
       "</table>\n"
      ],
      "text/latex": [
       "\\begin{tabular}{r|lllllllll}\n",
       " customer\\_id & customer\\_name & phone\\_number & email & first\\_reg\\_date & sex\\_code & birth & job & zip\\_code\\\\\n",
       "\\hline\n",
       "\t W1346506           & 고객71             & 010-1111-1181      & scust71@sfnb.co.kr & 19/09/01           & F                  & 19820922           & 자영업             & 122100            \\\\\n",
       "\t W1347648           & 고객72             & 010-1111-1182      & scust72@sfnb.co.kr & 19/09/04           & M                  & 19940812           & 학생               & 140100            \\\\\n",
       "\t W1347756           & 고객73             & 010-1111-1183      & scust73@sfnb.co.kr & 19/09/05           & M                  & 19931217           & NA                 & 152100            \\\\\n",
       "\t W1347984           & 고객74             & 010-1111-1184      & scust74@sfnb.co.kr & 19/09/06           & M                  & 19810822           & 자영업             & 130100            \\\\\n",
       "\t W1348303           & 고객75             & 010-1111-1185      & scust75@sfnb.co.kr & 19/09/07           & M                  & 19900611           & NA                 & 121100            \\\\\n",
       "\t W1348424           & 고객76             & 010-1111-1186      & scust76@sfnb.co.kr & 19/09/08           & M                  & 19730422           & NA                 & 139100            \\\\\n",
       "\\end{tabular}\n"
      ],
      "text/markdown": [
       "\n",
       "| customer_id | customer_name | phone_number | email | first_reg_date | sex_code | birth | job | zip_code |\n",
       "|---|---|---|---|---|---|---|---|---|\n",
       "| W1346506           | 고객71             | 010-1111-1181      | scust71@sfnb.co.kr | 19/09/01           | F                  | 19820922           | 자영업             | 122100             |\n",
       "| W1347648           | 고객72             | 010-1111-1182      | scust72@sfnb.co.kr | 19/09/04           | M                  | 19940812           | 학생               | 140100             |\n",
       "| W1347756           | 고객73             | 010-1111-1183      | scust73@sfnb.co.kr | 19/09/05           | M                  | 19931217           | NA                 | 152100             |\n",
       "| W1347984           | 고객74             | 010-1111-1184      | scust74@sfnb.co.kr | 19/09/06           | M                  | 19810822           | 자영업             | 130100             |\n",
       "| W1348303           | 고객75             | 010-1111-1185      | scust75@sfnb.co.kr | 19/09/07           | M                  | 19900611           | NA                 | 121100             |\n",
       "| W1348424           | 고객76             | 010-1111-1186      | scust76@sfnb.co.kr | 19/09/08           | M                  | 19730422           | NA                 | 139100             |\n",
       "\n"
      ],
      "text/plain": [
       "  customer_id customer_name phone_number  email              first_reg_date\n",
       "1 W1346506    고객71        010-1111-1181 scust71@sfnb.co.kr 19/09/01      \n",
       "2 W1347648    고객72        010-1111-1182 scust72@sfnb.co.kr 19/09/04      \n",
       "3 W1347756    고객73        010-1111-1183 scust73@sfnb.co.kr 19/09/05      \n",
       "4 W1347984    고객74        010-1111-1184 scust74@sfnb.co.kr 19/09/06      \n",
       "5 W1348303    고객75        010-1111-1185 scust75@sfnb.co.kr 19/09/07      \n",
       "6 W1348424    고객76        010-1111-1186 scust76@sfnb.co.kr 19/09/08      \n",
       "  sex_code birth    job    zip_code\n",
       "1 F        19820922 자영업 122100  \n",
       "2 M        19940812 학생   140100  \n",
       "3 M        19931217 NA     152100  \n",
       "4 M        19810822 자영업 130100  \n",
       "5 M        19900611 NA     121100  \n",
       "6 M        19730422 NA     139100  "
      ]
     },
     "metadata": {},
     "output_type": "display_data"
    }
   ],
   "source": [
    "head(customer_r)"
   ]
  },
  {
   "cell_type": "code",
   "execution_count": 5,
   "id": "necessary-halloween",
   "metadata": {},
   "outputs": [],
   "source": [
    "library(ggplot2)\n",
    "library(dplyr)\n"
   ]
  },
  {
   "cell_type": "code",
   "execution_count": 12,
   "id": "helpful-block",
   "metadata": {},
   "outputs": [
    {
     "data": {
      "image/png": "[encoded data removed]",
      "text/plain": [
       "plot without title"
      ]
     },
     "metadata": {},
     "output_type": "display_data"
    }
   ],
   "source": [
    "ggplot(data = pressure, aes(x=temperature, y = pressure)) +\n",
    "geom_line()"
   ]
  },
  {
   "cell_type": "code",
   "execution_count": 17,
   "id": "judicial-joining",
   "metadata": {},
   "outputs": [],
   "source": [
    "# select 열 선택\n",
    "\n",
    "df_cfm_order <- inner_join(reservation_r, order_info_r, by='reserv_no')  %>% \n",
    "select(customer_id,reserv_no, visitor_cnt, cancel, order_no, item_id, sales)  %>% \n",
    "arrange(customer_id,reserv_no,item_id)"
   ]
  },
  {
   "cell_type": "code",
   "execution_count": 18,
   "id": "anonymous-washer",
   "metadata": {},
   "outputs": [
    {
     "data": {
      "text/html": [
       "<table>\n",
       "<thead><tr><th scope=col>customer_id</th><th scope=col>reserv_no</th><th scope=col>visitor_cnt</th><th scope=col>cancel</th><th scope=col>order_no</th><th scope=col>item_id</th><th scope=col>sales</th></tr></thead>\n",
       "<tbody>\n",
       "\t<tr><td>W1327595          </td><td>2019061801        </td><td>2                 </td><td>N                 </td><td>190618107186310010</td><td>M0001             </td><td> 48000            </td></tr>\n",
       "\t<tr><td>W1327595          </td><td>2019071801        </td><td>4                 </td><td>N                 </td><td>190718107186310010</td><td>M0005             </td><td>140000            </td></tr>\n",
       "\t<tr><td>W1327803          </td><td>2019060301        </td><td>4                 </td><td>N                 </td><td>190603578341100100</td><td>M0005             </td><td>140000            </td></tr>\n",
       "\t<tr><td>W1327803          </td><td>2019091506        </td><td>2                 </td><td>N                 </td><td>190915137187310010</td><td>M0005             </td><td> 70000            </td></tr>\n",
       "\t<tr><td>W1328432          </td><td>2019060601        </td><td>4                 </td><td>N                 </td><td>190606607189610010</td><td>M0005             </td><td>140000            </td></tr>\n",
       "\t<tr><td>W1328432          </td><td>2019060601        </td><td>4                 </td><td>N                 </td><td>190606607189610010</td><td>M0010             </td><td> 12000            </td></tr>\n",
       "</tbody>\n",
       "</table>\n"
      ],
      "text/latex": [
       "\\begin{tabular}{r|lllllll}\n",
       " customer\\_id & reserv\\_no & visitor\\_cnt & cancel & order\\_no & item\\_id & sales\\\\\n",
       "\\hline\n",
       "\t W1327595           & 2019061801         & 2                  & N                  & 190618107186310010 & M0001              &  48000            \\\\\n",
       "\t W1327595           & 2019071801         & 4                  & N                  & 190718107186310010 & M0005              & 140000            \\\\\n",
       "\t W1327803           & 2019060301         & 4                  & N                  & 190603578341100100 & M0005              & 140000            \\\\\n",
       "\t W1327803           & 2019091506         & 2                  & N                  & 190915137187310010 & M0005              &  70000            \\\\\n",
       "\t W1328432           & 2019060601         & 4                  & N                  & 190606607189610010 & M0005              & 140000            \\\\\n",
       "\t W1328432           & 2019060601         & 4                  & N                  & 190606607189610010 & M0010              &  12000            \\\\\n",
       "\\end{tabular}\n"
      ],
      "text/markdown": [
       "\n",
       "| customer_id | reserv_no | visitor_cnt | cancel | order_no | item_id | sales |\n",
       "|---|---|---|---|---|---|---|\n",
       "| W1327595           | 2019061801         | 2                  | N                  | 190618107186310010 | M0001              |  48000             |\n",
       "| W1327595           | 2019071801         | 4                  | N                  | 190718107186310010 | M0005              | 140000             |\n",
       "| W1327803           | 2019060301         | 4                  | N                  | 190603578341100100 | M0005              | 140000             |\n",
       "| W1327803           | 2019091506         | 2                  | N                  | 190915137187310010 | M0005              |  70000             |\n",
       "| W1328432           | 2019060601         | 4                  | N                  | 190606607189610010 | M0005              | 140000             |\n",
       "| W1328432           | 2019060601         | 4                  | N                  | 190606607189610010 | M0010              |  12000             |\n",
       "\n"
      ],
      "text/plain": [
       "  customer_id reserv_no  visitor_cnt cancel order_no           item_id sales \n",
       "1 W1327595    2019061801 2           N      190618107186310010 M0001    48000\n",
       "2 W1327595    2019071801 4           N      190718107186310010 M0005   140000\n",
       "3 W1327803    2019060301 4           N      190603578341100100 M0005   140000\n",
       "4 W1327803    2019091506 2           N      190915137187310010 M0005    70000\n",
       "5 W1328432    2019060601 4           N      190606607189610010 M0005   140000\n",
       "6 W1328432    2019060601 4           N      190606607189610010 M0010    12000"
      ]
     },
     "metadata": {},
     "output_type": "display_data"
    }
   ],
   "source": [
    "head(df_cfm_order)\n",
    "#데이터셋 확인"
   ]
  },
  {
   "cell_type": "code",
   "execution_count": 20,
   "id": "special-stamp",
   "metadata": {},
   "outputs": [],
   "source": [
    "#총 방문 고객 수, 총 매출\n",
    "\n",
    "df_sct_graph <- df_cfm_order  %>% \n",
    "group_by(customer_id) %>% \n",
    "summarise(vst_cnt = sum(visitor_cnt), cust_amt = sum(sales/1000))"
   ]
  },
  {
   "cell_type": "code",
   "execution_count": 21,
   "id": "secret-algeria",
   "metadata": {},
   "outputs": [
    {
     "data": {
      "text/html": [
       "<table>\n",
       "<thead><tr><th scope=col>customer_id</th><th scope=col>vst_cnt</th><th scope=col>cust_amt</th></tr></thead>\n",
       "<tbody>\n",
       "\t<tr><td>W1327595</td><td> 6      </td><td>188     </td></tr>\n",
       "\t<tr><td>W1327803</td><td> 6      </td><td>210     </td></tr>\n",
       "\t<tr><td>W1328432</td><td>20      </td><td>246     </td></tr>\n",
       "\t<tr><td>W1328505</td><td>20      </td><td>287     </td></tr>\n",
       "\t<tr><td>W1328786</td><td> 1      </td><td> 10     </td></tr>\n",
       "\t<tr><td>W1328985</td><td> 8      </td><td>178     </td></tr>\n",
       "</tbody>\n",
       "</table>\n"
      ],
      "text/latex": [
       "\\begin{tabular}{r|lll}\n",
       " customer\\_id & vst\\_cnt & cust\\_amt\\\\\n",
       "\\hline\n",
       "\t W1327595 &  6       & 188     \\\\\n",
       "\t W1327803 &  6       & 210     \\\\\n",
       "\t W1328432 & 20       & 246     \\\\\n",
       "\t W1328505 & 20       & 287     \\\\\n",
       "\t W1328786 &  1       &  10     \\\\\n",
       "\t W1328985 &  8       & 178     \\\\\n",
       "\\end{tabular}\n"
      ],
      "text/markdown": [
       "\n",
       "| customer_id | vst_cnt | cust_amt |\n",
       "|---|---|---|\n",
       "| W1327595 |  6       | 188      |\n",
       "| W1327803 |  6       | 210      |\n",
       "| W1328432 | 20       | 246      |\n",
       "| W1328505 | 20       | 287      |\n",
       "| W1328786 |  1       |  10      |\n",
       "| W1328985 |  8       | 178      |\n",
       "\n"
      ],
      "text/plain": [
       "  customer_id vst_cnt cust_amt\n",
       "1 W1327595     6      188     \n",
       "2 W1327803     6      210     \n",
       "3 W1328432    20      246     \n",
       "4 W1328505    20      287     \n",
       "5 W1328786     1       10     \n",
       "6 W1328985     8      178     "
      ]
     },
     "metadata": {},
     "output_type": "display_data"
    }
   ],
   "source": [
    "head(df_sct_graph)\n",
    "#데이터셋 확인"
   ]
  },
  {
   "cell_type": "code",
   "execution_count": 26,
   "id": "international-grain",
   "metadata": {},
   "outputs": [
    {
     "data": {
      "image/png": "[encoded data removed]",
      "text/plain": [
       "plot without title"
      ]
     },
     "metadata": {},
     "output_type": "display_data"
    }
   ],
   "source": [
    "ggplot(data = df_sct_graph, aes(x = vst_cnt, y = cust_amt )) +\n",
    "geom_point()"
   ]
  },
  {
   "cell_type": "code",
   "execution_count": null,
   "id": "vulnerable-degree",
   "metadata": {},
   "outputs": [],
   "source": [
    "# cunst_amt 500까지만 확대해서 보자. : 축 조정"
   ]
  },
  {
   "cell_type": "code",
   "execution_count": 28,
   "id": "exceptional-capacity",
   "metadata": {},
   "outputs": [
    {
     "name": "stderr",
     "output_type": "stream",
     "text": [
      "Warning message:\n",
      "\"Removed 5 rows containing missing values (geom_point).\""
     ]
    },
    {
     "data": {
      "image/png": "[encoded data removed]",
      "text/plain": [
       "plot without title"
      ]
     },
     "metadata": {},
     "output_type": "display_data"
    }
   ],
   "source": [
    "ggplot(data = df_sct_graph, aes(x=vst_cnt, y = cust_amt )) +\n",
    "geom_point()+\n",
    "xlim(0,50)+ylim(0,500)\n",
    "\n",
    "#양의 상관관계 : 늘어날수록 늘어난다.\n",
    "#경고 메세지 : 다섯개 행을 missing했습니다. -> 축 조정했기때문."
   ]
  },
  {
   "cell_type": "code",
   "execution_count": 29,
   "id": "demonstrated-commodity",
   "metadata": {},
   "outputs": [
    {
     "data": {
      "text/html": [
       "<table>\n",
       "<thead><tr><th scope=col>customer_id</th><th scope=col>customer_name</th><th scope=col>phone_number</th><th scope=col>email</th><th scope=col>first_reg_date</th><th scope=col>sex_code</th><th scope=col>birth</th><th scope=col>job</th><th scope=col>zip_code</th></tr></thead>\n",
       "<tbody>\n",
       "\t<tr><td>W1346506          </td><td>고객71            </td><td>010-1111-1181     </td><td>scust71@sfnb.co.kr</td><td>19/09/01          </td><td>F                 </td><td>19820922          </td><td>자영업            </td><td>122100            </td></tr>\n",
       "\t<tr><td>W1347648          </td><td>고객72            </td><td>010-1111-1182     </td><td>scust72@sfnb.co.kr</td><td>19/09/04          </td><td>M                 </td><td>19940812          </td><td>학생              </td><td>140100            </td></tr>\n",
       "\t<tr><td>W1347756          </td><td>고객73            </td><td>010-1111-1183     </td><td>scust73@sfnb.co.kr</td><td>19/09/05          </td><td>M                 </td><td>19931217          </td><td>NA                </td><td>152100            </td></tr>\n",
       "\t<tr><td>W1347984          </td><td>고객74            </td><td>010-1111-1184     </td><td>scust74@sfnb.co.kr</td><td>19/09/06          </td><td>M                 </td><td>19810822          </td><td>자영업            </td><td>130100            </td></tr>\n",
       "\t<tr><td>W1348303          </td><td>고객75            </td><td>010-1111-1185     </td><td>scust75@sfnb.co.kr</td><td>19/09/07          </td><td>M                 </td><td>19900611          </td><td>NA                </td><td>121100            </td></tr>\n",
       "\t<tr><td>W1348424          </td><td>고객76            </td><td>010-1111-1186     </td><td>scust76@sfnb.co.kr</td><td>19/09/08          </td><td>M                 </td><td>19730422          </td><td>NA                </td><td>139100            </td></tr>\n",
       "</tbody>\n",
       "</table>\n"
      ],
      "text/latex": [
       "\\begin{tabular}{r|lllllllll}\n",
       " customer\\_id & customer\\_name & phone\\_number & email & first\\_reg\\_date & sex\\_code & birth & job & zip\\_code\\\\\n",
       "\\hline\n",
       "\t W1346506           & 고객71             & 010-1111-1181      & scust71@sfnb.co.kr & 19/09/01           & F                  & 19820922           & 자영업             & 122100            \\\\\n",
       "\t W1347648           & 고객72             & 010-1111-1182      & scust72@sfnb.co.kr & 19/09/04           & M                  & 19940812           & 학생               & 140100            \\\\\n",
       "\t W1347756           & 고객73             & 010-1111-1183      & scust73@sfnb.co.kr & 19/09/05           & M                  & 19931217           & NA                 & 152100            \\\\\n",
       "\t W1347984           & 고객74             & 010-1111-1184      & scust74@sfnb.co.kr & 19/09/06           & M                  & 19810822           & 자영업             & 130100            \\\\\n",
       "\t W1348303           & 고객75             & 010-1111-1185      & scust75@sfnb.co.kr & 19/09/07           & M                  & 19900611           & NA                 & 121100            \\\\\n",
       "\t W1348424           & 고객76             & 010-1111-1186      & scust76@sfnb.co.kr & 19/09/08           & M                  & 19730422           & NA                 & 139100            \\\\\n",
       "\\end{tabular}\n"
      ],
      "text/markdown": [
       "\n",
       "| customer_id | customer_name | phone_number | email | first_reg_date | sex_code | birth | job | zip_code |\n",
       "|---|---|---|---|---|---|---|---|---|\n",
       "| W1346506           | 고객71             | 010-1111-1181      | scust71@sfnb.co.kr | 19/09/01           | F                  | 19820922           | 자영업             | 122100             |\n",
       "| W1347648           | 고객72             | 010-1111-1182      | scust72@sfnb.co.kr | 19/09/04           | M                  | 19940812           | 학생               | 140100             |\n",
       "| W1347756           | 고객73             | 010-1111-1183      | scust73@sfnb.co.kr | 19/09/05           | M                  | 19931217           | NA                 | 152100             |\n",
       "| W1347984           | 고객74             | 010-1111-1184      | scust74@sfnb.co.kr | 19/09/06           | M                  | 19810822           | 자영업             | 130100             |\n",
       "| W1348303           | 고객75             | 010-1111-1185      | scust75@sfnb.co.kr | 19/09/07           | M                  | 19900611           | NA                 | 121100             |\n",
       "| W1348424           | 고객76             | 010-1111-1186      | scust76@sfnb.co.kr | 19/09/08           | M                  | 19730422           | NA                 | 139100             |\n",
       "\n"
      ],
      "text/plain": [
       "  customer_id customer_name phone_number  email              first_reg_date\n",
       "1 W1346506    고객71        010-1111-1181 scust71@sfnb.co.kr 19/09/01      \n",
       "2 W1347648    고객72        010-1111-1182 scust72@sfnb.co.kr 19/09/04      \n",
       "3 W1347756    고객73        010-1111-1183 scust73@sfnb.co.kr 19/09/05      \n",
       "4 W1347984    고객74        010-1111-1184 scust74@sfnb.co.kr 19/09/06      \n",
       "5 W1348303    고객75        010-1111-1185 scust75@sfnb.co.kr 19/09/07      \n",
       "6 W1348424    고객76        010-1111-1186 scust76@sfnb.co.kr 19/09/08      \n",
       "  sex_code birth    job    zip_code\n",
       "1 F        19820922 자영업 122100  \n",
       "2 M        19940812 학생   140100  \n",
       "3 M        19931217 NA     152100  \n",
       "4 M        19810822 자영업 130100  \n",
       "5 M        19900611 NA     121100  \n",
       "6 M        19730422 NA     139100  "
      ]
     },
     "metadata": {},
     "output_type": "display_data"
    }
   ],
   "source": [
    "head(customer_r)"
   ]
  },
  {
   "cell_type": "code",
   "execution_count": 31,
   "id": "extensive-cemetery",
   "metadata": {},
   "outputs": [],
   "source": [
    "df_sct_graph2 <- inner_join(df_sct_graph, customer_r, by = 'customer_id')  %>% \n",
    "select(vst_cnt, cust_amt, sex_code)"
   ]
  },
  {
   "cell_type": "code",
   "execution_count": 32,
   "id": "internal-diary",
   "metadata": {},
   "outputs": [
    {
     "data": {
      "text/html": [
       "<table>\n",
       "<thead><tr><th scope=col>vst_cnt</th><th scope=col>cust_amt</th><th scope=col>sex_code</th></tr></thead>\n",
       "<tbody>\n",
       "\t<tr><td> 6 </td><td>188</td><td>M  </td></tr>\n",
       "\t<tr><td> 6 </td><td>210</td><td>M  </td></tr>\n",
       "\t<tr><td>20 </td><td>246</td><td>M  </td></tr>\n",
       "\t<tr><td>20 </td><td>287</td><td>F  </td></tr>\n",
       "\t<tr><td> 1 </td><td> 10</td><td>M  </td></tr>\n",
       "\t<tr><td> 8 </td><td>178</td><td>M  </td></tr>\n",
       "</tbody>\n",
       "</table>\n"
      ],
      "text/latex": [
       "\\begin{tabular}{r|lll}\n",
       " vst\\_cnt & cust\\_amt & sex\\_code\\\\\n",
       "\\hline\n",
       "\t  6  & 188 & M  \\\\\n",
       "\t  6  & 210 & M  \\\\\n",
       "\t 20  & 246 & M  \\\\\n",
       "\t 20  & 287 & F  \\\\\n",
       "\t  1  &  10 & M  \\\\\n",
       "\t  8  & 178 & M  \\\\\n",
       "\\end{tabular}\n"
      ],
      "text/markdown": [
       "\n",
       "| vst_cnt | cust_amt | sex_code |\n",
       "|---|---|---|\n",
       "|  6  | 188 | M   |\n",
       "|  6  | 210 | M   |\n",
       "| 20  | 246 | M   |\n",
       "| 20  | 287 | F   |\n",
       "|  1  |  10 | M   |\n",
       "|  8  | 178 | M   |\n",
       "\n"
      ],
      "text/plain": [
       "  vst_cnt cust_amt sex_code\n",
       "1  6      188      M       \n",
       "2  6      210      M       \n",
       "3 20      246      M       \n",
       "4 20      287      F       \n",
       "5  1       10      M       \n",
       "6  8      178      M       "
      ]
     },
     "metadata": {},
     "output_type": "display_data"
    }
   ],
   "source": [
    "head(df_sct_graph2)"
   ]
  },
  {
   "cell_type": "code",
   "execution_count": 36,
   "id": "floppy-multiple",
   "metadata": {
    "scrolled": true
   },
   "outputs": [
    {
     "name": "stderr",
     "output_type": "stream",
     "text": [
      "Warning message:\n",
      "\"Removed 5 rows containing missing values (geom_point).\""
     ]
    },
    {
     "data": {
      "image/png": "[encoded data removed]",
      "text/plain": [
       "plot without title"
      ]
     },
     "metadata": {},
     "output_type": "display_data"
    }
   ],
   "source": [
    "ggplot(data=df_sct_graph2, aes(x=vst_cnt,y=cust_amt,color=sex_code))+\n",
    "geom_point()+\n",
    "xlim(0,50)+ylim(0,500)"
   ]
  },
  {
   "cell_type": "code",
   "execution_count": 39,
   "id": "heated-company",
   "metadata": {},
   "outputs": [],
   "source": [
    "\n",
    "# 예약 완료, 주문 완료 데이터 연결\n",
    "df_branch_sales_1 <- inner_join(reservation_r,order_info_r, by='reserv_no')  %>% \n",
    "select(branch,sales) %>% \n",
    "arrange(branch,sales)"
   ]
  },
  {
   "cell_type": "code",
   "execution_count": 42,
   "id": "worse-queens",
   "metadata": {},
   "outputs": [],
   "source": [
    "# 지점별로 매출 합산\n",
    "\n",
    "df_branch_sales_2 <- df_branch_sales_1  %>% \n",
    "group_by(branch) %>% \n",
    "summarise(amt=sum(sales)/10000) %>% \n",
    "arrange(desc(amt))"
   ]
  },
  {
   "cell_type": "code",
   "execution_count": 43,
   "id": "italian-standing",
   "metadata": {},
   "outputs": [
    {
     "data": {
      "text/html": [
       "<table>\n",
       "<thead><tr><th scope=col>branch</th><th scope=col>amt</th></tr></thead>\n",
       "<tbody>\n",
       "\t<tr><td>강남  </td><td>407.4 </td></tr>\n",
       "\t<tr><td>영등포</td><td>151.6 </td></tr>\n",
       "\t<tr><td>종로  </td><td>142.8 </td></tr>\n",
       "\t<tr><td>용산  </td><td>136.6 </td></tr>\n",
       "\t<tr><td>서초  </td><td>129.5 </td></tr>\n",
       "\t<tr><td>송파  </td><td>119.0 </td></tr>\n",
       "\t<tr><td>서대문</td><td>118.0 </td></tr>\n",
       "\t<tr><td>동작  </td><td>114.9 </td></tr>\n",
       "\t<tr><td>관악  </td><td>110.1 </td></tr>\n",
       "\t<tr><td>노원  </td><td>105.4 </td></tr>\n",
       "\t<tr><td>강동  </td><td> 99.0 </td></tr>\n",
       "\t<tr><td>마포  </td><td> 95.3 </td></tr>\n",
       "\t<tr><td>강서  </td><td> 94.9 </td></tr>\n",
       "\t<tr><td>중구  </td><td> 82.5 </td></tr>\n",
       "\t<tr><td>성동  </td><td> 73.3 </td></tr>\n",
       "\t<tr><td>도봉  </td><td> 69.8 </td></tr>\n",
       "\t<tr><td>강북  </td><td> 69.4 </td></tr>\n",
       "\t<tr><td>동대문</td><td> 67.6 </td></tr>\n",
       "\t<tr><td>구로  </td><td> 67.0 </td></tr>\n",
       "\t<tr><td>양천  </td><td> 63.6 </td></tr>\n",
       "\t<tr><td>은평  </td><td> 47.1 </td></tr>\n",
       "\t<tr><td>중랑  </td><td> 46.8 </td></tr>\n",
       "\t<tr><td>금천  </td><td> 36.9 </td></tr>\n",
       "\t<tr><td>광진  </td><td> 32.0 </td></tr>\n",
       "\t<tr><td>성북  </td><td> 15.2 </td></tr>\n",
       "</tbody>\n",
       "</table>\n"
      ],
      "text/latex": [
       "\\begin{tabular}{r|ll}\n",
       " branch & amt\\\\\n",
       "\\hline\n",
       "\t 강남   & 407.4 \\\\\n",
       "\t 영등포 & 151.6 \\\\\n",
       "\t 종로   & 142.8 \\\\\n",
       "\t 용산   & 136.6 \\\\\n",
       "\t 서초   & 129.5 \\\\\n",
       "\t 송파   & 119.0 \\\\\n",
       "\t 서대문 & 118.0 \\\\\n",
       "\t 동작   & 114.9 \\\\\n",
       "\t 관악   & 110.1 \\\\\n",
       "\t 노원   & 105.4 \\\\\n",
       "\t 강동   &  99.0 \\\\\n",
       "\t 마포   &  95.3 \\\\\n",
       "\t 강서   &  94.9 \\\\\n",
       "\t 중구   &  82.5 \\\\\n",
       "\t 성동   &  73.3 \\\\\n",
       "\t 도봉   &  69.8 \\\\\n",
       "\t 강북   &  69.4 \\\\\n",
       "\t 동대문 &  67.6 \\\\\n",
       "\t 구로   &  67.0 \\\\\n",
       "\t 양천   &  63.6 \\\\\n",
       "\t 은평   &  47.1 \\\\\n",
       "\t 중랑   &  46.8 \\\\\n",
       "\t 금천   &  36.9 \\\\\n",
       "\t 광진   &  32.0 \\\\\n",
       "\t 성북   &  15.2 \\\\\n",
       "\\end{tabular}\n"
      ],
      "text/markdown": [
       "\n",
       "| branch | amt |\n",
       "|---|---|\n",
       "| 강남   | 407.4  |\n",
       "| 영등포 | 151.6  |\n",
       "| 종로   | 142.8  |\n",
       "| 용산   | 136.6  |\n",
       "| 서초   | 129.5  |\n",
       "| 송파   | 119.0  |\n",
       "| 서대문 | 118.0  |\n",
       "| 동작   | 114.9  |\n",
       "| 관악   | 110.1  |\n",
       "| 노원   | 105.4  |\n",
       "| 강동   |  99.0  |\n",
       "| 마포   |  95.3  |\n",
       "| 강서   |  94.9  |\n",
       "| 중구   |  82.5  |\n",
       "| 성동   |  73.3  |\n",
       "| 도봉   |  69.8  |\n",
       "| 강북   |  69.4  |\n",
       "| 동대문 |  67.6  |\n",
       "| 구로   |  67.0  |\n",
       "| 양천   |  63.6  |\n",
       "| 은평   |  47.1  |\n",
       "| 중랑   |  46.8  |\n",
       "| 금천   |  36.9  |\n",
       "| 광진   |  32.0  |\n",
       "| 성북   |  15.2  |\n",
       "\n"
      ],
      "text/plain": [
       "   branch amt  \n",
       "1  강남   407.4\n",
       "2  영등포 151.6\n",
       "3  종로   142.8\n",
       "4  용산   136.6\n",
       "5  서초   129.5\n",
       "6  송파   119.0\n",
       "7  서대문 118.0\n",
       "8  동작   114.9\n",
       "9  관악   110.1\n",
       "10 노원   105.4\n",
       "11 강동    99.0\n",
       "12 마포    95.3\n",
       "13 강서    94.9\n",
       "14 중구    82.5\n",
       "15 성동    73.3\n",
       "16 도봉    69.8\n",
       "17 강북    69.4\n",
       "18 동대문  67.6\n",
       "19 구로    67.0\n",
       "20 양천    63.6\n",
       "21 은평    47.1\n",
       "22 중랑    46.8\n",
       "23 금천    36.9\n",
       "24 광진    32.0\n",
       "25 성북    15.2"
      ]
     },
     "metadata": {},
     "output_type": "display_data"
    }
   ],
   "source": [
    "df_branch_sales_2\n",
    "\n",
    "#데이터셋 확인"
   ]
  },
  {
   "cell_type": "code",
   "execution_count": 44,
   "id": "widespread-transport",
   "metadata": {},
   "outputs": [
    {
     "data": {
      "image/png": "[encoded data removed]",
      "text/plain": [
       "plot without title"
      ]
     },
     "metadata": {},
     "output_type": "display_data"
    }
   ],
   "source": [
    "ggplot(df_branch_sales_2,aes(x= branch,y= amt))+ \n",
    "geom_bar(stat='identity')"
   ]
  },
  {
   "cell_type": "code",
   "execution_count": 47,
   "id": "filled-cloud",
   "metadata": {},
   "outputs": [
    {
     "data": {
      "image/png": "[encoded data removed]",
      "text/plain": [
       "plot without title"
      ]
     },
     "metadata": {},
     "output_type": "display_data"
    }
   ],
   "source": [
    "ggplot(df_branch_sales_2, aes(x = reorder(branch, -amt), y = amt)) +\n",
    "geom_bar(stat = \"identity\")\n",
    "\n",
    "# -amt 큰 순서대로 내림차순"
   ]
  },
  {
   "cell_type": "code",
   "execution_count": 49,
   "id": "competent-fabric",
   "metadata": {},
   "outputs": [
    {
     "data": {
      "image/png": "[encoded data removed]",
      "text/plain": [
       "plot without title"
      ]
     },
     "metadata": {},
     "output_type": "display_data"
    }
   ],
   "source": [
    "#자동으로 막대 그랴프에 색상 채우기\n",
    "ggplot(df_branch_sales_2, aes(x = reorder(branch, -amt), y = amt,fill = branch)) +\n",
    "    geom_bar(stat = \"identity\")"
   ]
  },
  {
   "cell_type": "code",
   "execution_count": 51,
   "id": "about-progressive",
   "metadata": {},
   "outputs": [
    {
     "name": "stderr",
     "output_type": "stream",
     "text": [
      "Warning message:\n",
      "\"Removed 20 rows containing missing values (position_stack).\""
     ]
    },
    {
     "data": {
      "image/png": "[encoded data removed]",
      "text/plain": [
       "plot without title"
      ]
     },
     "metadata": {},
     "output_type": "display_data"
    }
   ],
   "source": [
    "#원하는 것만 보자.\n",
    "ggplot(df_branch_sales_2, aes(x = reorder(branch, -amt), y = amt,fill = branch)) +\n",
    "geom_bar(stat = \"identity\") +\n",
    "xlim(c('강남','영등포','종로','용산','서초'))\n",
    "\n",
    "#x축에 limit을 걸어라."
   ]
  },
  {
   "cell_type": "code",
   "execution_count": 82,
   "id": "partial-roberts",
   "metadata": {
    "scrolled": true
   },
   "outputs": [
    {
     "name": "stderr",
     "output_type": "stream",
     "text": [
      "Warning message:\n",
      "\"Removed 20 rows containing missing values (position_stack).\""
     ]
    },
    {
     "data": {
      "image/png": "[encoded data removed]",
      "text/plain": [
       "plot without title"
      ]
     },
     "metadata": {},
     "output_type": "display_data"
    }
   ],
   "source": [
    "#가로 막대 그래프 그리기\n",
    "\n",
    "gg <- ggplot(df_branch_sales_2, aes(x = reorder(branch, -amt), y = amt,fill = branch)) +\n",
    "geom_bar(stat = \"identity\") +\n",
    "xlim(c('강남','영등포','종로','용산','서초'))\n",
    "\n",
    "gg <- gg + coord_flip() + #x축과 y축을 바꿈 \n",
    "           theme(legend.position = 'bottom')+ # 오른쪽에 있던 범례를 bottom으로 옮김.\n",
    "    scale_fill_discrete(breaks = c(\"강남\", \"영등포\", \"종로\", \"용산\", \"서초\"))#범례 항목 순서 바꾸기\n",
    "\n",
    "\n",
    "\n",
    "\n",
    "\n",
    "gg        \n",
    "\n",
    "\n",
    "\n",
    "\n",
    "\n"
   ]
  },
  {
   "cell_type": "code",
   "execution_count": null,
   "id": "inner-allergy",
   "metadata": {},
   "outputs": [],
   "source": []
  },
  {
   "cell_type": "code",
   "execution_count": null,
   "id": "commercial-stereo",
   "metadata": {},
   "outputs": [],
   "source": []
  },
  {
   "cell_type": "code",
   "execution_count": null,
   "id": "modern-letter",
   "metadata": {},
   "outputs": [],
   "source": [
    "#-----------------------------[히스토그램 : 도수 분포 확인]----------------------------------------"
   ]
  },
  {
   "cell_type": "code",
   "execution_count": 63,
   "id": "refined-money",
   "metadata": {},
   "outputs": [
    {
     "data": {
      "image/png": "[encoded data removed]",
      "text/plain": [
       "plot without title"
      ]
     },
     "metadata": {},
     "output_type": "display_data"
    }
   ],
   "source": [
    "# 지점 예약 건수 히스토그램\n",
    "gg <- ggplot(data = reservation_r, aes(x = branch)) + geom_bar(stat = \"count\")+#y축의 높이를 세어 그림.\n",
    "      labs(title = \"지점별 예약 건수\", x = \"지점\", y = \"예약건\") #x축 y축 이름 바꾸기\n",
    "gg"
   ]
  },
  {
   "cell_type": "code",
   "execution_count": 65,
   "id": "social-compiler",
   "metadata": {},
   "outputs": [
    {
     "data": {
      "image/png": "[encoded data removed]",
      "text/plain": [
       "plot without title"
      ]
     },
     "metadata": {},
     "output_type": "display_data"
    }
   ],
   "source": [
    "ggplot(data = order_info_r, aes(x =sales/1000))+\n",
    "geom_histogram(binwidth = 5)"
   ]
  },
  {
   "cell_type": "code",
   "execution_count": 66,
   "id": "visible-willow",
   "metadata": {},
   "outputs": [
    {
     "data": {
      "text/html": [
       "<table>\n",
       "<thead><tr><th scope=col>item_id</th><th scope=col>amt_item</th><th scope=col>product_name</th></tr></thead>\n",
       "<tbody>\n",
       "\t<tr><td>M0001      </td><td>5808       </td><td>SPECIAL_SET</td></tr>\n",
       "\t<tr><td>M0002      </td><td>1968       </td><td>PASTA      </td></tr>\n",
       "\t<tr><td>M0003      </td><td>1666       </td><td>PIZZA      </td></tr>\n",
       "\t<tr><td>M0004      </td><td>1625       </td><td>SEA_FOOD   </td></tr>\n",
       "\t<tr><td>M0005      </td><td>9380       </td><td>STEAK      </td></tr>\n",
       "\t<tr><td>M0006      </td><td>2075       </td><td>SALAD_BAR  </td></tr>\n",
       "\t<tr><td>M0007      </td><td> 525       </td><td>SALAD      </td></tr>\n",
       "\t<tr><td>M0008      </td><td> 610       </td><td>SANDWICH   </td></tr>\n",
       "\t<tr><td>M0009      </td><td> 856       </td><td>WINE       </td></tr>\n",
       "\t<tr><td>M0010      </td><td> 444       </td><td>JUICE      </td></tr>\n",
       "</tbody>\n",
       "</table>\n"
      ],
      "text/latex": [
       "\\begin{tabular}{r|lll}\n",
       " item\\_id & amt\\_item & product\\_name\\\\\n",
       "\\hline\n",
       "\t M0001         & 5808          & SPECIAL\\_SET\\\\\n",
       "\t M0002       & 1968        & PASTA      \\\\\n",
       "\t M0003       & 1666        & PIZZA      \\\\\n",
       "\t M0004         & 1625          & SEA\\_FOOD   \\\\\n",
       "\t M0005       & 9380        & STEAK      \\\\\n",
       "\t M0006         & 2075          & SALAD\\_BAR  \\\\\n",
       "\t M0007       &  525        & SALAD      \\\\\n",
       "\t M0008       &  610        & SANDWICH   \\\\\n",
       "\t M0009       &  856        & WINE       \\\\\n",
       "\t M0010       &  444        & JUICE      \\\\\n",
       "\\end{tabular}\n"
      ],
      "text/markdown": [
       "\n",
       "| item_id | amt_item | product_name |\n",
       "|---|---|---|\n",
       "| M0001       | 5808        | SPECIAL_SET |\n",
       "| M0002       | 1968        | PASTA       |\n",
       "| M0003       | 1666        | PIZZA       |\n",
       "| M0004       | 1625        | SEA_FOOD    |\n",
       "| M0005       | 9380        | STEAK       |\n",
       "| M0006       | 2075        | SALAD_BAR   |\n",
       "| M0007       |  525        | SALAD       |\n",
       "| M0008       |  610        | SANDWICH    |\n",
       "| M0009       |  856        | WINE        |\n",
       "| M0010       |  444        | JUICE       |\n",
       "\n"
      ],
      "text/plain": [
       "   item_id amt_item product_name\n",
       "1  M0001   5808     SPECIAL_SET \n",
       "2  M0002   1968     PASTA       \n",
       "3  M0003   1666     PIZZA       \n",
       "4  M0004   1625     SEA_FOOD    \n",
       "5  M0005   9380     STEAK       \n",
       "6  M0006   2075     SALAD_BAR   \n",
       "7  M0007    525     SALAD       \n",
       "8  M0008    610     SANDWICH    \n",
       "9  M0009    856     WINE        \n",
       "10 M0010    444     JUICE       "
      ]
     },
     "metadata": {},
     "output_type": "display_data"
    }
   ],
   "source": [
    "df_pie_graph <- inner_join(order_info_r, item_r, by = \"item_id\") %>%\n",
    "    group_by(item_id, product_name) %>%\n",
    "    summarise(amt_item = sum(sales/1000)) %>%\n",
    "    select(item_id, amt_item, product_name)\n",
    "\n",
    "df_pie_graph # 데이터셋 확인"
   ]
  },
  {
   "cell_type": "code",
   "execution_count": 67,
   "id": "therapeutic-house",
   "metadata": {},
   "outputs": [
    {
     "data": {
      "image/png": "[encoded data removed]",
      "text/plain": [
       "plot without title"
      ]
     },
     "metadata": {},
     "output_type": "display_data"
    }
   ],
   "source": [
    "# 누적 막대 그래프로 그리기\n",
    "ggplot(df_pie_graph, aes(x = \"\", y = amt_item, fill = product_name)) +\n",
    "    geom_bar(stat = \"identity\")"
   ]
  },
  {
   "cell_type": "code",
   "execution_count": 79,
   "id": "formed-invite",
   "metadata": {},
   "outputs": [
    {
     "data": {
      "image/png": "[encoded data removed]",
      "text/plain": [
       "plot without title"
      ]
     },
     "metadata": {},
     "output_type": "display_data"
    }
   ],
   "source": [
    "gg <- ggplot(df_pie_graph, aes(x = \"\", y = amt_item, fill = product_name)) +\n",
    "    geom_bar(stat = \"identity\") +\n",
    "    coord_polar(\"y\", start = 0)\n",
    "\n",
    "gg"
   ]
  },
  {
   "cell_type": "code",
   "execution_count": 80,
   "id": "sticky-median",
   "metadata": {},
   "outputs": [
    {
     "data": {
      "image/png": "[encoded data removed]",
      "text/plain": [
       "plot without title"
      ]
     },
     "metadata": {},
     "output_type": "display_data"
    }
   ],
   "source": [
    "# Spectral 색상 팔레트로 채움, direction = -1을 적용하면 팔레트 순서가 바뀜\n",
    "\n",
    "gg <- gg + scale_fill_brewer(palette = \"Spectral\")\n",
    "gg\n"
   ]
  },
  {
   "cell_type": "code",
   "execution_count": 81,
   "id": "turned-decision",
   "metadata": {},
   "outputs": [
    {
     "name": "stderr",
     "output_type": "stream",
     "text": [
      "Warning message in pal_name(palette, type):\n",
      "\"Unknown palette Apple\"Scale for 'fill' is already present. Adding another scale for 'fill', which\n",
      "will replace the existing scale.\n",
      "Warning message in RColorBrewer::brewer.pal(n, pal):\n",
      "\"n too large, allowed maximum for palette Greens is 9\n",
      "Returning the palette you asked for with that many colors\n",
      "\""
     ]
    },
    {
     "data": {
      "image/png": "[encoded data removed]",
      "text/plain": [
       "plot without title"
      ]
     },
     "metadata": {},
     "output_type": "display_data"
    }
   ],
   "source": [
    "gg <- gg + scale_fill_brewer(palette = 'Apple')\n",
    "gg"
   ]
  },
  {
   "cell_type": "code",
   "execution_count": null,
   "id": "raised-gateway",
   "metadata": {},
   "outputs": [],
   "source": []
  },
  {
   "cell_type": "code",
   "execution_count": null,
   "id": "conservative-luxembourg",
   "metadata": {},
   "outputs": [],
   "source": []
  },
  {
   "cell_type": "code",
   "execution_count": null,
   "id": "fitted-estonia",
   "metadata": {},
   "outputs": [],
   "source": []
  },
  {
   "cell_type": "code",
   "execution_count": null,
   "id": "weekly-claim",
   "metadata": {},
   "outputs": [],
   "source": []
  },
  {
   "cell_type": "code",
   "execution_count": null,
   "id": "honey-voluntary",
   "metadata": {},
   "outputs": [],
   "source": []
  },
  {
   "cell_type": "code",
   "execution_count": null,
   "id": "binding-storm",
   "metadata": {},
   "outputs": [],
   "source": []
  },
  {
   "cell_type": "code",
   "execution_count": null,
   "id": "quiet-theta",
   "metadata": {},
   "outputs": [],
   "source": []
  },
  {
   "cell_type": "code",
   "execution_count": null,
   "id": "jewish-stable",
   "metadata": {},
   "outputs": [],
   "source": []
  },
  {
   "cell_type": "code",
   "execution_count": null,
   "id": "parallel-parameter",
   "metadata": {},
   "outputs": [],
   "source": []
  },
  {
   "cell_type": "code",
   "execution_count": null,
   "id": "operating-cleaning",
   "metadata": {},
   "outputs": [],
   "source": []
  },
  {
   "cell_type": "code",
   "execution_count": null,
   "id": "relevant-bedroom",
   "metadata": {},
   "outputs": [],
   "source": []
  },
  {
   "cell_type": "code",
   "execution_count": null,
   "id": "peaceful-martial",
   "metadata": {},
   "outputs": [],
   "source": []
  },
  {
   "cell_type": "code",
   "execution_count": null,
   "id": "increased-scientist",
   "metadata": {},
   "outputs": [],
   "source": []
  },
  {
   "cell_type": "code",
   "execution_count": null,
   "id": "entitled-bryan",
   "metadata": {},
   "outputs": [],
   "source": []
  },
  {
   "cell_type": "code",
   "execution_count": null,
   "id": "alleged-sociology",
   "metadata": {},
   "outputs": [],
   "source": []
  },
  {
   "cell_type": "code",
   "execution_count": null,
   "id": "progressive-remains",
   "metadata": {},
   "outputs": [],
   "source": []
  },
  {
   "cell_type": "code",
   "execution_count": null,
   "id": "average-mercy",
   "metadata": {},
   "outputs": [],
   "source": []
  },
  {
   "cell_type": "code",
   "execution_count": null,
   "id": "saved-minnesota",
   "metadata": {},
   "outputs": [],
   "source": []
  },
  {
   "cell_type": "code",
   "execution_count": null,
   "id": "graduate-lightweight",
   "metadata": {},
   "outputs": [],
   "source": []
  },
  {
   "cell_type": "code",
   "execution_count": null,
   "id": "automated-tanzania",
   "metadata": {},
   "outputs": [],
   "source": []
  },
  {
   "cell_type": "code",
   "execution_count": null,
   "id": "ready-allah",
   "metadata": {},
   "outputs": [],
   "source": []
  },
  {
   "cell_type": "code",
   "execution_count": null,
   "id": "accomplished-parameter",
   "metadata": {},
   "outputs": [],
   "source": []
  },
  {
   "cell_type": "code",
   "execution_count": null,
   "id": "numeric-outreach",
   "metadata": {},
   "outputs": [],
   "source": []
  },
  {
   "cell_type": "code",
   "execution_count": null,
   "id": "designed-legislature",
   "metadata": {},
   "outputs": [],
   "source": []
  },
  {
   "cell_type": "code",
   "execution_count": null,
   "id": "preliminary-craps",
   "metadata": {},
   "outputs": [],
   "source": []
  },
  {
   "cell_type": "code",
   "execution_count": null,
   "id": "innovative-barrel",
   "metadata": {},
   "outputs": [],
   "source": []
  },
  {
   "cell_type": "code",
   "execution_count": null,
   "id": "wired-alcohol",
   "metadata": {},
   "outputs": [],
   "source": []
  },
  {
   "cell_type": "code",
   "execution_count": null,
   "id": "rural-opening",
   "metadata": {},
   "outputs": [],
   "source": []
  },
  {
   "cell_type": "code",
   "execution_count": null,
   "id": "married-edgar",
   "metadata": {},
   "outputs": [],
   "source": []
  },
  {
   "cell_type": "code",
   "execution_count": null,
   "id": "seeing-breath",
   "metadata": {},
   "outputs": [],
   "source": []
  },
  {
   "cell_type": "code",
   "execution_count": null,
   "id": "connected-burden",
   "metadata": {},
   "outputs": [],
   "source": []
  },
  {
   "cell_type": "code",
   "execution_count": null,
   "id": "adverse-prague",
   "metadata": {},
   "outputs": [],
   "source": []
  },
  {
   "cell_type": "code",
   "execution_count": null,
   "id": "respective-knitting",
   "metadata": {},
   "outputs": [],
   "source": []
  },
  {
   "cell_type": "code",
   "execution_count": null,
   "id": "breeding-burner",
   "metadata": {},
   "outputs": [],
   "source": []
  },
  {
   "cell_type": "code",
   "execution_count": null,
   "id": "sixth-holiday",
   "metadata": {},
   "outputs": [],
   "source": []
  },
  {
   "cell_type": "code",
   "execution_count": null,
   "id": "brutal-strike",
   "metadata": {},
   "outputs": [],
   "source": []
  },
  {
   "cell_type": "code",
   "execution_count": null,
   "id": "north-throw",
   "metadata": {},
   "outputs": [],
   "source": []
  },
  {
   "cell_type": "code",
   "execution_count": null,
   "id": "mineral-basin",
   "metadata": {},
   "outputs": [],
   "source": []
  },
  {
   "cell_type": "code",
   "execution_count": null,
   "id": "expanded-setup",
   "metadata": {},
   "outputs": [],
   "source": []
  },
  {
   "cell_type": "code",
   "execution_count": null,
   "id": "shared-literature",
   "metadata": {},
   "outputs": [],
   "source": []
  },
  {
   "cell_type": "code",
   "execution_count": null,
   "id": "subsequent-shooting",
   "metadata": {},
   "outputs": [],
   "source": []
  },
  {
   "cell_type": "code",
   "execution_count": null,
   "id": "large-petite",
   "metadata": {},
   "outputs": [],
   "source": []
  }
 ],
 "metadata": {
  "kernelspec": {
   "display_name": "R",
   "language": "R",
   "name": "ir"
  },
  "language_info": {
   "codemirror_mode": "r",
   "file_extension": ".r",
   "mimetype": "text/x-r-source",
   "name": "R",
   "pygments_lexer": "r",
   "version": "3.6.1"
  }
 },
 "nbformat": 4,
 "nbformat_minor": 5
}
